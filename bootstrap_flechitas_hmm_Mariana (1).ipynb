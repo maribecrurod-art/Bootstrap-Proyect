{
  "cells": [
    {
      "cell_type": "markdown",
      "id": "zfVZHyAfj_Ms",
      "metadata": {
        "id": "zfVZHyAfj_Ms"
      },
      "source": [
        "#Bootstrap + Hidden Markov Models (HMM) — Flechas 9×9\n",
        "\n"
      ]
    },
    {
      "cell_type": "markdown",
      "id": "E2SWrgVbj_Mv",
      "metadata": {
        "id": "E2SWrgVbj_Mv"
      },
      "source": [
        "El siguiente programa permite clasificar matrices binarias de 9x9 (que representan imagenes en blanco y negro), en cuatro categorías distintas de flechas (arriba, abajo, izquierda, derecha), mediante el uso de HMM."
      ]
    },
    {
      "cell_type": "code",
      "execution_count": null,
      "id": "zdTKljO-j_Mw",
      "metadata": {
        "colab": {
          "background_save": true,
          "base_uri": "https://localhost:8080/"
        },
        "collapsed": true,
        "id": "zdTKljO-j_Mw",
        "outputId": "2fc36022-824f-4b0c-c351-6a18ab0cb519"
      },
      "outputs": [
        {
          "output_type": "stream",
          "name": "stderr",
          "text": [
            "\u001b[32m\u001b[1m    Updating\u001b[22m\u001b[39m registry at `~/.julia/registries/General.toml`\n",
            "\u001b[32m\u001b[1m   Resolving\u001b[22m\u001b[39m package versions...\n",
            "\u001b[32m\u001b[1m   Installed\u001b[22m\u001b[39m Libmount_jll ───────────────────── v2.41.2+0\n",
            "\u001b[32m\u001b[1m   Installed\u001b[22m\u001b[39m ImageMagick ────────────────────── v1.4.2\n",
            "\u001b[32m\u001b[1m   Installed\u001b[22m\u001b[39m ImageSegmentation ──────────────── v1.9.0\n",
            "\u001b[32m\u001b[1m   Installed\u001b[22m\u001b[39m TiledIteration ─────────────────── v0.5.0\n",
            "\u001b[32m\u001b[1m   Installed\u001b[22m\u001b[39m NearestNeighbors ───────────────── v0.4.22\n",
            "\u001b[32m\u001b[1m   Installed\u001b[22m\u001b[39m LuxLib ─────────────────────────── v1.12.1\n",
            "\u001b[32m\u001b[1m   Installed\u001b[22m\u001b[39m HistogramThresholding ──────────── v0.3.1\n",
            "\u001b[32m\u001b[1m   Installed\u001b[22m\u001b[39m RegionTrees ────────────────────── v0.3.2\n",
            "\u001b[32m\u001b[1m   Installed\u001b[22m\u001b[39m RealDot ────────────────────────── v0.1.0\n",
            "\u001b[32m\u001b[1m   Installed\u001b[22m\u001b[39m Distances ──────────────────────── v0.10.12\n",
            "\u001b[32m\u001b[1m   Installed\u001b[22m\u001b[39m SLEEFPirates ───────────────────── v0.6.43\n",
            "\u001b[32m\u001b[1m   Installed\u001b[22m\u001b[39m JLD2 ───────────────────────────── v0.5.15\n",
            "\u001b[32m\u001b[1m   Installed\u001b[22m\u001b[39m Polynomials ────────────────────── v4.1.0\n",
            "\u001b[32m\u001b[1m   Installed\u001b[22m\u001b[39m LuxCore ────────────────────────── v1.4.2\n",
            "\u001b[32m\u001b[1m   Installed\u001b[22m\u001b[39m Images ─────────────────────────── v0.26.2\n",
            "\u001b[32m\u001b[1m   Installed\u001b[22m\u001b[39m MetaGraphs ─────────────────────── v0.8.1\n",
            "\u001b[32m\u001b[1m   Installed\u001b[22m\u001b[39m ArnoldiMethod ──────────────────── v0.4.0\n",
            "\u001b[32m\u001b[1m   Installed\u001b[22m\u001b[39m Enzyme ─────────────────────────── v0.13.82\n",
            "\u001b[32m\u001b[1m   Installed\u001b[22m\u001b[39m Clustering ─────────────────────── v0.15.8\n",
            "\u001b[32m\u001b[1m   Installed\u001b[22m\u001b[39m Graphs ─────────────────────────── v1.13.1\n",
            "\u001b[32m\u001b[1m   Installed\u001b[22m\u001b[39m MLDataDevices ──────────────────── v1.13.0\n",
            "\u001b[32m\u001b[1m   Installed\u001b[22m\u001b[39m ManualMemory ───────────────────── v0.1.8\n",
            "\u001b[32m\u001b[1m   Installed\u001b[22m\u001b[39m ThreadingUtilities ─────────────── v0.5.5\n",
            "\u001b[32m\u001b[1m   Installed\u001b[22m\u001b[39m Graphics ───────────────────────── v1.1.3\n",
            "\u001b[32m\u001b[1m   Installed\u001b[22m\u001b[39m CustomUnitRanges ───────────────── v1.0.2\n",
            "\u001b[32m\u001b[1m   Installed\u001b[22m\u001b[39m ComputationalResources ─────────── v0.3.2\n",
            "\u001b[32m\u001b[1m   Installed\u001b[22m\u001b[39m DataStructures ─────────────────── v0.18.22\n",
            "\u001b[32m\u001b[1m   Installed\u001b[22m\u001b[39m StaticArrayInterface ───────────── v1.8.0\n",
            "\u001b[32m\u001b[1m   Installed\u001b[22m\u001b[39m ImageMagick_jll ────────────────── v7.1.2005+0\n",
            "\u001b[32m\u001b[1m   Installed\u001b[22m\u001b[39m CatIndices ─────────────────────── v0.2.2\n",
            "\u001b[32m\u001b[1m   Installed\u001b[22m\u001b[39m BitTwiddlingConvenienceFunctions ─ v0.1.6\n",
            "\u001b[32m\u001b[1m   Installed\u001b[22m\u001b[39m ImageCorners ───────────────────── v0.1.3\n",
            "\u001b[32m\u001b[1m   Installed\u001b[22m\u001b[39m WeightInitializers ─────────────── v1.2.1\n",
            "\u001b[32m\u001b[1m   Installed\u001b[22m\u001b[39m ImageTransformations ───────────── v0.10.2\n",
            "\u001b[32m\u001b[1m   Installed\u001b[22m\u001b[39m libzip_jll ─────────────────────── v1.11.3+0\n",
            "\u001b[32m\u001b[1m   Installed\u001b[22m\u001b[39m Xorg_xcb_util_cursor_jll ───────── v0.1.6+0\n",
            "\u001b[32m\u001b[1m   Installed\u001b[22m\u001b[39m LayoutPointers ─────────────────── v0.1.17\n",
            "\u001b[32m\u001b[1m   Installed\u001b[22m\u001b[39m ImageContrastAdjustment ────────── v0.3.12\n",
            "\u001b[32m\u001b[1m   Installed\u001b[22m\u001b[39m ImageShow ──────────────────────── v0.3.8\n",
            "\u001b[32m\u001b[1m   Installed\u001b[22m\u001b[39m ImageQualityIndexes ────────────── v0.3.7\n",
            "\u001b[32m\u001b[1m   Installed\u001b[22m\u001b[39m PrettyTables ───────────────────── v3.0.11\n",
            "\u001b[32m\u001b[1m   Installed\u001b[22m\u001b[39m EnzymeCore ─────────────────────── v0.8.14\n",
            "\u001b[32m\u001b[1m   Installed\u001b[22m\u001b[39m LoopVectorization ──────────────── v0.12.172\n",
            "\u001b[32m\u001b[1m   Installed\u001b[22m\u001b[39m PolyesterWeave ─────────────────── v0.2.2\n",
            "\u001b[32m\u001b[1m   Installed\u001b[22m\u001b[39m CoordinateTransformations ──────── v0.6.4\n",
            "\u001b[32m\u001b[1m   Installed\u001b[22m\u001b[39m Quaternions ────────────────────── v0.7.6\n",
            "\u001b[32m\u001b[1m   Installed\u001b[22m\u001b[39m IntegralArrays ─────────────────── v0.1.6\n",
            "\u001b[32m\u001b[1m   Installed\u001b[22m\u001b[39m CloseOpenIntervals ─────────────── v0.1.13\n",
            "\u001b[32m\u001b[1m   Installed\u001b[22m\u001b[39m Rotations ──────────────────────── v1.7.1\n",
            "\u001b[32m\u001b[1m   Installed\u001b[22m\u001b[39m Libuuid_jll ────────────────────── v2.41.2+0\n",
            "\u001b[32m\u001b[1m   Installed\u001b[22m\u001b[39m UnPack ─────────────────────────── v1.0.2\n",
            "\u001b[32m\u001b[1m   Installed\u001b[22m\u001b[39m ImageFiltering ─────────────────── v0.7.12\n",
            "\u001b[32m\u001b[1m   Installed\u001b[22m\u001b[39m VectorizationBase ──────────────── v0.21.72\n",
            "\u001b[32m\u001b[1m   Installed\u001b[22m\u001b[39m SimpleWeightedGraphs ───────────── v1.5.0\n",
            "\u001b[32m\u001b[1m   Installed\u001b[22m\u001b[39m Xorg_libXfixes_jll ─────────────── v6.0.2+0\n",
            "\u001b[32m\u001b[1m   Installed\u001b[22m\u001b[39m HostCPUFeatures ────────────────── v0.1.17\n",
            "\u001b[32m\u001b[1m   Installed\u001b[22m\u001b[39m Parameters ─────────────────────── v0.12.3\n",
            "\u001b[32m\u001b[1m   Installed\u001b[22m\u001b[39m OpenJpeg_jll ───────────────────── v2.5.4+0\n",
            "\u001b[32m\u001b[1m   Installed\u001b[22m\u001b[39m ImageBinarization ──────────────── v0.3.1\n",
            "\u001b[32m\u001b[1m   Installed\u001b[22m\u001b[39m ImageDistances ─────────────────── v0.2.17\n",
            "\u001b[32m\u001b[1m   Installed\u001b[22m\u001b[39m FFTViews ───────────────────────── v0.3.2\n",
            "\u001b[32m\u001b[1m   Installed\u001b[22m\u001b[39m LittleCMS_jll ──────────────────── v2.17.0+0\n",
            "\u001b[32m\u001b[1m   Installed\u001b[22m\u001b[39m ImageMorphology ────────────────── v0.4.6\n",
            "\u001b[32m\u001b[1m    Updating\u001b[22m\u001b[39m `~/.julia/environments/v1.11/Project.toml`\n",
            "  \u001b[90m[4e3cecfd] \u001b[39m\u001b[92m+ ImageShow v0.3.8\u001b[39m\n",
            "  \u001b[90m[916415d5] \u001b[39m\u001b[92m+ Images v0.26.2\u001b[39m\n",
            "  \u001b[90m[10745b16] \u001b[39m\u001b[92m+ Statistics v1.11.1\u001b[39m\n",
            "\u001b[32m\u001b[1m    Updating\u001b[22m\u001b[39m `~/.julia/environments/v1.11/Manifest.toml`\n",
            "  \u001b[90m[ec485272] \u001b[39m\u001b[92m+ ArnoldiMethod v0.4.0\u001b[39m\n",
            "  \u001b[90m[62783981] \u001b[39m\u001b[92m+ BitTwiddlingConvenienceFunctions v0.1.6\u001b[39m\n",
            "  \u001b[90m[aafaddc9] \u001b[39m\u001b[92m+ CatIndices v0.2.2\u001b[39m\n",
            "  \u001b[90m[fb6a15b2] \u001b[39m\u001b[92m+ CloseOpenIntervals v0.1.13\u001b[39m\n",
            "  \u001b[90m[aaaa29a8] \u001b[39m\u001b[92m+ Clustering v0.15.8\u001b[39m\n",
            "  \u001b[90m[ed09eef8] \u001b[39m\u001b[92m+ ComputationalResources v0.3.2\u001b[39m\n",
            "  \u001b[90m[150eb455] \u001b[39m\u001b[92m+ CoordinateTransformations v0.6.4\u001b[39m\n",
            "  \u001b[90m[dc8bdbbb] \u001b[39m\u001b[92m+ CustomUnitRanges v1.0.2\u001b[39m\n",
            "\u001b[33m⌅\u001b[39m \u001b[90m[864edb3b] \u001b[39m\u001b[95m↓ DataStructures v0.19.1 ⇒ v0.18.22\u001b[39m\n",
            "  \u001b[90m[b4f34e82] \u001b[39m\u001b[92m+ Distances v0.10.12\u001b[39m\n",
            "  \u001b[90m[7da242da] \u001b[39m\u001b[93m↑ Enzyme v0.13.80 ⇒ v0.13.82\u001b[39m\n",
            "  \u001b[90m[f151be2c] \u001b[39m\u001b[93m↑ EnzymeCore v0.8.13 ⇒ v0.8.14\u001b[39m\n",
            "  \u001b[90m[4f61f5a4] \u001b[39m\u001b[92m+ FFTViews v0.3.2\u001b[39m\n",
            "  \u001b[90m[a2bd30eb] \u001b[39m\u001b[92m+ Graphics v1.1.3\u001b[39m\n",
            "  \u001b[90m[86223c79] \u001b[39m\u001b[92m+ Graphs v1.13.1\u001b[39m\n",
            "  \u001b[90m[2c695a8d] \u001b[39m\u001b[92m+ HistogramThresholding v0.3.1\u001b[39m\n",
            "  \u001b[90m[3e5b6fbb] \u001b[39m\u001b[92m+ HostCPUFeatures v0.1.17\u001b[39m\n",
            "  \u001b[90m[cbc4b850] \u001b[39m\u001b[92m+ ImageBinarization v0.3.1\u001b[39m\n",
            "  \u001b[90m[f332f351] \u001b[39m\u001b[92m+ ImageContrastAdjustment v0.3.12\u001b[39m\n",
            "  \u001b[90m[89d5987c] \u001b[39m\u001b[92m+ ImageCorners v0.1.3\u001b[39m\n",
            "  \u001b[90m[51556ac3] \u001b[39m\u001b[92m+ ImageDistances v0.2.17\u001b[39m\n",
            "  \u001b[90m[6a3955dd] \u001b[39m\u001b[92m+ ImageFiltering v0.7.12\u001b[39m\n",
            "  \u001b[90m[6218d12a] \u001b[39m\u001b[92m+ ImageMagick v1.4.2\u001b[39m\n",
            "\u001b[32m⌃\u001b[39m \u001b[90m[787d08f9] \u001b[39m\u001b[92m+ ImageMorphology v0.4.6\u001b[39m\n",
            "  \u001b[90m[2996bd0c] \u001b[39m\u001b[92m+ ImageQualityIndexes v0.3.7\u001b[39m\n",
            "  \u001b[90m[80713f31] \u001b[39m\u001b[92m+ ImageSegmentation v1.9.0\u001b[39m\n",
            "  \u001b[90m[4e3cecfd] \u001b[39m\u001b[92m+ ImageShow v0.3.8\u001b[39m\n",
            "  \u001b[90m[02fcd773] \u001b[39m\u001b[92m+ ImageTransformations v0.10.2\u001b[39m\n",
            "  \u001b[90m[916415d5] \u001b[39m\u001b[92m+ Images v0.26.2\u001b[39m\n",
            "  \u001b[90m[1d092043] \u001b[39m\u001b[92m+ IntegralArrays v0.1.6\u001b[39m\n",
            "\u001b[32m⌃\u001b[39m \u001b[90m[033835bb] \u001b[39m\u001b[92m+ JLD2 v0.5.15\u001b[39m\n",
            "  \u001b[90m[10f19ff3] \u001b[39m\u001b[92m+ LayoutPointers v0.1.17\u001b[39m\n",
            "  \u001b[90m[bdcacae8] \u001b[39m\u001b[92m+ LoopVectorization v0.12.172\u001b[39m\n",
            "  \u001b[90m[bb33d45b] \u001b[39m\u001b[93m↑ LuxCore v1.4.1 ⇒ v1.4.2\u001b[39m\n",
            "  \u001b[90m[82251201] \u001b[39m\u001b[93m↑ LuxLib v1.12.0 ⇒ v1.12.1\u001b[39m\n",
            "  \u001b[90m[7e8f7934] \u001b[39m\u001b[93m↑ MLDataDevices v1.12.0 ⇒ v1.13.0\u001b[39m\n",
            "  \u001b[90m[d125e4d3] \u001b[39m\u001b[92m+ ManualMemory v0.1.8\u001b[39m\n",
            "  \u001b[90m[626554b9] \u001b[39m\u001b[92m+ MetaGraphs v0.8.1\u001b[39m\n",
            "  \u001b[90m[b8a86587] \u001b[39m\u001b[92m+ NearestNeighbors v0.4.22\u001b[39m\n",
            "  \u001b[90m[d96e819e] \u001b[39m\u001b[92m+ Parameters v0.12.3\u001b[39m\n",
            "  \u001b[90m[1d0040c9] \u001b[39m\u001b[92m+ PolyesterWeave v0.2.2\u001b[39m\n",
            "  \u001b[90m[f27b6e38] \u001b[39m\u001b[92m+ Polynomials v4.1.0\u001b[39m\n",
            "  \u001b[90m[08abe8d2] \u001b[39m\u001b[93m↑ PrettyTables v3.0.10 ⇒ v3.0.11\u001b[39m\n",
            "  \u001b[90m[94ee1d12] \u001b[39m\u001b[92m+ Quaternions v0.7.6\u001b[39m\n",
            "  \u001b[90m[c1ae055f] \u001b[39m\u001b[92m+ RealDot v0.1.0\u001b[39m\n",
            "  \u001b[90m[dee08c22] \u001b[39m\u001b[92m+ RegionTrees v0.3.2\u001b[39m\n",
            "  \u001b[90m[6038ab10] \u001b[39m\u001b[92m+ Rotations v1.7.1\u001b[39m\n",
            "  \u001b[90m[476501e8] \u001b[39m\u001b[92m+ SLEEFPirates v0.6.43\u001b[39m\n",
            "  \u001b[90m[47aef6b3] \u001b[39m\u001b[92m+ SimpleWeightedGraphs v1.5.0\u001b[39m\n",
            "  \u001b[90m[0d7ed370] \u001b[39m\u001b[92m+ StaticArrayInterface v1.8.0\u001b[39m\n",
            "  \u001b[90m[8290d209] \u001b[39m\u001b[92m+ ThreadingUtilities v0.5.5\u001b[39m\n",
            "  \u001b[90m[06e1c1a7] \u001b[39m\u001b[92m+ TiledIteration v0.5.0\u001b[39m\n",
            "  \u001b[90m[3a884ed6] \u001b[39m\u001b[92m+ UnPack v1.0.2\u001b[39m\n",
            "  \u001b[90m[3d5dd08c] \u001b[39m\u001b[92m+ VectorizationBase v0.21.72\u001b[39m\n",
            "  \u001b[90m[d49dbf32] \u001b[39m\u001b[93m↑ WeightInitializers v1.2.0 ⇒ v1.2.1\u001b[39m\n",
            "  \u001b[90m[c73af94c] \u001b[39m\u001b[92m+ ImageMagick_jll v7.1.2005+0\u001b[39m\n",
            "  \u001b[90m[4b2f31a3] \u001b[39m\u001b[93m↑ Libmount_jll v2.41.1+0 ⇒ v2.41.2+0\u001b[39m\n",
            "  \u001b[90m[38a345b3] \u001b[39m\u001b[93m↑ Libuuid_jll v2.41.1+0 ⇒ v2.41.2+0\u001b[39m\n",
            "  \u001b[90m[d3a379c0] \u001b[39m\u001b[92m+ LittleCMS_jll v2.17.0+0\u001b[39m\n",
            "  \u001b[90m[643b3616] \u001b[39m\u001b[92m+ OpenJpeg_jll v2.5.4+0\u001b[39m\n",
            "  \u001b[90m[d091e8ba] \u001b[39m\u001b[93m↑ Xorg_libXfixes_jll v6.0.1+0 ⇒ v6.0.2+0\u001b[39m\n",
            "  \u001b[90m[e920d4aa] \u001b[39m\u001b[93m↑ Xorg_xcb_util_cursor_jll v0.1.5+0 ⇒ v0.1.6+0\u001b[39m\n",
            "  \u001b[90m[337d8026] \u001b[39m\u001b[92m+ libzip_jll v1.11.3+0\u001b[39m\n",
            "\u001b[36m\u001b[1m        Info\u001b[22m\u001b[39m Packages marked with \u001b[32m⌃\u001b[39m and \u001b[33m⌅\u001b[39m have new versions available. Those with \u001b[32m⌃\u001b[39m may be upgradable, but those with \u001b[33m⌅\u001b[39m are restricted by compatibility constraints from upgrading. To see why use `status --outdated -m`\n",
            "\u001b[92m\u001b[1mPrecompiling\u001b[22m\u001b[39m project...\n",
            "   3320.6 ms\u001b[32m  ✓ \u001b[39m\u001b[90mRealDot\u001b[39m\n",
            "   2306.6 ms\u001b[32m  ✓ \u001b[39m\u001b[90mCustomUnitRanges\u001b[39m\n",
            "   2304.4 ms\u001b[32m  ✓ \u001b[39m\u001b[90mUnPack\u001b[39m\n",
            "   1159.4 ms\u001b[32m  ✓ \u001b[39m\u001b[90mManualMemory\u001b[39m\n",
            "   1560.4 ms\u001b[32m  ✓ \u001b[39m\u001b[90mComputationalResources\u001b[39m\n",
            "   1729.3 ms\u001b[32m  ✓ \u001b[39m\u001b[90mEnzymeCore\u001b[39m\n",
            "   1322.1 ms\u001b[32m  ✓ \u001b[39m\u001b[90mIntegralArrays\u001b[39m\n",
            "   1924.1 ms\u001b[32m  ✓ \u001b[39m\u001b[90mDistances\u001b[39m\n",
            "   1822.9 ms\u001b[32m  ✓ \u001b[39m\u001b[90mGraphics\u001b[39m\n",
            "   1961.9 ms\u001b[32m  ✓ \u001b[39m\u001b[90mMLDataDevices\u001b[39m\n",
            "   1504.3 ms\u001b[32m  ✓ \u001b[39m\u001b[90mLibuuid_jll\u001b[39m\n",
            "   1883.6 ms\u001b[32m  ✓ \u001b[39m\u001b[90mLibmount_jll\u001b[39m\n",
            "   6300.7 ms\u001b[32m  ✓ \u001b[39m\u001b[90mDataStructures\u001b[39m\n",
            "   5300.0 ms\u001b[32m  ✓ \u001b[39m\u001b[90mLuxCore\u001b[39m\n",
            "   2379.8 ms\u001b[32m  ✓ \u001b[39m\u001b[90mLittleCMS_jll\u001b[39m\n",
            "   3572.1 ms\u001b[32m  ✓ \u001b[39m\u001b[90mStaticArrayInterface\u001b[39m\n",
            "   2139.4 ms\u001b[32m  ✓ \u001b[39m\u001b[90mlibzip_jll\u001b[39m\n",
            "   3696.5 ms\u001b[32m  ✓ \u001b[39m\u001b[90mArnoldiMethod\u001b[39m\n",
            "   2783.7 ms\u001b[32m  ✓ \u001b[39m\u001b[90mCoordinateTransformations\u001b[39m\n",
            "   2559.3 ms\u001b[32m  ✓ \u001b[39m\u001b[90mRegionTrees\u001b[39m\n",
            "   1738.5 ms\u001b[32m  ✓ \u001b[39m\u001b[90mBitTwiddlingConvenienceFunctions\u001b[39m\n",
            "   6344.0 ms\u001b[32m  ✓ \u001b[39mImageShow\n",
            " 110850.4 ms\u001b[32m  ✓ \u001b[39m\u001b[90mPolynomials\u001b[39m\n",
            "   9805.7 ms\u001b[32m  ✓ \u001b[39m\u001b[90mWeightInitializers\u001b[39m\n",
            "   4453.9 ms\u001b[32m  ✓ \u001b[39m\u001b[90mHistogramThresholding\u001b[39m\n",
            "   2155.3 ms\u001b[32m  ✓ \u001b[39m\u001b[90mXorg_libXfixes_jll\u001b[39m\n",
            "   1718.9 ms\u001b[32m  ✓ \u001b[39m\u001b[90mXorg_xcb_util_cursor_jll\u001b[39m\n",
            "   1503.5 ms\u001b[32m  ✓ \u001b[39m\u001b[90mQuaternions\u001b[39m\n",
            "   1501.7 ms\u001b[32m  ✓ \u001b[39m\u001b[90mCatIndices\u001b[39m\n",
            "   2942.8 ms\u001b[32m  ✓ \u001b[39m\u001b[90mFFTViews\u001b[39m\n",
            "   1581.4 ms\u001b[32m  ✓ \u001b[39m\u001b[90mParameters\u001b[39m\n",
            "   2641.1 ms\u001b[32m  ✓ \u001b[39m\u001b[90mThreadingUtilities\u001b[39m\n",
            "   1749.6 ms\u001b[32m  ✓ \u001b[39m\u001b[90mEnzymeCore → AdaptExt\u001b[39m\n",
            "   1367.6 ms\u001b[32m  ✓ \u001b[39m\u001b[90mADTypes → ADTypesEnzymeCoreExt\u001b[39m\n",
            " 180996.5 ms\u001b[32m  ✓ \u001b[39m\u001b[90mPrettyTables\u001b[39m\n",
            "   1611.0 ms\u001b[32m  ✓ \u001b[39m\u001b[90mDispatchDoctor → DispatchDoctorEnzymeCoreExt\u001b[39m\n",
            "   2254.5 ms\u001b[32m  ✓ \u001b[39m\u001b[90mOptimisers → OptimisersEnzymeCoreExt\u001b[39m\n",
            "   2708.1 ms\u001b[32m  ✓ \u001b[39m\u001b[90mKernelAbstractions → EnzymeExt\u001b[39m\n",
            "   2921.2 ms\u001b[32m  ✓ \u001b[39m\u001b[90mNNlib → NNlibEnzymeCoreExt\u001b[39m\n",
            "   1504.7 ms\u001b[32m  ✓ \u001b[39m\u001b[90mDistances → DistancesSparseArraysExt\u001b[39m\n",
            "  10124.7 ms\u001b[32m  ✓ \u001b[39m\u001b[90mNearestNeighbors\u001b[39m\n",
            "   1271.3 ms\u001b[32m  ✓ \u001b[39m\u001b[90mDistances → DistancesChainRulesCoreExt\u001b[39m\n",
            " 184143.8 ms\u001b[32m  ✓ \u001b[39m\u001b[90mJLD2\u001b[39m\n",
            "   1592.0 ms\u001b[32m  ✓ \u001b[39m\u001b[90mMLDataDevices → MLDataDevicesFillArraysExt\u001b[39m\n",
            "   1856.5 ms\u001b[32m  ✓ \u001b[39m\u001b[90mMLDataDevices → MLDataDevicesSparseArraysExt\u001b[39m\n",
            "   1697.5 ms\u001b[32m  ✓ \u001b[39m\u001b[90mMLDataDevices → MLDataDevicesChainRulesCoreExt\u001b[39m\n",
            "   6172.7 ms\u001b[32m  ✓ \u001b[39m\u001b[90mMLDataDevices → MLDataDevicesGPUArraysExt\u001b[39m\n",
            "   3760.4 ms\u001b[32m  ✓ \u001b[39m\u001b[90mFontconfig_jll\u001b[39m\n",
            "   1442.4 ms\u001b[32m  ✓ \u001b[39m\u001b[90mSortingAlgorithms\u001b[39m\n",
            "   2640.7 ms\u001b[32m  ✓ \u001b[39m\u001b[90mGlib_jll\u001b[39m\n",
            "   3240.2 ms\u001b[32m  ✓ \u001b[39m\u001b[90mQuadGK\u001b[39m\n",
            "  25648.0 ms\u001b[32m  ✓ \u001b[39m\u001b[90mMathTeXEngine\u001b[39m\n",
            "   1525.7 ms\u001b[32m  ✓ \u001b[39m\u001b[90mLuxCore → LuxCoreChainRulesCoreExt\u001b[39m\n",
            "   1279.4 ms\u001b[32m  ✓ \u001b[39m\u001b[90mLuxCore → LuxCoreEnzymeCoreExt\u001b[39m\n",
            "   1423.0 ms\u001b[32m  ✓ \u001b[39m\u001b[90mLuxCore → LuxCoreMLDataDevicesExt\u001b[39m\n",
            "   2041.3 ms\u001b[32m  ✓ \u001b[39m\u001b[90mLuxCore → LuxCoreFunctorsExt\u001b[39m\n",
            "   1941.0 ms\u001b[32m  ✓ \u001b[39m\u001b[90mLuxCore → LuxCoreSetfieldExt\u001b[39m\n",
            "   2003.2 ms\u001b[32m  ✓ \u001b[39m\u001b[90mOpenJpeg_jll\u001b[39m\n",
            "   1117.3 ms\u001b[32m  ✓ \u001b[39m\u001b[90mStaticArrayInterface → StaticArrayInterfaceOffsetArraysExt\u001b[39m\n",
            "   2123.0 ms\u001b[32m  ✓ \u001b[39m\u001b[90mStaticArrayInterface → StaticArrayInterfaceStaticArraysExt\u001b[39m\n",
            "   1575.3 ms\u001b[32m  ✓ \u001b[39m\u001b[90mCloseOpenIntervals\u001b[39m\n",
            "   1862.3 ms\u001b[32m  ✓ \u001b[39m\u001b[90mLayoutPointers\u001b[39m\n",
            "  18688.2 ms\u001b[32m  ✓ \u001b[39m\u001b[90mGraphs\u001b[39m\n",
            "   3379.9 ms\u001b[32m  ✓ \u001b[39m\u001b[90mHostCPUFeatures\u001b[39m\n",
            "   4074.8 ms\u001b[32m  ✓ \u001b[39m\u001b[90mPolynomials → PolynomialsChainRulesCoreExt\u001b[39m\n",
            "   5445.1 ms\u001b[32m  ✓ \u001b[39m\u001b[90mPolynomials → PolynomialsFFTWExt\u001b[39m\n",
            "   5293.8 ms\u001b[32m  ✓ \u001b[39m\u001b[90mWeightInitializers → WeightInitializersGPUArraysExt\u001b[39m\n",
            "   2609.1 ms\u001b[32m  ✓ \u001b[39m\u001b[90mWeightInitializers → WeightInitializersChainRulesCoreExt\u001b[39m\n",
            "   8783.4 ms\u001b[32m  ✓ \u001b[39m\u001b[90mImageBinarization\u001b[39m\n",
            "   2074.9 ms\u001b[32m  ✓ \u001b[39m\u001b[90mXorg_libXcursor_jll\u001b[39m\n",
            "   2059.5 ms\u001b[32m  ✓ \u001b[39m\u001b[90mXorg_libXi_jll\u001b[39m\n",
            "   6944.6 ms\u001b[32m  ✓ \u001b[39m\u001b[90mRotations\u001b[39m\n",
            "   1741.3 ms\u001b[32m  ✓ \u001b[39m\u001b[90mPolyesterWeave\u001b[39m\n",
            "   4136.0 ms\u001b[32m  ✓ \u001b[39m\u001b[90mJLD2 → UnPackExt\u001b[39m\n",
            "   6645.1 ms\u001b[32m  ✓ \u001b[39m\u001b[90mGPUArrays → JLD2Ext\u001b[39m\n",
            "   6547.4 ms\u001b[32m  ✓ \u001b[39m\u001b[90mStatsBase\u001b[39m\n",
            " 174188.2 ms\u001b[32m  ✓ \u001b[39m\u001b[90mTiffImages\u001b[39m\n",
            "   4305.0 ms\u001b[32m  ✓ \u001b[39m\u001b[90mQt6Base_jll\u001b[39m\n",
            "   3222.6 ms\u001b[32m  ✓ \u001b[39m\u001b[90mCairo_jll\u001b[39m\n",
            "  14903.9 ms\u001b[32m  ✓ \u001b[39m\u001b[90mLuxLib\u001b[39m\n",
            "   2834.1 ms\u001b[32m  ✓ \u001b[39m\u001b[90mImageMagick_jll\u001b[39m\n",
            "   1808.5 ms\u001b[32m  ✓ \u001b[39m\u001b[90mTiledIteration\u001b[39m\n",
            "   9042.0 ms\u001b[32m  ✓ \u001b[39m\u001b[90mMetaGraphs\u001b[39m\n",
            "   3750.2 ms\u001b[32m  ✓ \u001b[39m\u001b[90mSimpleWeightedGraphs\u001b[39m\n",
            "  37752.2 ms\u001b[32m  ✓ \u001b[39m\u001b[90mVectorizationBase\u001b[39m\n",
            "   2080.9 ms\u001b[32m  ✓ \u001b[39m\u001b[90mRotations → RotationsRecipesBaseExt\u001b[39m\n",
            "   7841.9 ms\u001b[32m  ✓ \u001b[39m\u001b[90mImageTransformations\u001b[39m\n",
            "   5911.2 ms\u001b[32m  ✓ \u001b[39m\u001b[90mClustering\u001b[39m\n",
            "  18650.4 ms\u001b[32m  ✓ \u001b[39m\u001b[90mDistributions\u001b[39m\n",
            "   2236.4 ms\u001b[32m  ✓ \u001b[39m\u001b[90mQt6ShaderTools_jll\u001b[39m\n",
            "   2578.4 ms\u001b[32m  ✓ \u001b[39m\u001b[90mHarfBuzz_jll\u001b[39m\n",
            "  88678.4 ms\u001b[32m  ✓ \u001b[39mLux\n",
            " 265006.8 ms\u001b[32m  ✓ \u001b[39mDataFrames\n",
            "  17801.3 ms\u001b[32m  ✓ \u001b[39m\u001b[90mImageMagick\u001b[39m\n",
            "   3964.9 ms\u001b[32m  ✓ \u001b[39m\u001b[90mSLEEFPirates\u001b[39m\n",
            "   9494.8 ms\u001b[32m  ✓ \u001b[39m\u001b[90mImageContrastAdjustment\u001b[39m\n",
            "   5049.5 ms\u001b[32m  ✓ \u001b[39m\u001b[90mDistributions → DistributionsTestExt\u001b[39m\n",
            "   3196.7 ms\u001b[32m  ✓ \u001b[39m\u001b[90mDistributions → DistributionsChainRulesCoreExt\u001b[39m\n",
            "   8630.5 ms\u001b[32m  ✓ \u001b[39m\u001b[90mQt6Declarative_jll\u001b[39m\n",
            "   2860.9 ms\u001b[32m  ✓ \u001b[39m\u001b[90mlibass_jll\u001b[39m\n",
            "   2272.9 ms\u001b[32m  ✓ \u001b[39m\u001b[90mPango_jll\u001b[39m\n",
            "   6225.4 ms\u001b[32m  ✓ \u001b[39m\u001b[90mLatexify → DataFramesExt\u001b[39m\n",
            " 630225.1 ms\u001b[32m  ✓ \u001b[39m\u001b[90mEnzyme\u001b[39m\n",
            " 143406.7 ms\u001b[32m  ✓ \u001b[39m\u001b[90mLoopVectorization\u001b[39m\n",
            " 329296.5 ms\u001b[32m  ✓ \u001b[39m\u001b[90mImageFiltering\u001b[39m\n",
            "   8685.7 ms\u001b[32m  ✓ \u001b[39m\u001b[90mLuxLib → LuxLibSLEEFPiratesExt\u001b[39m\n",
            "   5164.8 ms\u001b[32m  ✓ \u001b[39m\u001b[90mKernelDensity\u001b[39m\n",
            "   2755.8 ms\u001b[32m  ✓ \u001b[39m\u001b[90mQt6Wayland_jll\u001b[39m\n",
            "   3270.1 ms\u001b[32m  ✓ \u001b[39m\u001b[90mFFMPEG_jll\u001b[39m\n",
            "   3827.1 ms\u001b[32m  ✓ \u001b[39m\u001b[90mlibdecor_jll\u001b[39m\n",
            "   9632.3 ms\u001b[32m  ✓ \u001b[39m\u001b[90mEnzyme → EnzymeSpecialFunctionsExt\u001b[39m\n",
            "   8192.5 ms\u001b[32m  ✓ \u001b[39m\u001b[90mEnzyme → EnzymeStaticArraysExt\u001b[39m\n",
            "   8249.7 ms\u001b[32m  ✓ \u001b[39m\u001b[90mEnzyme → EnzymeChainRulesCoreExt\u001b[39m\n",
            "   7969.0 ms\u001b[32m  ✓ \u001b[39m\u001b[90mEnzyme → EnzymeLogExpFunctionsExt\u001b[39m\n",
            "   6383.5 ms\u001b[32m  ✓ \u001b[39m\u001b[90mEnzyme → EnzymeBFloat16sExt\u001b[39m\n",
            "   6509.1 ms\u001b[32m  ✓ \u001b[39m\u001b[90mEnzyme → EnzymeGPUArraysCoreExt\u001b[39m\n",
            "   5031.5 ms\u001b[32m  ✓ \u001b[39m\u001b[90mLuxLib → LuxLibEnzymeExt\u001b[39m\n",
            "   8181.5 ms\u001b[32m  ✓ \u001b[39m\u001b[90mQuadGK → QuadGKEnzymeExt\u001b[39m\n",
            "   2665.9 ms\u001b[32m  ✓ \u001b[39m\u001b[90mLoopVectorization → SpecialFunctionsExt\u001b[39m\n",
            " 323032.5 ms\u001b[32m  ✓ \u001b[39mCUDA\n",
            "   3266.7 ms\u001b[32m  ✓ \u001b[39m\u001b[90mLoopVectorization → ForwardDiffExt\u001b[39m\n",
            "  10719.8 ms\u001b[32m  ✓ \u001b[39mLux → LuxEnzymeExt\n",
            "   2894.2 ms\u001b[32m  ✓ \u001b[39m\u001b[90mFFMPEG\u001b[39m\n",
            "  13565.7 ms\u001b[32m  ✓ \u001b[39m\u001b[90mImageMorphology\u001b[39m\n",
            "   2239.8 ms\u001b[32m  ✓ \u001b[39m\u001b[90mGLFW_jll\u001b[39m\n",
            "  50996.8 ms\u001b[32m  ✓ \u001b[39m\u001b[90mImageCorners\u001b[39m\n",
            "  23640.2 ms\u001b[32m  ✓ \u001b[39mCUDA → ChainRulesCoreExt\n",
            "  23861.8 ms\u001b[32m  ✓ \u001b[39mCUDA → SpecialFunctionsExt\n",
            "  23191.5 ms\u001b[32m  ✓ \u001b[39mCUDA → EnzymeCoreExt\n",
            "  21151.5 ms\u001b[32m  ✓ \u001b[39m\u001b[90mAtomix → AtomixCUDAExt\u001b[39m\n",
            "  21493.6 ms\u001b[32m  ✓ \u001b[39m\u001b[90mArrayInterface → ArrayInterfaceCUDAExt\u001b[39m\n",
            "  23159.6 ms\u001b[32m  ✓ \u001b[39m\u001b[90mNNlib → NNlibCUDAExt\u001b[39m\n",
            "  21489.8 ms\u001b[32m  ✓ \u001b[39m\u001b[90mMLDataDevices → MLDataDevicesCUDAExt\u001b[39m\n",
            "  22115.9 ms\u001b[32m  ✓ \u001b[39m\u001b[90mWeightInitializers → WeightInitializersCUDAExt\u001b[39m\n",
            "  23391.7 ms\u001b[32m  ✓ \u001b[39m\u001b[90mLuxLib → LuxLibCUDAExt\u001b[39m\n",
            "   5690.9 ms\u001b[32m  ✓ \u001b[39m\u001b[90mImageDistances\u001b[39m\n",
            "  14434.8 ms\u001b[32m  ✓ \u001b[39m\u001b[90mImageSegmentation\u001b[39m\n",
            "   3827.1 ms\u001b[32m  ✓ \u001b[39m\u001b[90mGR_jll\u001b[39m\n"
          ]
        }
      ],
      "source": [
        "using Pkg\n",
        "Pkg.add([\"Plots\",\"Images\",\"ImageShow\",\"Statistics\"])\n"
      ]
    },
    {
      "cell_type": "code",
      "execution_count": null,
      "id": "Q3iHPAtit5ST",
      "metadata": {
        "colab": {
          "background_save": true
        },
        "id": "Q3iHPAtit5ST"
      },
      "outputs": [],
      "source": [
        "Pkg.add(\"ImageCore\")"
      ]
    },
    {
      "cell_type": "code",
      "execution_count": null,
      "id": "t-HkW-Etj_My",
      "metadata": {
        "colab": {
          "background_save": true
        },
        "id": "t-HkW-Etj_My"
      },
      "outputs": [],
      "source": [
        "using Random\n",
        "using LinearAlgebra\n",
        "using Statistics\n",
        "using Plots\n",
        "using Images, ImageCore\n"
      ]
    },
    {
      "cell_type": "markdown",
      "id": "561B9jMUj_My",
      "metadata": {
        "id": "561B9jMUj_My"
      },
      "source": [
        "## 1) Define Patrones:\n",
        " Se crean cuatro \"imágenes\" perfectas de 9x9 píxeles (matrices de 0s y 1s) que representan las cuatro direcciones de las flechas."
      ]
    },
    {
      "cell_type": "code",
      "execution_count": null,
      "id": "M-IgiNb3j_My",
      "metadata": {
        "colab": {
          "background_save": true
        },
        "id": "M-IgiNb3j_My"
      },
      "outputs": [],
      "source": [
        "function pattern_from_strings(lines::Vector{String})\n",
        "    n = length(lines)\n",
        "    M = zeros(Int, n, n)\n",
        "    for i in 1:n\n",
        "        for j in 1:n\n",
        "            M[i,j] = lines[i][j] == '1' ? 1 : 0\n",
        "        end\n",
        "    end\n",
        "    return M\n",
        "end\n",
        "\n",
        "N = 9\n",
        "up_pat = [\n",
        "  \"000010000\",\n",
        "  \"000111000\",\n",
        "  \"001010100\",\n",
        "  \"000010000\",\n",
        "  \"000010000\",\n",
        "  \"000010000\",\n",
        "  \"000010000\",\n",
        "  \"000010000\",\n",
        "  \"000010000\"\n",
        "]\n",
        "\n",
        "up = pattern_from_strings(up_pat)\n",
        "down = reverse(up, dims=1)\n",
        "function rot90cw(M)\n",
        "    return reverse(permutedims(M, (2,1)), dims=2)\n",
        "end\n",
        "function rot90ccw(M)\n",
        "    return reverse(permutedims(M, (2,1)), dims=1)\n",
        "end\n",
        "right = rot90cw(up)\n",
        "left = rot90ccw(up)\n",
        "\n",
        "# Mostrar plantillas (texto)\n",
        "for (name, M) in zip([\"up\",\"down\",\"left\",\"right\"], [up,down,left,right])\n",
        "    println(\"\\nPlantilla: \", name)\n",
        "    for i in 1:N\n",
        "        println(join(string.(M[i,:]), \"\"))\n",
        "    end\n",
        "end\n"
      ]
    },
    {
      "cell_type": "markdown",
      "id": "GLq5IFzlj_Mz",
      "metadata": {
        "id": "GLq5IFzlj_Mz"
      },
      "source": [
        "#2) Genera Datos de Entrenamiento:\n",
        "Crea un conjunto de datos sintético. Toma los patrones perfectos y les añade \"ruido\" (invierte aleatoriamente algunos píxeles) para simular imágenes imperfectas."
      ]
    },
    {
      "cell_type": "code",
      "execution_count": null,
      "id": "BhGkyMeOj_M0",
      "metadata": {
        "colab": {
          "background_save": true
        },
        "id": "BhGkyMeOj_M0"
      },
      "outputs": [],
      "source": [
        "\n",
        "function add_noise(M::Array{Int,2}; p::Float64=0.05)\n",
        "    R = copy(M)\n",
        "    for idx in eachindex(R)\n",
        "        if rand() < p\n",
        "            R[idx] = 1 - R[idx]\n",
        "        end\n",
        "    end\n",
        "    return R\n",
        "end\n",
        "\n",
        "function mat_to_obs(M::Array{Int,2})\n",
        "    v = vec(transpose(M))  # aplana por filas: fila-major\n",
        "    return [x==0 ? 1 : 2 for x in v] #por lo de indexación\n",
        "end\n",
        "\n",
        "function gen_samples(pattern::Array{Int,2}, n::Int; noise::Float64=0.05)\n",
        "    seqs = Vector{Vector{Int}}()\n",
        "    mats = Vector{Array{Int,2}}()\n",
        "    for i in 1:n\n",
        "        M = add_noise(pattern, p=noise)\n",
        "        push!(mats, M)\n",
        "        push!(seqs, mat_to_obs(M))\n",
        "    end\n",
        "    return seqs, mats\n",
        "end\n"
      ]
    },
    {
      "cell_type": "markdown",
      "id": "DaeZL4Mrj_M0",
      "metadata": {
        "id": "DaeZL4Mrj_M0"
      },
      "source": [
        "## 3) Implementación HMM  — Forward/Backward escalado y Baum–Welch\n",
        "\n",
        "Implementamos funciones para entrenamiento y evaluación.\n"
      ]
    },
    {
      "cell_type": "code",
      "execution_count": null,
      "id": "5m9sSoMYj_M1",
      "metadata": {
        "colab": {
          "background_save": true
        },
        "id": "5m9sSoMYj_M1",
        "outputId": "e97809fe-6eb7-4ccf-a14e-a0430b5de530"
      },
      "outputs": [
        {
          "data": {
            "text/plain": [
              "model_loglik (generic function with 1 method)"
            ]
          },
          "execution_count": 6,
          "metadata": {},
          "output_type": "execute_result"
        }
      ],
      "source": [
        "epsval() = eps(Float64) #evita errores de div por cero\n",
        "function init_hmm(K::Int, M::Int)\n",
        "    A = rand(K,K)\n",
        "    A .= A ./ sum(A, dims=2)\n",
        "    B = rand(K,M)\n",
        "    B .= B ./ sum(B, dims=2)\n",
        "    π = rand(K)\n",
        "    π ./= sum(π)\n",
        "    return A, B, π\n",
        "end\n",
        "\n",
        "function forward_scaled(O::Vector{Int}, A::Array{Float64,2}, B::Array{Float64,2}, π::Vector{Float64})\n",
        "    K = size(A,1); T = length(O)\n",
        "    α = zeros(Float64, K, T)\n",
        "    c = zeros(Float64, T)\n",
        "    for k in 1:K\n",
        "        α[k,1] = π[k] * B[k, O[1]]\n",
        "    end\n",
        "    c[1] = sum(α[:,1])\n",
        "    c[1] = c[1] == 0.0 ? epsval() : c[1]\n",
        "    α[:,1] ./= c[1]\n",
        "    for t in 2:T\n",
        "        for k in 1:K\n",
        "            α[k,t] = B[k, O[t]] * sum(α[:,t-1] .* A[:,k])\n",
        "        end\n",
        "        c[t] = sum(α[:,t])\n",
        "        c[t] = c[t] == 0.0 ? epsval() : c[t]\n",
        "        α[:,t] ./= c[t]\n",
        "    end\n",
        "    loglik = sum(log.(c))\n",
        "    return α, c, loglik\n",
        "end\n",
        "\n",
        "function backward_scaled(O::Vector{Int}, A::Array{Float64,2}, B::Array{Float64,2}, c::Vector{Float64})\n",
        "    K = size(A,1); T = length(O)\n",
        "    β = zeros(Float64, K, T)\n",
        "    β[:,T] .= 1.0\n",
        "    β[:,T] ./= c[T]\n",
        "    for t in (T-1):-1:1\n",
        "        for i in 1:K\n",
        "            s = 0.0\n",
        "            for j in 1:K\n",
        "                s += A[i,j] * B[j, O[t+1]] * β[j, t+1]\n",
        "            end\n",
        "            β[i,t] = s\n",
        "        end\n",
        "        β[:,t] ./= c[t]\n",
        "    end\n",
        "    return β\n",
        "end\n",
        "\n",
        "function compute_gamma_xi(O::Vector{Int}, A::Array{Float64,2}, B::Array{Float64,2}, π::Vector{Float64})\n",
        "    α, c, loglik = forward_scaled(O,A,B,π)\n",
        "    β = backward_scaled(O,A,B,c)\n",
        "    K = size(A,1); T = length(O)\n",
        "    gamma = zeros(Float64, K, T)\n",
        "    xi = zeros(Float64, K, K, max(0,T-1))\n",
        "    for t in 1:T\n",
        "        denom = sum(α[:,t] .* β[:,t])\n",
        "        denom = denom == 0.0 ? epsval() : denom\n",
        "        gamma[:,t] = (α[:,t] .* β[:,t]) ./ denom\n",
        "    end\n",
        "    for t in 1:T-1\n",
        "        denom = 0.0\n",
        "        for i in 1:K, j in 1:K\n",
        "            denom += α[i,t] * A[i,j] * B[j, O[t+1]] * β[j, t+1]\n",
        "        end\n",
        "        denom = denom == 0.0 ? epsval() : denom\n",
        "        for i in 1:K, j in 1:K\n",
        "            xi[i,j,t] = α[i,t] * A[i,j] * B[j, O[t+1]] * β[j, t+1] / denom\n",
        "        end\n",
        "    end\n",
        "    return gamma, xi, loglik\n",
        "end\n",
        "\n",
        "function baum_welch(sequences::Vector{Vector{Int}}, K::Int; M::Int=2, max_iter::Int=50, tol::Float64=1e-4)\n",
        "    A, B, π = init_hmm(K, M)\n",
        "    prev_ll = -Inf\n",
        "    for iter in 1:max_iter\n",
        "        A_num = zeros(Float64, K, K)\n",
        "        A_den = zeros(Float64, K)\n",
        "        B_num = zeros(Float64, K, M)\n",
        "        B_den = zeros(Float64, K)\n",
        "        π_acc = zeros(Float64, K)\n",
        "        total_loglik = 0.0\n",
        "        for O in sequences\n",
        "            gamma, xi, loglik = compute_gamma_xi(O, A, B, π)\n",
        "            total_loglik += loglik\n",
        "            T = length(O)\n",
        "            π_acc .+= gamma[:,1]\n",
        "            if T > 1\n",
        "                for t in 1:(T-1)\n",
        "                    A_num .+= xi[:,:,t]\n",
        "                    A_den .+= gamma[:,t]\n",
        "                end\n",
        "            end\n",
        "            for t in 1:T\n",
        "                for k in 1:K\n",
        "                    B_num[k, O[t]] += gamma[k,t]\n",
        "                    B_den[k] += gamma[k,t]\n",
        "                end\n",
        "            end\n",
        "        end\n",
        "        π = π_acc ./ sum(π_acc)\n",
        "        for i in 1:K\n",
        "            for j in 1:K\n",
        "                A[i,j] = A_den[i] == 0.0 ? 1.0/K : A_num[i,j] / (A_den[i] + epsval())\n",
        "            end\n",
        "            s = sum(A[i,:])\n",
        "            A[i,:] ./= (s == 0.0 ? 1.0 : s)\n",
        "        end\n",
        "        for k in 1:K\n",
        "            for v in 1:M\n",
        "                B[k,v] = B_num[k,v] / (B_den[k] + epsval())\n",
        "            end\n",
        "            s = sum(B[k,:])\n",
        "            B[k,:] ./= (s == 0.0 ? 1.0 : s)\n",
        "        end\n",
        "        if iter > 1 && abs(total_loglik - prev_ll) < tol * (abs(prev_ll) + epsval())\n",
        "            println(\"Convergencia en iteración \", iter, \", loglik = \", total_loglik)\n",
        "            break\n",
        "        end\n",
        "        prev_ll = total_loglik\n",
        "    end\n",
        "    return Dict(:A=>A, :B=>B, :π=>π, :loglik=>prev_ll)\n",
        "end\n",
        "\n",
        "function model_loglik(O::Vector{Int}, model::Dict)\n",
        "    _, _, loglik = forward_scaled(O, model[:A], model[:B], model[:π])\n",
        "    return loglik\n",
        "end\n"
      ]
    },
    {
      "cell_type": "markdown",
      "id": "gWfAV26Xj_M1",
      "metadata": {
        "id": "gWfAV26Xj_M1"
      },
      "source": [
        "## 4) Dataset, entrenamiento y evaluación\n",
        "\n",
        "Genera datasets de entrenamiento y prueba, y entrena un HMM por clase\n",
        "\n"
      ]
    },
    {
      "cell_type": "code",
      "execution_count": null,
      "id": "cJbKrrYTj_M2",
      "metadata": {
        "colab": {
          "background_save": true
        },
        "id": "cJbKrrYTj_M2",
        "outputId": "804fe832-7f0c-41ae-aa6f-71bfb7f73f76"
      },
      "outputs": [
        {
          "name": "stdout",
          "output_type": "stream",
          "text": [
            "Dataset creado. Ejemplos por clase (train/test):\n",
            "Clase 1: train=120 test=40\n",
            "Clase 2: train=120 test=40\n",
            "Clase 3: train=120 test=40\n",
            "Clase 4: train=120 test=40\n",
            "Entrenando clase 1...\n",
            "Convergencia en iteración 6, loglik = -5068.491744846146\n",
            "  loglik entreno (aprox): -5068.868129255203\n",
            "Entrenando clase 2...\n",
            "Convergencia en iteración 6, loglik = -5100.243744021121\n",
            "  loglik entreno (aprox): -5100.748837040401\n",
            "Entrenando clase 3...\n",
            "Convergencia en iteración 20, loglik = -4270.44304179025\n",
            "  loglik entreno (aprox): -4270.853703207325\n",
            "Entrenando clase 4...\n",
            "  loglik entreno (aprox): -4151.960639392751\n",
            "Accuracy en test: 58.75%\n",
            "Clase 1: correct=36 / total=40 => 90.0%\n",
            "Clase 2: correct=4 / total=40 => 10.0%\n",
            "Clase 3: correct=24 / total=40 => 60.0%\n",
            "Clase 4: correct=30 / total=40 => 75.0%\n"
          ]
        }
      ],
      "source": [
        "Ntrain = 120\n",
        "Ntest = 40\n",
        "noise = 0.08\n",
        "classes = Dict(1=>up, 2=>down, 3=>left, 4=>right)\n",
        "train_seqs = Dict{Int, Vector{Vector{Int}}}()\n",
        "train_mats = Dict{Int, Vector{Array{Int,2}}}()\n",
        "test_seqs = Dict{Int, Vector{Vector{Int}}}()\n",
        "test_mats = Dict{Int, Vector{Array{Int,2}}}()\n",
        "for (lab, pat) in pairs(classes)\n",
        "    s, ms = gen_samples(pat, Ntrain, noise=noise)\n",
        "    train_seqs[lab] = s\n",
        "    train_mats[lab] = ms\n",
        "    Random.seed!(1234 + lab)\n",
        "    ts, tms = gen_samples(pat, Ntest, noise=noise)\n",
        "    test_seqs[lab] = ts\n",
        "    test_mats[lab] = tms\n",
        "end\n",
        "println(\"Dataset creado. Ejemplos por clase (train/test):\")\n",
        "for lab in sort(collect(keys(classes)))\n",
        "    println(\"Clase $lab: train=$(length(train_seqs[lab])) test=$(length(test_seqs[lab]))\")\n",
        "end\n",
        "\n",
        "K = 6  # estados ocultos\n",
        "models = Dict{Int, Dict}()\n",
        "for lab in sort(collect(keys(classes)))\n",
        "    println(\"Entrenando clase $lab...\")\n",
        "    models[lab] = baum_welch(train_seqs[lab], K; M=2, max_iter=60)\n",
        "    println(\"  loglik entreno (aprox): \", models[lab][:loglik])\n",
        "end\n",
        "\n",
        "function evaluate_models(models, test_seqs)\n",
        "    total = 0; correct = 0\n",
        "    perclass = Dict{Int, Tuple{Int,Int}}()\n",
        "    for lab in keys(test_seqs)\n",
        "        perclass[lab] = (0,0)\n",
        "    end\n",
        "    lablist = sort(collect(keys(models)))\n",
        "    for lab in lablist\n",
        "        for O in test_seqs[lab]\n",
        "            scores = [model_loglik(O, models[k]) for k in lablist]\n",
        "            idx = findmax(scores)[2]\n",
        "            pred = lablist[idx]\n",
        "            total += 1\n",
        "            if pred == lab\n",
        "                correct += 1\n",
        "                perclass[lab] = (perclass[lab][1]+1, perclass[lab][2]+1)\n",
        "            else\n",
        "                perclass[lab] = (perclass[lab][1], perclass[lab][2]+1)\n",
        "            end\n",
        "        end\n",
        "    end\n",
        "    return correct/total, perclass\n",
        "end\n",
        "\n",
        "acc, perclass = evaluate_models(models, test_seqs)\n",
        "println(\"Accuracy en test: \", round(acc*100, digits=2), \"%\")\n",
        "for (k,v) in sort(collect(perclass))\n",
        "    println(\"Clase $k: correct=$(v[1]) / total=$(v[2]) => \", round(100*v[1]/v[2], digits=2), \"%\")\n",
        "end\n"
      ]
    },
    {
      "cell_type": "markdown",
      "id": "T2cY0CoVj_M2",
      "metadata": {
        "id": "T2cY0CoVj_M2"
      },
      "source": [
        "## 5) Bootstrap (reentrenar sobre remuestreos del training set)\n",
        " Cada remuestreo reentrena modelos por clase\n",
        "y evalúa en el conjunto de prueba fijo.\n"
      ]
    },
    {
      "cell_type": "code",
      "execution_count": null,
      "id": "Z2bfwYY2j_M2",
      "metadata": {
        "colab": {
          "background_save": true
        },
        "id": "Z2bfwYY2j_M2",
        "outputId": "d3793cda-5f88-48d5-b123-1487a4a59a3a"
      },
      "outputs": [
        {
          "name": "stdout",
          "output_type": "stream",
          "text": [
            "Convergencia en iteración 8, loglik = -5105.6398232946985\n",
            "Convergencia en iteración 16, loglik = -4258.014345760311\n",
            "Convergencia en iteración 16, loglik = -5050.737645238561\n",
            "Convergencia en iteración 40, loglik = -4128.752379584623\n",
            "Convergencia en iteración 5, loglik = -5089.910399358207\n",
            "Convergencia en iteración 18, loglik = -4307.488038833173\n",
            "Convergencia en iteración 15, loglik = -5068.889366912357\n",
            "Convergencia en iteración 34, loglik = -5036.6905210469295\n",
            "Convergencia en iteración 16, loglik = -4167.684472665471\n",
            "Convergencia en iteración 20, loglik = -5072.72249510997\n",
            "Convergencia en iteración 15, loglik = -4104.767693663487\n",
            "Convergencia en iteración 35, loglik = -4321.608161093452\n",
            "Convergencia en iteración 10, loglik = -5114.28259912905\n",
            "Convergencia en iteración 7, loglik = -5055.749476850356\n",
            "Convergencia en iteración 5, loglik = -5052.436463990862\n",
            "Convergencia en iteración 40, loglik = -4169.1731162009955\n",
            "Convergencia en iteración 20, loglik = -5047.869900287322\n",
            "Convergencia en iteración 3, loglik = -5096.60446736499\n",
            "Convergencia en iteración 21, loglik = -4249.153545128907\n",
            "Convergencia en iteración 8, loglik = -5106.448672748948\n",
            "Convergencia en iteración 20, loglik = -4203.574310675391\n",
            "Convergencia en iteración 8, loglik = -5112.070663522955\n",
            "Convergencia en iteración 14, loglik = -4346.180621761991\n",
            "Convergencia en iteración 12, loglik = -5075.648731837326\n",
            "Convergencia en iteración 22, loglik = -4291.128017620761\n",
            "Convergencia en iteración 8, loglik = -5056.786372521582\n",
            "Convergencia en iteración 22, loglik = -4151.386369599979\n",
            "Convergencia en iteración 13, loglik = -5083.852212326692\n",
            "Convergencia en iteración 16, loglik = -4236.0215860951785\n",
            "Convergencia en iteración 8, loglik = -5047.758381420583\n",
            "Convergencia en iteración 6, loglik = -5059.369737022869\n",
            "Convergencia en iteración 15, loglik = -5093.5620256223365\n",
            "Convergencia en iteración 3, loglik = -5072.451391786097\n",
            "Convergencia en iteración 12, loglik = -5017.308450935694\n",
            "Convergencia en iteración 6, loglik = -5080.606360248361\n",
            "Convergencia en iteración 19, loglik = -4301.366878087208\n",
            "Convergencia en iteración 8, loglik = -5059.679691213032\n",
            "Convergencia en iteración 16, loglik = -4305.11100679047\n",
            "Convergencia en iteración 13, loglik = -5071.5226741853185\n",
            "Convergencia en iteración 13, loglik = -4224.2071424990045\n",
            "Convergencia en iteración 24, loglik = -4190.395881206224\n",
            "Convergencia en iteración 13, loglik = -5082.419641203696\n",
            "Convergencia en iteración 3, loglik = -5144.606721962339\n",
            "Convergencia en iteración 11, loglik = -4120.776970714481\n",
            "Convergencia en iteración 7, loglik = -5054.1701475285545\n",
            "Convergencia en iteración 9, loglik = -5145.67118628084\n",
            "Convergencia en iteración 16, loglik = -4156.279688573218\n",
            "Convergencia en iteración 7, loglik = -5067.3945525592335\n",
            "Convergencia en iteración 17, loglik = -4272.308373878385\n",
            "Convergencia en iteración 3, loglik = -5041.731183824108\n",
            "Convergencia en iteración 20, loglik = -4216.305906729912\n",
            "Convergencia en iteración 14, loglik = -5061.147813693305\n",
            "Convergencia en iteración 12, loglik = -5053.999302705804\n",
            "Bootstrap 20/20  acc=56.25%\n",
            "Bootstrap completado. mean acc = 54.47%\n"
          ]
        }
      ],
      "source": [
        "B = 20\n",
        "boot_accs = Float64[]\n",
        "boot_perclass = Dict{Int, Vector{Float64}}()\n",
        "for k in keys(classes)\n",
        "    boot_perclass[k] = Float64[]\n",
        "end\n",
        "\n",
        "for b in 1:B\n",
        "    # remuestreo por clase del conjunto de entrenamiento\n",
        "    boot_train = Dict{Int, Vector{Vector{Int}}}()\n",
        "    for (lab, seqs) in pairs(train_seqs)\n",
        "        n = length(seqs)\n",
        "        idxs = [rand(1:n) for _ in 1:n]\n",
        "        boot_train[lab] = [seqs[i] for i in idxs]\n",
        "    end\n",
        "    # entrenar modelos para este bootstrap\n",
        "    boot_models = Dict{Int, Dict}()\n",
        "    for lab in keys(classes)\n",
        "        boot_models[lab] = baum_welch(boot_train[lab], K; M=2, max_iter=40)\n",
        "    end\n",
        "    # evaluar\n",
        "    acc_b, perclass_b = evaluate_models(boot_models, test_seqs)\n",
        "    push!(boot_accs, acc_b)\n",
        "    for (k,v) in perclass_b\n",
        "        c, t = v\n",
        "        push!(boot_perclass[k], t == 0 ? 0.0 : c / t)\n",
        "    end\n",
        "    if b % 20 == 0\n",
        "        println(\"Bootstrap $b/$B  acc=$(round(acc_b*100,digits=2))%\")\n",
        "    end\n",
        "end\n",
        "println(\"Bootstrap completado. mean acc = \", round(mean(boot_accs)*100, digits=2), \"%\")\n"
      ]
    },
    {
      "cell_type": "markdown",
      "id": "REmX8aeCj_M2",
      "metadata": {
        "id": "REmX8aeCj_M2"
      },
      "source": [
        "## 6) Visualización y análisis\n",
        "\n",
        "- Histograma (bootstrap)\n",
        "- Intervalos de confianza percentiles\n"
      ]
    },
    {
      "cell_type": "code",
      "execution_count": null,
      "id": "SlZK3Ho3yBLU",
      "metadata": {
        "colab": {
          "background_save": true
        },
        "id": "SlZK3Ho3yBLU",
        "outputId": "4178844b-9a89-4492-83c0-3b8cad3dfd10"
      },
      "outputs": [
        {
          "name": "stdout",
          "output_type": "stream",
          "text": [
            "Muestra (izquierda) a visualizar:\n",
            "Clase 1 -> loglik = -46.85258028836053\n",
            "Clase 2 -> loglik = -46.89277891598465\n",
            "Clase 3 -> loglik = -41.38822006311844\n",
            "Clase 4 -> loglik = -41.3050511942615\n"
          ]
        },
        {
          "data": {
            "image/png": "[encoded data removed]",
            "text/html": [
              "<img src=\"data:image/png;base64,iVBORw0KGgoAAAANSUhEUgAAAGwAAABsCAAAAACqDQgRAAAAAXNSR0IArs4c6QAAAARnQU1BAACxjwv8YQUAAAAgY0hSTQAAeiYAAICEAAD6AAAAgOgAAHUwAADqYAAAOpgAABdwnLpRPAAAAOVJREFUaAW9wUEKAkEQwMA05P9fHo/tYRYVJFXyhcMa1mENn0lIQhKSkIQkJCEJSUhCEpIvDHfD3eFOQhKSkIQkJCEJSUhCEpKQPDis4TfDnYQkJCEJSUhCEpKQhCQkIXlzWMP/SUhCEpKQhCQkIQlJSEIS8nB3+D8JSUhCEpKQhCQkIQlJSEIO67CG/5OQhCQkIQlJSEISkpCEJCRvhnVYw28Oa1gSkpCEJCQhCUlIQhKSkITkwfDZYQ1ruJOQhCQkIQlJSEISkpCEJCQPDmu4G+4Oa1gSkpCEJCQhCUlIQhKSkIReiAAOtvU4lnYAAAAASUVORK5C\">"
            ],
            "text/plain": [
              "9×9 Matrix{Gray{Float64}}:\n",
              " 0.0  0.0  0.0  1.0  0.0  1.0  0.0  0.0  0.0\n",
              " 0.0  0.0  0.0  0.0  0.0  0.0  0.0  1.0  1.0\n",
              " 0.0  0.0  1.0  0.0  0.0  0.0  0.0  0.0  0.0\n",
              " 0.0  1.0  0.0  0.0  0.0  0.0  0.0  0.0  0.0\n",
              " 1.0  1.0  1.0  1.0  1.0  1.0  1.0  1.0  1.0\n",
              " 0.0  1.0  0.0  0.0  0.0  0.0  0.0  0.0  0.0\n",
              " 0.0  0.0  1.0  0.0  0.0  0.0  0.0  1.0  0.0\n",
              " 0.0  0.0  0.0  0.0  0.0  1.0  0.0  0.0  0.0\n",
              " 0.0  0.0  1.0  0.0  0.0  0.0  0.0  1.0  0.0"
            ]
          },
          "metadata": {},
          "output_type": "display_data"
        },
        {
          "name": "stdout",
          "output_type": "stream",
          "text": [
            "Clase 1 -> loglik = -53.05220453562258\n",
            "Clase 2 -> loglik = -53.17120047932893\n",
            "Clase 3 -> loglik = -57.170817369690894\n",
            "Clase 4 -> loglik = -57.34833087938125\n"
          ]
        },
        {
          "data": {
            "image/png": "[encoded data removed]",
            "text/html": [
              "<img src=\"data:image/png;base64,iVBORw0KGgoAAAANSUhEUgAAAGwAAABsCAAAAACqDQgRAAAAAXNSR0IArs4c6QAAAARnQU1BAACxjwv8YQUAAAAgY0hSTQAAeiYAAICEAAD6AAAAgOgAAHUwAADqYAAAOpgAABdwnLpRPAAAAOJJREFUaAW9wTGKAwEMwEAZ9P8v+0qnWMglAc3ID5YzvCchCUlIQhKSkIQkJCEJSUj+YfneciQkIQlJSEISkpCEJCQhCcmL5QxnOMsZPiMhCUlIQhKSkIQkJCEJScjlDGc5w2eWZxKSkIQkJCEJSUhCEpKQhOTFcoZnw/ckJCEJSUhCEpKQhCQkIQnJD5YznOGZhCQkIQlJSEISkpCEJCQhh2fLGc5yhs9ISEISkpCEJCQhCUlIQhKSkIQkJCEJSUhCEpKQhCQkIXmxnOHZcJYzvCchCUlIQhKSkIQkJCEJSegPLicPsyOVsV4AAAAASUVORK5C\">"
            ],
            "text/plain": [
              "9×9 Matrix{Gray{Float64}}:\n",
              " 0.0  0.0  0.0  0.0  0.0  1.0  0.0  0.0  0.0\n",
              " 0.0  0.0  0.0  1.0  1.0  1.0  0.0  0.0  1.0\n",
              " 0.0  1.0  0.0  0.0  1.0  0.0  0.0  0.0  1.0\n",
              " 1.0  0.0  1.0  0.0  1.0  0.0  0.0  1.0  1.0\n",
              " 1.0  1.0  0.0  0.0  0.0  0.0  0.0  1.0  1.0\n",
              " 1.0  1.0  0.0  0.0  0.0  1.0  0.0  0.0  0.0\n",
              " 0.0  0.0  1.0  0.0  1.0  0.0  0.0  0.0  0.0\n",
              " 0.0  0.0  1.0  0.0  1.0  0.0  0.0  0.0  0.0\n",
              " 0.0  1.0  0.0  0.0  0.0  1.0  0.0  0.0  0.0"
            ]
          },
          "metadata": {},
          "output_type": "display_data"
        },
        {
          "name": "stdout",
          "output_type": "stream",
          "text": [
            "[0 0 0 1 0 1 0 0 0; 0 0 0 0 0 0 0 1 1; 0 0 1 0 0 0 0 0 0; 0 1 0 0 0 0 0 0 0; 1 1 1 1 1 1 1 1 1; 0 1 0 0 0 0 0 0 0; 0 0 1 0 0 0 0 1 0; 0 0 0 0 0 1 0 0 0; 0 0 1 0 0 0 0 1 0]\n"
          ]
        }
      ],
      "source": [
        "#para ver como clasifica un ejemplp\n",
        "\n",
        "function show_sample_and_scores(M::Array{Int,2}, models::Dict)\n",
        "    O = mat_to_obs(M)\n",
        "    scores = Dict(k => model_loglik(O, models[k]) for k in keys(models))\n",
        "    # ordenar por label\n",
        "    for k in sort(collect(keys(scores)))\n",
        "        println(\"Clase $k -> loglik = \", scores[k])\n",
        "    end\n",
        "    # visualizar\n",
        "    img = Gray.(Float64.(M))\n",
        "    display(img)\n",
        "end\n",
        "\n",
        "# tomar una muestra ruidosa de 'left' y mostrar resultados\n",
        "Msample = add_noise(left, p=0.06)\n",
        "println(\"Muestra (izquierda) a visualizar:\")\n",
        "show_sample_and_scores(Msample, models)\n",
        "\n",
        "show_sample_and_scores(add_noise(up, p=0.3), models)\n",
        "println(Msample)\n",
        "\n",
        "#Se elige el que tenga el valor más grande"
      ]
    },
    {
      "cell_type": "code",
      "execution_count": null,
      "id": "XCyXLqgfvK5J",
      "metadata": {
        "colab": {
          "background_save": true
        },
        "id": "XCyXLqgfvK5J",
        "outputId": "2aae3b85-bd1d-4c4d-97c7-188f2d4a2cbe"
      },
      "outputs": [
        {
          "name": "stderr",
          "output_type": "stream",
          "text": [
            "\u001b[32m\u001b[1m   Resolving\u001b[22m\u001b[39m package versions...\n",
            "\u001b[32m\u001b[1m    Updating\u001b[22m\u001b[39m `~/.julia/environments/v1.11/Project.toml`\n",
            "  \u001b[90m[2913bbd2] \u001b[39m\u001b[92m+ StatsBase v0.34.6\u001b[39m\n",
            "\u001b[32m\u001b[1m  No Changes\u001b[22m\u001b[39m to `~/.julia/environments/v1.11/Manifest.toml`\n"
          ]
        }
      ],
      "source": [
        "Pkg.add(\"StatsBase\")"
      ]
    },
    {
      "cell_type": "code",
      "execution_count": null,
      "id": "CRuBi2S_wKSX",
      "metadata": {
        "colab": {
          "background_save": true
        },
        "id": "CRuBi2S_wKSX",
        "outputId": "46374f60-9b30-4a2a-dbf3-fc1e0749f49f"
      },
      "outputs": [
        {
          "data": {
            "image/png": "[encoded data removed]",
            "image/svg+xml": "<?xml version=\"1.0\" encoding=\"utf-8\"?>\n<svg xmlns=\"http://www.w3.org/2000/svg\" xmlns:xlink=\"http://www.w3.org/1999/xlink\" width=\"600\" height=\"400\" viewBox=\"0 0 2400 1600\">\n<defs>\n  <clipPath id=\"clip020\">\n    <rect x=\"0\" y=\"0\" width=\"2400\" height=\"1600\"/>\n  </clipPath>\n</defs>\n<path clip-path=\"url(#clip020)\" d=\"M0 1600 L2400 1600 L2400 0 L0 0  Z\" fill=\"#ffffff\" fill-rule=\"evenodd\" fill-opacity=\"1\"/>\n<defs>\n  <clipPath id=\"clip021\">\n    <rect x=\"480\" y=\"0\" width=\"1681\" height=\"1600\"/>\n  </clipPath>\n</defs>\n<path clip-path=\"url(#clip020)\" d=\"M175.445 1423.18 L2352.76 1423.18 L2352.76 123.472 L175.445 123.472  Z\" fill=\"#ffffff\" fill-rule=\"evenodd\" fill-opacity=\"1\"/>\n<defs>\n  <clipPath id=\"clip022\">\n    <rect x=\"175\" y=\"123\" width=\"2178\" height=\"1301\"/>\n  </clipPath>\n</defs>\n<polyline clip-path=\"url(#clip022)\" style=\"stroke:#000000; stroke-linecap:round; stroke-linejoin:round; stroke-width:2; stroke-opacity:0.1; fill:none\" points=\"295.201,1423.18 295.201,123.472 \"/>\n<polyline clip-path=\"url(#clip022)\" style=\"stroke:#000000; stroke-linecap:round; stroke-linejoin:round; stroke-width:2; stroke-opacity:0.1; fill:none\" points=\"667.855,1423.18 667.855,123.472 \"/>\n<polyline clip-path=\"url(#clip022)\" style=\"stroke:#000000; stroke-linecap:round; stroke-linejoin:round; stroke-width:2; stroke-opacity:0.1; fill:none\" points=\"1040.51,1423.18 1040.51,123.472 \"/>\n<polyline clip-path=\"url(#clip022)\" style=\"stroke:#000000; stroke-linecap:round; stroke-linejoin:round; stroke-width:2; stroke-opacity:0.1; fill:none\" points=\"1413.16,1423.18 1413.16,123.472 \"/>\n<polyline clip-path=\"url(#clip022)\" style=\"stroke:#000000; stroke-linecap:round; stroke-linejoin:round; stroke-width:2; stroke-opacity:0.1; fill:none\" points=\"1785.82,1423.18 1785.82,123.472 \"/>\n<polyline clip-path=\"url(#clip022)\" style=\"stroke:#000000; stroke-linecap:round; stroke-linejoin:round; stroke-width:2; stroke-opacity:0.1; fill:none\" points=\"2158.47,1423.18 2158.47,123.472 \"/>\n<polyline clip-path=\"url(#clip022)\" style=\"stroke:#000000; stroke-linecap:round; stroke-linejoin:round; stroke-width:2; stroke-opacity:0.1; fill:none\" points=\"175.445,1423.18 2352.76,1423.18 \"/>\n<polyline clip-path=\"url(#clip022)\" style=\"stroke:#000000; stroke-linecap:round; stroke-linejoin:round; stroke-width:2; stroke-opacity:0.1; fill:none\" points=\"175.445,1098.25 2352.76,1098.25 \"/>\n<polyline clip-path=\"url(#clip022)\" style=\"stroke:#000000; stroke-linecap:round; stroke-linejoin:round; stroke-width:2; stroke-opacity:0.1; fill:none\" points=\"175.445,773.326 2352.76,773.326 \"/>\n<polyline clip-path=\"url(#clip022)\" style=\"stroke:#000000; stroke-linecap:round; stroke-linejoin:round; stroke-width:2; stroke-opacity:0.1; fill:none\" points=\"175.445,448.399 2352.76,448.399 \"/>\n<polyline clip-path=\"url(#clip022)\" style=\"stroke:#000000; stroke-linecap:round; stroke-linejoin:round; stroke-width:2; stroke-opacity:0.1; fill:none\" points=\"175.445,123.472 2352.76,123.472 \"/>\n<polyline clip-path=\"url(#clip020)\" style=\"stroke:#000000; stroke-linecap:round; stroke-linejoin:round; stroke-width:4; stroke-opacity:1; fill:none\" points=\"175.445,1423.18 2352.76,1423.18 \"/>\n<polyline clip-path=\"url(#clip020)\" style=\"stroke:#000000; stroke-linecap:round; stroke-linejoin:round; stroke-width:4; stroke-opacity:1; fill:none\" points=\"295.201,1423.18 295.201,1404.28 \"/>\n<polyline clip-path=\"url(#clip020)\" style=\"stroke:#000000; stroke-linecap:round; stroke-linejoin:round; stroke-width:4; stroke-opacity:1; fill:none\" points=\"667.855,1423.18 667.855,1404.28 \"/>\n<polyline clip-path=\"url(#clip020)\" style=\"stroke:#000000; stroke-linecap:round; stroke-linejoin:round; stroke-width:4; stroke-opacity:1; fill:none\" points=\"1040.51,1423.18 1040.51,1404.28 \"/>\n<polyline clip-path=\"url(#clip020)\" style=\"stroke:#000000; stroke-linecap:round; stroke-linejoin:round; stroke-width:4; stroke-opacity:1; fill:none\" points=\"1413.16,1423.18 1413.16,1404.28 \"/>\n<polyline clip-path=\"url(#clip020)\" style=\"stroke:#000000; stroke-linecap:round; stroke-linejoin:round; stroke-width:4; stroke-opacity:1; fill:none\" points=\"1785.82,1423.18 1785.82,1404.28 \"/>\n<polyline clip-path=\"url(#clip020)\" style=\"stroke:#000000; stroke-linecap:round; stroke-linejoin:round; stroke-width:4; stroke-opacity:1; fill:none\" points=\"2158.47,1423.18 2158.47,1404.28 \"/>\n<path clip-path=\"url(#clip020)\" d=\"M283.373 1455.09 L271.567 1473.54 L283.373 1473.54 L283.373 1455.09 M282.146 1451.02 L288.025 1451.02 L288.025 1473.54 L292.956 1473.54 L292.956 1477.43 L288.025 1477.43 L288.025 1485.58 L283.373 1485.58 L283.373 1477.43 L267.771 1477.43 L267.771 1472.92 L282.146 1451.02 Z\" fill=\"#000000\" fill-rule=\"nonzero\" fill-opacity=\"1\" /><path clip-path=\"url(#clip020)\" d=\"M310.687 1454.1 Q307.076 1454.1 305.247 1457.66 Q303.442 1461.2 303.442 1468.33 Q303.442 1475.44 305.247 1479.01 Q307.076 1482.55 310.687 1482.55 Q314.321 1482.55 316.127 1479.01 Q317.956 1475.44 317.956 1468.33 Q317.956 1461.2 316.127 1457.66 Q314.321 1454.1 310.687 1454.1 M310.687 1450.39 Q316.497 1450.39 319.553 1455 Q322.632 1459.58 322.632 1468.33 Q322.632 1477.06 319.553 1481.67 Q316.497 1486.25 310.687 1486.25 Q304.877 1486.25 301.798 1481.67 Q298.743 1477.06 298.743 1468.33 Q298.743 1459.58 301.798 1455 Q304.877 1450.39 310.687 1450.39 Z\" fill=\"#000000\" fill-rule=\"nonzero\" fill-opacity=\"1\" /><path clip-path=\"url(#clip020)\" d=\"M656.524 1455.09 L644.718 1473.54 L656.524 1473.54 L656.524 1455.09 M655.297 1451.02 L661.177 1451.02 L661.177 1473.54 L666.107 1473.54 L666.107 1477.43 L661.177 1477.43 L661.177 1485.58 L656.524 1485.58 L656.524 1477.43 L640.922 1477.43 L640.922 1472.92 L655.297 1451.02 Z\" fill=\"#000000\" fill-rule=\"nonzero\" fill-opacity=\"1\" /><path clip-path=\"url(#clip020)\" d=\"M673.885 1451.02 L692.241 1451.02 L692.241 1454.96 L678.167 1454.96 L678.167 1463.43 Q679.186 1463.08 680.204 1462.92 Q681.223 1462.73 682.241 1462.73 Q688.028 1462.73 691.408 1465.9 Q694.788 1469.08 694.788 1474.49 Q694.788 1480.07 691.315 1483.17 Q687.843 1486.25 681.524 1486.25 Q679.348 1486.25 677.079 1485.88 Q674.834 1485.51 672.427 1484.77 L672.427 1480.07 Q674.51 1481.2 676.732 1481.76 Q678.954 1482.32 681.431 1482.32 Q685.436 1482.32 687.774 1480.21 Q690.112 1478.1 690.112 1474.49 Q690.112 1470.88 687.774 1468.77 Q685.436 1466.67 681.431 1466.67 Q679.556 1466.67 677.681 1467.08 Q675.829 1467.5 673.885 1468.38 L673.885 1451.02 Z\" fill=\"#000000\" fill-rule=\"nonzero\" fill-opacity=\"1\" /><path clip-path=\"url(#clip020)\" d=\"M1015.21 1451.02 L1033.56 1451.02 L1033.56 1454.96 L1019.49 1454.96 L1019.49 1463.43 Q1020.51 1463.08 1021.53 1462.92 Q1022.55 1462.73 1023.56 1462.73 Q1029.35 1462.73 1032.73 1465.9 Q1036.11 1469.08 1036.11 1474.49 Q1036.11 1480.07 1032.64 1483.17 Q1029.17 1486.25 1022.85 1486.25 Q1020.67 1486.25 1018.4 1485.88 Q1016.16 1485.51 1013.75 1484.77 L1013.75 1480.07 Q1015.83 1481.2 1018.05 1481.76 Q1020.28 1482.32 1022.75 1482.32 Q1026.76 1482.32 1029.1 1480.21 Q1031.43 1478.1 1031.43 1474.49 Q1031.43 1470.88 1029.1 1468.77 Q1026.76 1466.67 1022.75 1466.67 Q1020.88 1466.67 1019 1467.08 Q1017.15 1467.5 1015.21 1468.38 L1015.21 1451.02 Z\" fill=\"#000000\" fill-rule=\"nonzero\" fill-opacity=\"1\" /><path clip-path=\"url(#clip020)\" d=\"M1055.32 1454.1 Q1051.71 1454.1 1049.88 1457.66 Q1048.08 1461.2 1048.08 1468.33 Q1048.08 1475.44 1049.88 1479.01 Q1051.71 1482.55 1055.32 1482.55 Q1058.96 1482.55 1060.76 1479.01 Q1062.59 1475.44 1062.59 1468.33 Q1062.59 1461.2 1060.76 1457.66 Q1058.96 1454.1 1055.32 1454.1 M1055.32 1450.39 Q1061.13 1450.39 1064.19 1455 Q1067.27 1459.58 1067.27 1468.33 Q1067.27 1477.06 1064.19 1481.67 Q1061.13 1486.25 1055.32 1486.25 Q1049.51 1486.25 1046.43 1481.67 Q1043.38 1477.06 1043.38 1468.33 Q1043.38 1459.58 1046.43 1455 Q1049.51 1450.39 1055.32 1450.39 Z\" fill=\"#000000\" fill-rule=\"nonzero\" fill-opacity=\"1\" /><path clip-path=\"url(#clip020)\" d=\"M1388.36 1451.02 L1406.72 1451.02 L1406.72 1454.96 L1392.64 1454.96 L1392.64 1463.43 Q1393.66 1463.08 1394.68 1462.92 Q1395.7 1462.73 1396.72 1462.73 Q1402.5 1462.73 1405.88 1465.9 Q1409.26 1469.08 1409.26 1474.49 Q1409.26 1480.07 1405.79 1483.17 Q1402.32 1486.25 1396 1486.25 Q1393.82 1486.25 1391.55 1485.88 Q1389.31 1485.51 1386.9 1484.77 L1386.9 1480.07 Q1388.98 1481.2 1391.21 1481.76 Q1393.43 1482.32 1395.91 1482.32 Q1399.91 1482.32 1402.25 1480.21 Q1404.59 1478.1 1404.59 1474.49 Q1404.59 1470.88 1402.25 1468.77 Q1399.91 1466.67 1395.91 1466.67 Q1394.03 1466.67 1392.16 1467.08 Q1390.3 1467.5 1388.36 1468.38 L1388.36 1451.02 Z\" fill=\"#000000\" fill-rule=\"nonzero\" fill-opacity=\"1\" /><path clip-path=\"url(#clip020)\" d=\"M1418.52 1451.02 L1436.88 1451.02 L1436.88 1454.96 L1422.8 1454.96 L1422.8 1463.43 Q1423.82 1463.08 1424.84 1462.92 Q1425.86 1462.73 1426.88 1462.73 Q1432.66 1462.73 1436.04 1465.9 Q1439.42 1469.08 1439.42 1474.49 Q1439.42 1480.07 1435.95 1483.17 Q1432.48 1486.25 1426.16 1486.25 Q1423.98 1486.25 1421.72 1485.88 Q1419.47 1485.51 1417.06 1484.77 L1417.06 1480.07 Q1419.15 1481.2 1421.37 1481.76 Q1423.59 1482.32 1426.07 1482.32 Q1430.07 1482.32 1432.41 1480.21 Q1434.75 1478.1 1434.75 1474.49 Q1434.75 1470.88 1432.41 1468.77 Q1430.07 1466.67 1426.07 1466.67 Q1424.19 1466.67 1422.32 1467.08 Q1420.47 1467.5 1418.52 1468.38 L1418.52 1451.02 Z\" fill=\"#000000\" fill-rule=\"nonzero\" fill-opacity=\"1\" /><path clip-path=\"url(#clip020)\" d=\"M1771.22 1466.44 Q1768.07 1466.44 1766.22 1468.59 Q1764.39 1470.74 1764.39 1474.49 Q1764.39 1478.22 1766.22 1480.39 Q1768.07 1482.55 1771.22 1482.55 Q1774.37 1482.55 1776.2 1480.39 Q1778.05 1478.22 1778.05 1474.49 Q1778.05 1470.74 1776.2 1468.59 Q1774.37 1466.44 1771.22 1466.44 M1780.5 1451.78 L1780.5 1456.04 Q1778.74 1455.21 1776.94 1454.77 Q1775.16 1454.33 1773.4 1454.33 Q1768.77 1454.33 1766.31 1457.45 Q1763.88 1460.58 1763.54 1466.9 Q1764.9 1464.89 1766.96 1463.82 Q1769.02 1462.73 1771.5 1462.73 Q1776.71 1462.73 1779.72 1465.9 Q1782.75 1469.05 1782.75 1474.49 Q1782.75 1479.82 1779.6 1483.03 Q1776.45 1486.25 1771.22 1486.25 Q1765.23 1486.25 1762.05 1481.67 Q1758.88 1477.06 1758.88 1468.33 Q1758.88 1460.14 1762.77 1455.28 Q1766.66 1450.39 1773.21 1450.39 Q1774.97 1450.39 1776.75 1450.74 Q1778.56 1451.09 1780.5 1451.78 Z\" fill=\"#000000\" fill-rule=\"nonzero\" fill-opacity=\"1\" /><path clip-path=\"url(#clip020)\" d=\"M1800.8 1454.1 Q1797.19 1454.1 1795.36 1457.66 Q1793.56 1461.2 1793.56 1468.33 Q1793.56 1475.44 1795.36 1479.01 Q1797.19 1482.55 1800.8 1482.55 Q1804.44 1482.55 1806.24 1479.01 Q1808.07 1475.44 1808.07 1468.33 Q1808.07 1461.2 1806.24 1457.66 Q1804.44 1454.1 1800.8 1454.1 M1800.8 1450.39 Q1806.61 1450.39 1809.67 1455 Q1812.75 1459.58 1812.75 1468.33 Q1812.75 1477.06 1809.67 1481.67 Q1806.61 1486.25 1800.8 1486.25 Q1794.99 1486.25 1791.92 1481.67 Q1788.86 1477.06 1788.86 1468.33 Q1788.86 1459.58 1791.92 1455 Q1794.99 1450.39 1800.8 1450.39 Z\" fill=\"#000000\" fill-rule=\"nonzero\" fill-opacity=\"1\" /><path clip-path=\"url(#clip020)\" d=\"M2144.37 1466.44 Q2141.22 1466.44 2139.37 1468.59 Q2137.54 1470.74 2137.54 1474.49 Q2137.54 1478.22 2139.37 1480.39 Q2141.22 1482.55 2144.37 1482.55 Q2147.52 1482.55 2149.35 1480.39 Q2151.2 1478.22 2151.2 1474.49 Q2151.2 1470.74 2149.35 1468.59 Q2147.52 1466.44 2144.37 1466.44 M2153.65 1451.78 L2153.65 1456.04 Q2151.9 1455.21 2150.09 1454.77 Q2148.31 1454.33 2146.55 1454.33 Q2141.92 1454.33 2139.46 1457.45 Q2137.03 1460.58 2136.69 1466.9 Q2138.05 1464.89 2140.11 1463.82 Q2142.17 1462.73 2144.65 1462.73 Q2149.86 1462.73 2152.87 1465.9 Q2155.9 1469.05 2155.9 1474.49 Q2155.9 1479.82 2152.75 1483.03 Q2149.6 1486.25 2144.37 1486.25 Q2138.38 1486.25 2135.21 1481.67 Q2132.03 1477.06 2132.03 1468.33 Q2132.03 1460.14 2135.92 1455.28 Q2139.81 1450.39 2146.36 1450.39 Q2148.12 1450.39 2149.9 1450.74 Q2151.71 1451.09 2153.65 1451.78 Z\" fill=\"#000000\" fill-rule=\"nonzero\" fill-opacity=\"1\" /><path clip-path=\"url(#clip020)\" d=\"M2164 1451.02 L2182.36 1451.02 L2182.36 1454.96 L2168.28 1454.96 L2168.28 1463.43 Q2169.3 1463.08 2170.32 1462.92 Q2171.34 1462.73 2172.36 1462.73 Q2178.15 1462.73 2181.52 1465.9 Q2184.9 1469.08 2184.9 1474.49 Q2184.9 1480.07 2181.43 1483.17 Q2177.96 1486.25 2171.64 1486.25 Q2169.46 1486.25 2167.2 1485.88 Q2164.95 1485.51 2162.54 1484.77 L2162.54 1480.07 Q2164.63 1481.2 2166.85 1481.76 Q2169.07 1482.32 2171.55 1482.32 Q2175.55 1482.32 2177.89 1480.21 Q2180.23 1478.1 2180.23 1474.49 Q2180.23 1470.88 2177.89 1468.77 Q2175.55 1466.67 2171.55 1466.67 Q2169.67 1466.67 2167.8 1467.08 Q2165.95 1467.5 2164 1468.38 L2164 1451.02 Z\" fill=\"#000000\" fill-rule=\"nonzero\" fill-opacity=\"1\" /><path clip-path=\"url(#clip020)\" d=\"M1073.37 1526.86 L1064.65 1550.51 L1082.12 1550.51 L1073.37 1526.86 M1069.74 1520.52 L1077.03 1520.52 L1095.14 1568.04 L1088.45 1568.04 L1084.13 1555.85 L1062.71 1555.85 L1058.38 1568.04 L1051.6 1568.04 L1069.74 1520.52 Z\" fill=\"#000000\" fill-rule=\"nonzero\" fill-opacity=\"1\" /><path clip-path=\"url(#clip020)\" d=\"M1126.33 1533.76 L1126.33 1539.24 Q1123.85 1537.87 1121.33 1537.2 Q1118.85 1536.5 1116.3 1536.5 Q1110.61 1536.5 1107.46 1540.13 Q1104.31 1543.73 1104.31 1550.25 Q1104.31 1556.78 1107.46 1560.4 Q1110.61 1564 1116.3 1564 Q1118.85 1564 1121.33 1563.33 Q1123.85 1562.63 1126.33 1561.26 L1126.33 1566.68 Q1123.88 1567.82 1121.24 1568.39 Q1118.63 1568.97 1115.67 1568.97 Q1107.62 1568.97 1102.87 1563.91 Q1098.13 1558.85 1098.13 1550.25 Q1098.13 1541.53 1102.9 1536.53 Q1107.71 1531.54 1116.05 1531.54 Q1118.76 1531.54 1121.33 1532.11 Q1123.91 1532.65 1126.33 1533.76 Z\" fill=\"#000000\" fill-rule=\"nonzero\" fill-opacity=\"1\" /><path clip-path=\"url(#clip020)\" d=\"M1162.17 1533.76 L1162.17 1539.24 Q1159.69 1537.87 1157.17 1537.2 Q1154.69 1536.5 1152.14 1536.5 Q1146.45 1536.5 1143.3 1540.13 Q1140.14 1543.73 1140.14 1550.25 Q1140.14 1556.78 1143.3 1560.4 Q1146.45 1564 1152.14 1564 Q1154.69 1564 1157.17 1563.33 Q1159.69 1562.63 1162.17 1561.26 L1162.17 1566.68 Q1159.72 1567.82 1157.08 1568.39 Q1154.47 1568.97 1151.51 1568.97 Q1143.45 1568.97 1138.71 1563.91 Q1133.97 1558.85 1133.97 1550.25 Q1133.97 1541.53 1138.74 1536.53 Q1143.55 1531.54 1151.89 1531.54 Q1154.59 1531.54 1157.17 1532.11 Q1159.75 1532.65 1162.17 1533.76 Z\" fill=\"#000000\" fill-rule=\"nonzero\" fill-opacity=\"1\" /><path clip-path=\"url(#clip020)\" d=\"M1171.75 1553.98 L1171.75 1532.4 L1177.61 1532.4 L1177.61 1553.75 Q1177.61 1558.81 1179.58 1561.36 Q1181.55 1563.87 1185.5 1563.87 Q1190.24 1563.87 1192.98 1560.85 Q1195.75 1557.83 1195.75 1552.61 L1195.75 1532.4 L1201.61 1532.4 L1201.61 1568.04 L1195.75 1568.04 L1195.75 1562.57 Q1193.62 1565.82 1190.78 1567.41 Q1187.98 1568.97 1184.26 1568.97 Q1178.12 1568.97 1174.93 1565.15 Q1171.75 1561.33 1171.75 1553.98 M1186.49 1531.54 L1186.49 1531.54 Z\" fill=\"#000000\" fill-rule=\"nonzero\" fill-opacity=\"1\" /><path clip-path=\"url(#clip020)\" d=\"M1234.32 1537.87 Q1233.34 1537.3 1232.16 1537.04 Q1231.01 1536.76 1229.61 1536.76 Q1224.65 1536.76 1221.98 1540 Q1219.33 1543.22 1219.33 1549.27 L1219.33 1568.04 L1213.45 1568.04 L1213.45 1532.4 L1219.33 1532.4 L1219.33 1537.93 Q1221.18 1534.69 1224.14 1533.13 Q1227.1 1531.54 1231.33 1531.54 Q1231.94 1531.54 1232.67 1531.63 Q1233.4 1531.7 1234.29 1531.85 L1234.32 1537.87 Z\" fill=\"#000000\" fill-rule=\"nonzero\" fill-opacity=\"1\" /><path clip-path=\"url(#clip020)\" d=\"M1256.67 1550.12 Q1249.57 1550.12 1246.83 1551.75 Q1244.1 1553.37 1244.1 1557.29 Q1244.1 1560.4 1246.13 1562.25 Q1248.2 1564.07 1251.74 1564.07 Q1256.6 1564.07 1259.53 1560.63 Q1262.49 1557.16 1262.49 1551.43 L1262.49 1550.12 L1256.67 1550.12 M1268.35 1547.71 L1268.35 1568.04 L1262.49 1568.04 L1262.49 1562.63 Q1260.49 1565.88 1257.5 1567.44 Q1254.5 1568.97 1250.18 1568.97 Q1244.7 1568.97 1241.45 1565.91 Q1238.24 1562.82 1238.24 1557.67 Q1238.24 1551.65 1242.25 1548.6 Q1246.29 1545.54 1254.28 1545.54 L1262.49 1545.54 L1262.49 1544.97 Q1262.49 1540.93 1259.82 1538.73 Q1257.18 1536.5 1252.37 1536.5 Q1249.32 1536.5 1246.42 1537.23 Q1243.52 1537.97 1240.85 1539.43 L1240.85 1534.02 Q1244.06 1532.78 1247.09 1532.17 Q1250.11 1531.54 1252.98 1531.54 Q1260.71 1531.54 1264.53 1535.55 Q1268.35 1539.56 1268.35 1547.71 Z\" fill=\"#000000\" fill-rule=\"nonzero\" fill-opacity=\"1\" /><path clip-path=\"url(#clip020)\" d=\"M1306.07 1533.76 L1306.07 1539.24 Q1303.58 1537.87 1301.07 1537.2 Q1298.59 1536.5 1296.04 1536.5 Q1290.34 1536.5 1287.19 1540.13 Q1284.04 1543.73 1284.04 1550.25 Q1284.04 1556.78 1287.19 1560.4 Q1290.34 1564 1296.04 1564 Q1298.59 1564 1301.07 1563.33 Q1303.58 1562.63 1306.07 1561.26 L1306.07 1566.68 Q1303.62 1567.82 1300.97 1568.39 Q1298.36 1568.97 1295.4 1568.97 Q1287.35 1568.97 1282.61 1563.91 Q1277.87 1558.85 1277.87 1550.25 Q1277.87 1541.53 1282.64 1536.53 Q1287.45 1531.54 1295.79 1531.54 Q1298.49 1531.54 1301.07 1532.11 Q1303.65 1532.65 1306.07 1533.76 Z\" fill=\"#000000\" fill-rule=\"nonzero\" fill-opacity=\"1\" /><path clip-path=\"url(#clip020)\" d=\"M1331.08 1571.35 Q1328.6 1577.72 1326.25 1579.66 Q1323.89 1581.6 1319.94 1581.6 L1315.26 1581.6 L1315.26 1576.7 L1318.7 1576.7 Q1321.12 1576.7 1322.46 1575.56 Q1323.79 1574.41 1325.42 1570.14 L1326.47 1567.47 L1312.05 1532.4 L1318.26 1532.4 L1329.4 1560.28 L1340.54 1532.4 L1346.74 1532.4 L1331.08 1571.35 Z\" fill=\"#000000\" fill-rule=\"nonzero\" fill-opacity=\"1\" /><path clip-path=\"url(#clip020)\" d=\"M1389.62 1518.58 Q1385.35 1525.9 1383.28 1533.06 Q1381.21 1540.23 1381.21 1547.58 Q1381.21 1554.93 1383.28 1562.16 Q1385.38 1569.35 1389.62 1576.64 L1384.52 1576.64 Q1379.75 1569.16 1377.36 1561.93 Q1375.01 1554.71 1375.01 1547.58 Q1375.01 1540.48 1377.36 1533.29 Q1379.72 1526.09 1384.52 1518.58 L1389.62 1518.58 Z\" fill=\"#000000\" fill-rule=\"nonzero\" fill-opacity=\"1\" /><path clip-path=\"url(#clip020)\" d=\"M1442.23 1547.13 Q1439.46 1547.13 1437.87 1549.49 Q1436.31 1551.84 1436.31 1556.04 Q1436.31 1560.18 1437.87 1562.57 Q1439.46 1564.92 1442.23 1564.92 Q1444.93 1564.92 1446.49 1562.57 Q1448.09 1560.18 1448.09 1556.04 Q1448.09 1551.87 1446.49 1549.52 Q1444.93 1547.13 1442.23 1547.13 M1442.23 1543.09 Q1447.26 1543.09 1450.22 1546.59 Q1453.18 1550.09 1453.18 1556.04 Q1453.18 1562 1450.19 1565.5 Q1447.23 1568.97 1442.23 1568.97 Q1437.14 1568.97 1434.18 1565.5 Q1431.22 1562 1431.22 1556.04 Q1431.22 1550.06 1434.18 1546.59 Q1437.17 1543.09 1442.23 1543.09 M1409.38 1523.71 Q1406.64 1523.71 1405.05 1526.09 Q1403.49 1528.45 1403.49 1532.59 Q1403.49 1536.79 1405.05 1539.14 Q1406.61 1541.5 1409.38 1541.5 Q1412.15 1541.5 1413.71 1539.14 Q1415.3 1536.79 1415.3 1532.59 Q1415.3 1528.48 1413.71 1526.09 Q1412.12 1523.71 1409.38 1523.71 M1438.12 1519.66 L1443.22 1519.66 L1413.49 1568.97 L1408.4 1568.97 L1438.12 1519.66 M1409.38 1519.66 Q1414.41 1519.66 1417.4 1523.17 Q1420.39 1526.63 1420.39 1532.59 Q1420.39 1538.6 1417.4 1542.07 Q1414.44 1545.54 1409.38 1545.54 Q1404.32 1545.54 1401.36 1542.07 Q1398.43 1538.57 1398.43 1532.59 Q1398.43 1526.67 1401.39 1523.17 Q1404.35 1519.66 1409.38 1519.66 Z\" fill=\"#000000\" fill-rule=\"nonzero\" fill-opacity=\"1\" /><path clip-path=\"url(#clip020)\" d=\"M1461.99 1518.58 L1467.09 1518.58 Q1471.86 1526.09 1474.22 1533.29 Q1476.6 1540.48 1476.6 1547.58 Q1476.6 1554.71 1474.22 1561.93 Q1471.86 1569.16 1467.09 1576.64 L1461.99 1576.64 Q1466.23 1569.35 1468.3 1562.16 Q1470.4 1554.93 1470.4 1547.58 Q1470.4 1540.23 1468.3 1533.06 Q1466.23 1525.9 1461.99 1518.58 Z\" fill=\"#000000\" fill-rule=\"nonzero\" fill-opacity=\"1\" /><polyline clip-path=\"url(#clip020)\" style=\"stroke:#000000; stroke-linecap:round; stroke-linejoin:round; stroke-width:4; stroke-opacity:1; fill:none\" points=\"175.445,1423.18 175.445,123.472 \"/>\n<polyline clip-path=\"url(#clip020)\" style=\"stroke:#000000; stroke-linecap:round; stroke-linejoin:round; stroke-width:4; stroke-opacity:1; fill:none\" points=\"175.445,1423.18 194.343,1423.18 \"/>\n<polyline clip-path=\"url(#clip020)\" style=\"stroke:#000000; stroke-linecap:round; stroke-linejoin:round; stroke-width:4; stroke-opacity:1; fill:none\" points=\"175.445,1098.25 194.343,1098.25 \"/>\n<polyline clip-path=\"url(#clip020)\" style=\"stroke:#000000; stroke-linecap:round; stroke-linejoin:round; stroke-width:4; stroke-opacity:1; fill:none\" points=\"175.445,773.326 194.343,773.326 \"/>\n<polyline clip-path=\"url(#clip020)\" style=\"stroke:#000000; stroke-linecap:round; stroke-linejoin:round; stroke-width:4; stroke-opacity:1; fill:none\" points=\"175.445,448.399 194.343,448.399 \"/>\n<polyline clip-path=\"url(#clip020)\" style=\"stroke:#000000; stroke-linecap:round; stroke-linejoin:round; stroke-width:4; stroke-opacity:1; fill:none\" points=\"175.445,123.472 194.343,123.472 \"/>\n<path clip-path=\"url(#clip020)\" d=\"M127.501 1408.98 Q123.89 1408.98 122.061 1412.54 Q120.255 1416.08 120.255 1423.21 Q120.255 1430.32 122.061 1433.89 Q123.89 1437.43 127.501 1437.43 Q131.135 1437.43 132.941 1433.89 Q134.769 1430.32 134.769 1423.21 Q134.769 1416.08 132.941 1412.54 Q131.135 1408.98 127.501 1408.98 M127.501 1405.27 Q133.311 1405.27 136.367 1409.88 Q139.445 1414.46 139.445 1423.21 Q139.445 1431.94 136.367 1436.55 Q133.311 1441.13 127.501 1441.13 Q121.691 1441.13 118.612 1436.55 Q115.556 1431.94 115.556 1423.21 Q115.556 1414.46 118.612 1409.88 Q121.691 1405.27 127.501 1405.27 Z\" fill=\"#000000\" fill-rule=\"nonzero\" fill-opacity=\"1\" /><path clip-path=\"url(#clip020)\" d=\"M119.538 1111.6 L127.177 1111.6 L127.177 1085.23 L118.867 1086.9 L118.867 1082.64 L127.13 1080.97 L131.806 1080.97 L131.806 1111.6 L139.445 1111.6 L139.445 1115.53 L119.538 1115.53 L119.538 1111.6 Z\" fill=\"#000000\" fill-rule=\"nonzero\" fill-opacity=\"1\" /><path clip-path=\"url(#clip020)\" d=\"M123.126 786.671 L139.445 786.671 L139.445 790.606 L117.501 790.606 L117.501 786.671 Q120.163 783.916 124.746 779.287 Q129.353 774.634 130.533 773.291 Q132.779 770.768 133.658 769.032 Q134.561 767.273 134.561 765.583 Q134.561 762.828 132.617 761.092 Q130.695 759.356 127.593 759.356 Q125.394 759.356 122.941 760.12 Q120.51 760.884 117.732 762.435 L117.732 757.713 Q120.556 756.578 123.01 756 Q125.464 755.421 127.501 755.421 Q132.871 755.421 136.066 758.106 Q139.26 760.791 139.26 765.282 Q139.26 767.412 138.45 769.333 Q137.663 771.231 135.556 773.824 Q134.978 774.495 131.876 777.713 Q128.774 780.907 123.126 786.671 Z\" fill=\"#000000\" fill-rule=\"nonzero\" fill-opacity=\"1\" /><path clip-path=\"url(#clip020)\" d=\"M132.316 447.045 Q135.672 447.762 137.547 450.031 Q139.445 452.299 139.445 455.633 Q139.445 460.749 135.927 463.549 Q132.408 466.35 125.927 466.35 Q123.751 466.35 121.436 465.911 Q119.144 465.494 116.691 464.637 L116.691 460.124 Q118.635 461.258 120.95 461.836 Q123.265 462.415 125.788 462.415 Q130.186 462.415 132.478 460.679 Q134.792 458.943 134.792 455.633 Q134.792 452.577 132.64 450.864 Q130.51 449.128 126.691 449.128 L122.663 449.128 L122.663 445.286 L126.876 445.286 Q130.325 445.286 132.154 443.92 Q133.982 442.531 133.982 439.938 Q133.982 437.276 132.084 435.864 Q130.209 434.429 126.691 434.429 Q124.769 434.429 122.57 434.846 Q120.371 435.263 117.732 436.142 L117.732 431.976 Q120.394 431.235 122.709 430.864 Q125.047 430.494 127.107 430.494 Q132.431 430.494 135.533 432.925 Q138.635 435.332 138.635 439.452 Q138.635 442.323 136.992 444.313 Q135.348 446.281 132.316 447.045 Z\" fill=\"#000000\" fill-rule=\"nonzero\" fill-opacity=\"1\" /><path clip-path=\"url(#clip020)\" d=\"M129.862 110.266 L118.056 128.715 L129.862 128.715 L129.862 110.266 M128.635 106.192 L134.515 106.192 L134.515 128.715 L139.445 128.715 L139.445 132.604 L134.515 132.604 L134.515 140.752 L129.862 140.752 L129.862 132.604 L114.26 132.604 L114.26 128.09 L128.635 106.192 Z\" fill=\"#000000\" fill-rule=\"nonzero\" fill-opacity=\"1\" /><path clip-path=\"url(#clip020)\" d=\"M16.4842 942.511 L16.4842 915.202 L21.895 915.202 L21.895 936.081 L35.8996 936.081 L35.8996 917.239 L41.3104 917.239 L41.3104 936.081 L64.0042 936.081 L64.0042 942.511 L16.4842 942.511 Z\" fill=\"#000000\" fill-rule=\"nonzero\" fill-opacity=\"1\" /><path clip-path=\"url(#clip020)\" d=\"M33.8307 889.357 Q33.2578 890.344 33.0032 891.521 Q32.7167 892.667 32.7167 894.068 Q32.7167 899.033 35.9632 901.706 Q39.1779 904.348 45.2253 904.348 L64.0042 904.348 L64.0042 910.236 L28.3562 910.236 L28.3562 904.348 L33.8944 904.348 Q30.6479 902.502 29.0883 899.542 Q27.4968 896.582 27.4968 892.349 Q27.4968 891.744 27.5923 891.012 Q27.656 890.28 27.8151 889.389 L33.8307 889.357 Z\" fill=\"#000000\" fill-rule=\"nonzero\" fill-opacity=\"1\" /><path clip-path=\"url(#clip020)\" d=\"M44.7161 854.155 L47.5806 854.155 L47.5806 881.081 Q53.6281 880.7 56.8109 877.453 Q59.9619 874.175 59.9619 868.35 Q59.9619 864.976 59.1344 861.825 Q58.3069 858.642 56.6518 855.523 L62.1899 855.523 Q63.5267 858.674 64.227 861.984 Q64.9272 865.295 64.9272 868.7 Q64.9272 877.23 59.9619 882.227 Q54.9967 887.193 46.5303 887.193 Q37.7774 887.193 32.6531 882.482 Q27.4968 877.739 27.4968 869.719 Q27.4968 862.525 32.1438 858.356 Q36.7589 854.155 44.7161 854.155 M42.9973 860.011 Q38.1912 860.075 35.3266 862.716 Q32.4621 865.326 32.4621 869.655 Q32.4621 874.557 35.2312 877.517 Q38.0002 880.445 43.0292 880.891 L42.9973 860.011 Z\" fill=\"#000000\" fill-rule=\"nonzero\" fill-opacity=\"1\" /><path clip-path=\"url(#clip020)\" d=\"M29.7248 818.889 L35.1993 818.889 Q33.8307 821.371 33.1623 823.886 Q32.4621 826.368 32.4621 828.915 Q32.4621 834.612 36.0905 837.763 Q39.6872 840.914 46.212 840.914 Q52.7369 840.914 56.3653 837.763 Q59.9619 834.612 59.9619 828.915 Q59.9619 826.368 59.2935 823.886 Q58.5933 821.371 57.2247 818.889 L62.6355 818.889 Q63.7814 821.339 64.3543 823.981 Q64.9272 826.591 64.9272 829.551 Q64.9272 837.604 59.8664 842.346 Q54.8057 847.089 46.212 847.089 Q37.491 847.089 32.4939 842.314 Q27.4968 837.508 27.4968 829.169 Q27.4968 826.464 28.0697 823.886 Q28.6108 821.307 29.7248 818.889 Z\" fill=\"#000000\" fill-rule=\"nonzero\" fill-opacity=\"1\" /><path clip-path=\"url(#clip020)\" d=\"M49.9359 809.308 L28.3562 809.308 L28.3562 803.452 L49.7131 803.452 Q54.7739 803.452 57.3202 801.478 Q59.8346 799.505 59.8346 795.558 Q59.8346 790.816 56.8109 788.079 Q53.7872 785.309 48.5673 785.309 L28.3562 785.309 L28.3562 779.453 L64.0042 779.453 L64.0042 785.309 L58.5296 785.309 Q61.7762 787.442 63.3676 790.275 Q64.9272 793.076 64.9272 796.8 Q64.9272 802.942 61.1078 806.125 Q57.2883 809.308 49.9359 809.308 M27.4968 794.572 L27.4968 794.572 Z\" fill=\"#000000\" fill-rule=\"nonzero\" fill-opacity=\"1\" /><path clip-path=\"url(#clip020)\" d=\"M44.7161 736.898 L47.5806 736.898 L47.5806 763.825 Q53.6281 763.443 56.8109 760.197 Q59.9619 756.918 59.9619 751.094 Q59.9619 747.72 59.1344 744.569 Q58.3069 741.386 56.6518 738.267 L62.1899 738.267 Q63.5267 741.418 64.227 744.728 Q64.9272 748.038 64.9272 751.444 Q64.9272 759.974 59.9619 764.971 Q54.9967 769.936 46.5303 769.936 Q37.7774 769.936 32.6531 765.226 Q27.4968 760.483 27.4968 752.462 Q27.4968 745.269 32.1438 741.1 Q36.7589 736.898 44.7161 736.898 M42.9973 742.755 Q38.1912 742.818 35.3266 745.46 Q32.4621 748.07 32.4621 752.399 Q32.4621 757.3 35.2312 760.26 Q38.0002 763.189 43.0292 763.634 L42.9973 742.755 Z\" fill=\"#000000\" fill-rule=\"nonzero\" fill-opacity=\"1\" /><path clip-path=\"url(#clip020)\" d=\"M42.4881 697.654 L64.0042 697.654 L64.0042 703.51 L42.679 703.51 Q37.6183 703.51 35.1038 705.483 Q32.5894 707.457 32.5894 711.404 Q32.5894 716.146 35.6131 718.883 Q38.6368 721.621 43.8567 721.621 L64.0042 721.621 L64.0042 727.509 L28.3562 727.509 L28.3562 721.621 L33.8944 721.621 Q30.6797 719.52 29.0883 716.687 Q27.4968 713.823 27.4968 710.099 Q27.4968 703.956 31.3163 700.805 Q35.1038 697.654 42.4881 697.654 Z\" fill=\"#000000\" fill-rule=\"nonzero\" fill-opacity=\"1\" /><path clip-path=\"url(#clip020)\" d=\"M29.7248 660.319 L35.1993 660.319 Q33.8307 662.801 33.1623 665.316 Q32.4621 667.798 32.4621 670.345 Q32.4621 676.042 36.0905 679.193 Q39.6872 682.344 46.212 682.344 Q52.7369 682.344 56.3653 679.193 Q59.9619 676.042 59.9619 670.345 Q59.9619 667.798 59.2935 665.316 Q58.5933 662.801 57.2247 660.319 L62.6355 660.319 Q63.7814 662.77 64.3543 665.411 Q64.9272 668.021 64.9272 670.981 Q64.9272 679.034 59.8664 683.776 Q54.8057 688.519 46.212 688.519 Q37.491 688.519 32.4939 683.745 Q27.4968 678.938 27.4968 670.599 Q27.4968 667.894 28.0697 665.316 Q28.6108 662.738 29.7248 660.319 Z\" fill=\"#000000\" fill-rule=\"nonzero\" fill-opacity=\"1\" /><path clip-path=\"url(#clip020)\" d=\"M28.3562 650.134 L28.3562 644.277 L64.0042 644.277 L64.0042 650.134 L28.3562 650.134 M14.479 650.134 L14.479 644.277 L21.895 644.277 L21.895 650.134 L14.479 650.134 Z\" fill=\"#000000\" fill-rule=\"nonzero\" fill-opacity=\"1\" /><path clip-path=\"url(#clip020)\" d=\"M46.0847 615.822 Q46.0847 622.92 47.7079 625.658 Q49.3312 628.395 53.2461 628.395 Q56.3653 628.395 58.2114 626.358 Q60.0256 624.289 60.0256 620.756 Q60.0256 615.886 56.5881 612.958 Q53.1188 609.998 47.3897 609.998 L46.0847 609.998 L46.0847 615.822 M43.6657 604.141 L64.0042 604.141 L64.0042 609.998 L58.5933 609.998 Q61.8398 612.003 63.3994 614.995 Q64.9272 617.987 64.9272 622.316 Q64.9272 627.79 61.8716 631.037 Q58.7843 634.251 53.6281 634.251 Q47.6125 634.251 44.5569 630.241 Q41.5014 626.199 41.5014 618.21 L41.5014 609.998 L40.9285 609.998 Q36.8862 609.998 34.6901 612.671 Q32.4621 615.313 32.4621 620.119 Q32.4621 623.175 33.1941 626.071 Q33.9262 628.968 35.3903 631.641 L29.9795 631.641 Q28.7381 628.427 28.1334 625.403 Q27.4968 622.379 27.4968 619.515 Q27.4968 611.78 31.5072 607.961 Q35.5176 604.141 43.6657 604.141 Z\" fill=\"#000000\" fill-rule=\"nonzero\" fill-opacity=\"1\" /><path clip-path=\"url(#clip020)\" d=\"M413.411 18.8205 L413.411 65.8515 L423.295 65.8515 Q435.812 65.8515 441.605 60.1802 Q447.438 54.509 447.438 42.2752 Q447.438 30.1225 441.605 24.4918 Q435.812 18.8205 423.295 18.8205 L413.411 18.8205 M405.228 12.096 L422.039 12.096 Q439.62 12.096 447.843 19.4281 Q456.067 26.7198 456.067 42.2752 Q456.067 57.9117 447.803 65.2439 Q439.539 72.576 422.039 72.576 L405.228 72.576 L405.228 12.096 Z\" fill=\"#000000\" fill-rule=\"nonzero\" fill-opacity=\"1\" /><path clip-path=\"url(#clip020)\" d=\"M468.787 27.2059 L476.24 27.2059 L476.24 72.576 L468.787 72.576 L468.787 27.2059 M468.787 9.54393 L476.24 9.54393 L476.24 18.9825 L468.787 18.9825 L468.787 9.54393 Z\" fill=\"#000000\" fill-rule=\"nonzero\" fill-opacity=\"1\" /><path clip-path=\"url(#clip020)\" d=\"M520.76 28.5427 L520.76 35.5912 Q517.6 33.9709 514.197 33.1607 Q510.794 32.3505 507.149 32.3505 Q501.599 32.3505 498.804 34.0519 Q496.049 35.7533 496.049 39.156 Q496.049 41.7486 498.034 43.2475 Q500.019 44.7058 506.014 46.0426 L508.566 46.6097 Q516.506 48.3111 519.828 51.4303 Q523.19 54.509 523.19 60.0587 Q523.19 66.3781 518.167 70.0644 Q513.184 73.7508 504.434 73.7508 Q500.789 73.7508 496.819 73.0216 Q492.889 72.3329 488.514 70.9151 L488.514 63.2184 Q492.646 65.3654 496.657 66.4591 Q500.667 67.5124 504.597 67.5124 Q509.863 67.5124 512.698 65.73 Q515.534 63.9071 515.534 60.6258 Q515.534 57.5877 513.468 55.9673 Q511.443 54.3469 504.516 52.8481 L501.923 52.2405 Q494.996 50.7821 491.917 47.7845 Q488.839 44.7463 488.839 39.4801 Q488.839 33.0797 493.376 29.5959 Q497.913 26.1121 506.257 26.1121 Q510.389 26.1121 514.035 26.7198 Q517.681 27.3274 520.76 28.5427 Z\" fill=\"#000000\" fill-rule=\"nonzero\" fill-opacity=\"1\" /><path clip-path=\"url(#clip020)\" d=\"M542.432 14.324 L542.432 27.2059 L557.785 27.2059 L557.785 32.9987 L542.432 32.9987 L542.432 57.6282 Q542.432 63.1779 543.931 64.7578 Q545.47 66.3376 550.129 66.3376 L557.785 66.3376 L557.785 72.576 L550.129 72.576 Q541.5 72.576 538.219 69.3758 Q534.938 66.1351 534.938 57.6282 L534.938 32.9987 L529.469 32.9987 L529.469 27.2059 L534.938 27.2059 L534.938 14.324 L542.432 14.324 Z\" fill=\"#000000\" fill-rule=\"nonzero\" fill-opacity=\"1\" /><path clip-path=\"url(#clip020)\" d=\"M593.878 34.1734 Q592.623 33.4443 591.124 33.1202 Q589.666 32.7556 587.883 32.7556 Q581.564 32.7556 578.161 36.8875 Q574.799 40.9789 574.799 48.6757 L574.799 72.576 L567.305 72.576 L567.305 27.2059 L574.799 27.2059 L574.799 34.2544 Q577.148 30.1225 580.916 28.1376 Q584.683 26.1121 590.071 26.1121 Q590.84 26.1121 591.772 26.2337 Q592.704 26.3147 593.838 26.5172 L593.878 34.1734 Z\" fill=\"#000000\" fill-rule=\"nonzero\" fill-opacity=\"1\" /><path clip-path=\"url(#clip020)\" d=\"M601.697 27.2059 L609.15 27.2059 L609.15 72.576 L601.697 72.576 L601.697 27.2059 M601.697 9.54393 L609.15 9.54393 L609.15 18.9825 L601.697 18.9825 L601.697 9.54393 Z\" fill=\"#000000\" fill-rule=\"nonzero\" fill-opacity=\"1\" /><path clip-path=\"url(#clip020)\" d=\"M657.316 49.9314 Q657.316 41.7081 653.913 37.0496 Q650.551 32.3505 644.636 32.3505 Q638.722 32.3505 635.319 37.0496 Q631.957 41.7081 631.957 49.9314 Q631.957 58.1548 635.319 62.8538 Q638.722 67.5124 644.636 67.5124 Q650.551 67.5124 653.913 62.8538 Q657.316 58.1548 657.316 49.9314 M631.957 34.0924 Q634.306 30.0415 637.871 28.0971 Q641.477 26.1121 646.459 26.1121 Q654.723 26.1121 659.868 32.6746 Q665.053 39.2371 665.053 49.9314 Q665.053 60.6258 659.868 67.1883 Q654.723 73.7508 646.459 73.7508 Q641.477 73.7508 637.871 71.8063 Q634.306 69.8214 631.957 65.7705 L631.957 72.576 L624.463 72.576 L624.463 9.54393 L631.957 9.54393 L631.957 34.0924 Z\" fill=\"#000000\" fill-rule=\"nonzero\" fill-opacity=\"1\" /><path clip-path=\"url(#clip020)\" d=\"M676.638 54.671 L676.638 27.2059 L684.092 27.2059 L684.092 54.3874 Q684.092 60.8284 686.604 64.0691 Q689.115 67.2693 694.138 67.2693 Q700.174 67.2693 703.658 63.421 Q707.182 59.5726 707.182 52.9291 L707.182 27.2059 L714.636 27.2059 L714.636 72.576 L707.182 72.576 L707.182 65.6084 Q704.468 69.7404 700.863 71.7658 Q697.298 73.7508 692.558 73.7508 Q684.74 73.7508 680.689 68.8897 Q676.638 64.0286 676.638 54.671 M695.394 26.1121 L695.394 26.1121 Z\" fill=\"#000000\" fill-rule=\"nonzero\" fill-opacity=\"1\" /><path clip-path=\"url(#clip020)\" d=\"M762.639 28.9478 L762.639 35.9153 Q759.479 34.1734 756.279 33.3227 Q753.119 32.4315 749.879 32.4315 Q742.628 32.4315 738.617 37.0496 Q734.607 41.6271 734.607 49.9314 Q734.607 58.2358 738.617 62.8538 Q742.628 67.4314 749.879 67.4314 Q753.119 67.4314 756.279 66.5807 Q759.479 65.6895 762.639 63.9476 L762.639 70.8341 Q759.52 72.2924 756.158 73.0216 Q752.836 73.7508 749.069 73.7508 Q738.82 73.7508 732.784 67.3098 Q726.748 60.8689 726.748 49.9314 Q726.748 38.832 732.824 32.472 Q738.941 26.1121 749.555 26.1121 Q752.998 26.1121 756.279 26.8413 Q759.56 27.5299 762.639 28.9478 Z\" fill=\"#000000\" fill-rule=\"nonzero\" fill-opacity=\"1\" /><path clip-path=\"url(#clip020)\" d=\"M775.602 27.2059 L783.056 27.2059 L783.056 72.576 L775.602 72.576 L775.602 27.2059 M775.602 9.54393 L783.056 9.54393 L783.056 18.9825 L775.602 18.9825 L775.602 9.54393 Z\" fill=\"#000000\" fill-rule=\"nonzero\" fill-opacity=\"1\" /><path clip-path=\"url(#clip020)\" d=\"M816.233 32.4315 Q810.237 32.4315 806.753 37.1306 Q803.27 41.7891 803.27 49.9314 Q803.27 58.0738 806.713 62.7728 Q810.197 67.4314 816.233 67.4314 Q822.187 67.4314 825.671 62.7323 Q829.155 58.0333 829.155 49.9314 Q829.155 41.8701 825.671 37.1711 Q822.187 32.4315 816.233 32.4315 M816.233 26.1121 Q825.955 26.1121 831.504 32.4315 Q837.054 38.7509 837.054 49.9314 Q837.054 61.0714 831.504 67.4314 Q825.955 73.7508 816.233 73.7508 Q806.47 73.7508 800.92 67.4314 Q795.411 61.0714 795.411 49.9314 Q795.411 38.7509 800.92 32.4315 Q806.47 26.1121 816.233 26.1121 M821.863 6.22219 L829.925 6.22219 L816.719 21.4536 L810.521 21.4536 L821.863 6.22219 Z\" fill=\"#000000\" fill-rule=\"nonzero\" fill-opacity=\"1\" /><path clip-path=\"url(#clip020)\" d=\"M887.123 45.1919 L887.123 72.576 L879.67 72.576 L879.67 45.4349 Q879.67 38.994 877.158 35.7938 Q874.647 32.5936 869.624 32.5936 Q863.588 32.5936 860.104 36.4419 Q856.62 40.2903 856.62 46.9338 L856.62 72.576 L849.126 72.576 L849.126 27.2059 L856.62 27.2059 L856.62 34.2544 Q859.294 30.163 862.899 28.1376 Q866.545 26.1121 871.284 26.1121 Q879.103 26.1121 883.113 30.9732 Q887.123 35.7938 887.123 45.1919 Z\" fill=\"#000000\" fill-rule=\"nonzero\" fill-opacity=\"1\" /><path clip-path=\"url(#clip020)\" d=\"M960.931 49.9314 Q960.931 41.7081 957.528 37.0496 Q954.166 32.3505 948.252 32.3505 Q942.337 32.3505 938.934 37.0496 Q935.572 41.7081 935.572 49.9314 Q935.572 58.1548 938.934 62.8538 Q942.337 67.5124 948.252 67.5124 Q954.166 67.5124 957.528 62.8538 Q960.931 58.1548 960.931 49.9314 M935.572 34.0924 Q937.922 30.0415 941.487 28.0971 Q945.092 26.1121 950.074 26.1121 Q958.338 26.1121 963.483 32.6746 Q968.668 39.2371 968.668 49.9314 Q968.668 60.6258 963.483 67.1883 Q958.338 73.7508 950.074 73.7508 Q945.092 73.7508 941.487 71.8063 Q937.922 69.8214 935.572 65.7705 L935.572 72.576 L928.078 72.576 L928.078 9.54393 L935.572 9.54393 L935.572 34.0924 Z\" fill=\"#000000\" fill-rule=\"nonzero\" fill-opacity=\"1\" /><path clip-path=\"url(#clip020)\" d=\"M998.604 32.4315 Q992.609 32.4315 989.125 37.1306 Q985.641 41.7891 985.641 49.9314 Q985.641 58.0738 989.085 62.7728 Q992.568 67.4314 998.604 67.4314 Q1004.56 67.4314 1008.04 62.7323 Q1011.53 58.0333 1011.53 49.9314 Q1011.53 41.8701 1008.04 37.1711 Q1004.56 32.4315 998.604 32.4315 M998.604 26.1121 Q1008.33 26.1121 1013.88 32.4315 Q1019.43 38.7509 1019.43 49.9314 Q1019.43 61.0714 1013.88 67.4314 Q1008.33 73.7508 998.604 73.7508 Q988.842 73.7508 983.292 67.4314 Q977.783 61.0714 977.783 49.9314 Q977.783 38.7509 983.292 32.4315 Q988.842 26.1121 998.604 26.1121 Z\" fill=\"#000000\" fill-rule=\"nonzero\" fill-opacity=\"1\" /><path clip-path=\"url(#clip020)\" d=\"M1049.36 32.4315 Q1043.37 32.4315 1039.88 37.1306 Q1036.4 41.7891 1036.4 49.9314 Q1036.4 58.0738 1039.84 62.7728 Q1043.33 67.4314 1049.36 67.4314 Q1055.32 67.4314 1058.8 62.7323 Q1062.28 58.0333 1062.28 49.9314 Q1062.28 41.8701 1058.8 37.1711 Q1055.32 32.4315 1049.36 32.4315 M1049.36 26.1121 Q1059.08 26.1121 1064.63 32.4315 Q1070.18 38.7509 1070.18 49.9314 Q1070.18 61.0714 1064.63 67.4314 Q1059.08 73.7508 1049.36 73.7508 Q1039.6 73.7508 1034.05 67.4314 Q1028.54 61.0714 1028.54 49.9314 Q1028.54 38.7509 1034.05 32.4315 Q1039.6 26.1121 1049.36 26.1121 Z\" fill=\"#000000\" fill-rule=\"nonzero\" fill-opacity=\"1\" /><path clip-path=\"url(#clip020)\" d=\"M1089.91 14.324 L1089.91 27.2059 L1105.26 27.2059 L1105.26 32.9987 L1089.91 32.9987 L1089.91 57.6282 Q1089.91 63.1779 1091.41 64.7578 Q1092.95 66.3376 1097.61 66.3376 L1105.26 66.3376 L1105.26 72.576 L1097.61 72.576 Q1088.98 72.576 1085.7 69.3758 Q1082.42 66.1351 1082.42 57.6282 L1082.42 32.9987 L1076.95 32.9987 L1076.95 27.2059 L1082.42 27.2059 L1082.42 14.324 L1089.91 14.324 Z\" fill=\"#000000\" fill-rule=\"nonzero\" fill-opacity=\"1\" /><path clip-path=\"url(#clip020)\" d=\"M1143.99 28.5427 L1143.99 35.5912 Q1140.83 33.9709 1137.43 33.1607 Q1134.03 32.3505 1130.38 32.3505 Q1124.83 32.3505 1122.04 34.0519 Q1119.28 35.7533 1119.28 39.156 Q1119.28 41.7486 1121.27 43.2475 Q1123.25 44.7058 1129.25 46.0426 L1131.8 46.6097 Q1139.74 48.3111 1143.06 51.4303 Q1146.42 54.509 1146.42 60.0587 Q1146.42 66.3781 1141.4 70.0644 Q1136.42 73.7508 1127.67 73.7508 Q1124.02 73.7508 1120.05 73.0216 Q1116.12 72.3329 1111.75 70.9151 L1111.75 63.2184 Q1115.88 65.3654 1119.89 66.4591 Q1123.9 67.5124 1127.83 67.5124 Q1133.09 67.5124 1135.93 65.73 Q1138.77 63.9071 1138.77 60.6258 Q1138.77 57.5877 1136.7 55.9673 Q1134.67 54.3469 1127.75 52.8481 L1125.15 52.2405 Q1118.23 50.7821 1115.15 47.7845 Q1112.07 44.7463 1112.07 39.4801 Q1112.07 33.0797 1116.61 29.5959 Q1121.14 26.1121 1129.49 26.1121 Q1133.62 26.1121 1137.27 26.7198 Q1140.91 27.3274 1143.99 28.5427 Z\" fill=\"#000000\" fill-rule=\"nonzero\" fill-opacity=\"1\" /><path clip-path=\"url(#clip020)\" d=\"M1165.66 14.324 L1165.66 27.2059 L1181.02 27.2059 L1181.02 32.9987 L1165.66 32.9987 L1165.66 57.6282 Q1165.66 63.1779 1167.16 64.7578 Q1168.7 66.3376 1173.36 66.3376 L1181.02 66.3376 L1181.02 72.576 L1173.36 72.576 Q1164.73 72.576 1161.45 69.3758 Q1158.17 66.1351 1158.17 57.6282 L1158.17 32.9987 L1152.7 32.9987 L1152.7 27.2059 L1158.17 27.2059 L1158.17 14.324 L1165.66 14.324 Z\" fill=\"#000000\" fill-rule=\"nonzero\" fill-opacity=\"1\" /><path clip-path=\"url(#clip020)\" d=\"M1217.11 34.1734 Q1215.85 33.4443 1214.36 33.1202 Q1212.9 32.7556 1211.11 32.7556 Q1204.8 32.7556 1201.39 36.8875 Q1198.03 40.9789 1198.03 48.6757 L1198.03 72.576 L1190.54 72.576 L1190.54 27.2059 L1198.03 27.2059 L1198.03 34.2544 Q1200.38 30.1225 1204.15 28.1376 Q1207.91 26.1121 1213.3 26.1121 Q1214.07 26.1121 1215 26.2337 Q1215.94 26.3147 1217.07 26.5172 L1217.11 34.1734 Z\" fill=\"#000000\" fill-rule=\"nonzero\" fill-opacity=\"1\" /><path clip-path=\"url(#clip020)\" d=\"M1245.55 49.7694 Q1236.51 49.7694 1233.03 51.8354 Q1229.55 53.9013 1229.55 58.8839 Q1229.55 62.8538 1232.14 65.2034 Q1234.77 67.5124 1239.27 67.5124 Q1245.47 67.5124 1249.19 63.1374 Q1252.96 58.7219 1252.96 51.4303 L1252.96 49.7694 L1245.55 49.7694 M1260.41 46.6907 L1260.41 72.576 L1252.96 72.576 L1252.96 65.6895 Q1250.41 69.8214 1246.6 71.8063 Q1242.79 73.7508 1237.28 73.7508 Q1230.32 73.7508 1226.18 69.8619 Q1222.09 65.9325 1222.09 59.3701 Q1222.09 51.7138 1227.2 47.825 Q1232.34 43.9361 1242.51 43.9361 L1252.96 43.9361 L1252.96 43.2069 Q1252.96 38.0623 1249.56 35.2672 Q1246.2 32.4315 1240.08 32.4315 Q1236.19 32.4315 1232.5 33.3632 Q1228.82 34.295 1225.41 36.1584 L1225.41 29.2718 Q1229.51 27.692 1233.35 26.9223 Q1237.2 26.1121 1240.85 26.1121 Q1250.69 26.1121 1255.55 31.2163 Q1260.41 36.3204 1260.41 46.6907 Z\" fill=\"#000000\" fill-rule=\"nonzero\" fill-opacity=\"1\" /><path clip-path=\"url(#clip020)\" d=\"M1282.98 65.7705 L1282.98 89.8329 L1275.48 89.8329 L1275.48 27.2059 L1282.98 27.2059 L1282.98 34.0924 Q1285.33 30.0415 1288.89 28.0971 Q1292.5 26.1121 1297.48 26.1121 Q1305.74 26.1121 1310.89 32.6746 Q1316.07 39.2371 1316.07 49.9314 Q1316.07 60.6258 1310.89 67.1883 Q1305.74 73.7508 1297.48 73.7508 Q1292.5 73.7508 1288.89 71.8063 Q1285.33 69.8214 1282.98 65.7705 M1308.34 49.9314 Q1308.34 41.7081 1304.93 37.0496 Q1301.57 32.3505 1295.66 32.3505 Q1289.74 32.3505 1286.34 37.0496 Q1282.98 41.7081 1282.98 49.9314 Q1282.98 58.1548 1286.34 62.8538 Q1289.74 67.5124 1295.66 67.5124 Q1301.57 67.5124 1304.93 62.8538 Q1308.34 58.1548 1308.34 49.9314 Z\" fill=\"#000000\" fill-rule=\"nonzero\" fill-opacity=\"1\" /><path clip-path=\"url(#clip020)\" d=\"M1384.66 34.0924 L1384.66 9.54393 L1392.11 9.54393 L1392.11 72.576 L1384.66 72.576 L1384.66 65.7705 Q1382.31 69.8214 1378.7 71.8063 Q1375.14 73.7508 1370.11 73.7508 Q1361.89 73.7508 1356.7 67.1883 Q1351.56 60.6258 1351.56 49.9314 Q1351.56 39.2371 1356.7 32.6746 Q1361.89 26.1121 1370.11 26.1121 Q1375.14 26.1121 1378.7 28.0971 Q1382.31 30.0415 1384.66 34.0924 M1359.26 49.9314 Q1359.26 58.1548 1362.62 62.8538 Q1366.02 67.5124 1371.94 67.5124 Q1377.85 67.5124 1381.25 62.8538 Q1384.66 58.1548 1384.66 49.9314 Q1384.66 41.7081 1381.25 37.0496 Q1377.85 32.3505 1371.94 32.3505 Q1366.02 32.3505 1362.62 37.0496 Q1359.26 41.7081 1359.26 49.9314 Z\" fill=\"#000000\" fill-rule=\"nonzero\" fill-opacity=\"1\" /><path clip-path=\"url(#clip020)\" d=\"M1446.27 48.0275 L1446.27 51.6733 L1412 51.6733 Q1412.49 59.3701 1416.62 63.421 Q1420.79 67.4314 1428.2 67.4314 Q1432.5 67.4314 1436.51 66.3781 Q1440.56 65.3249 1444.53 63.2184 L1444.53 70.267 Q1440.52 71.9684 1436.3 72.8596 Q1432.09 73.7508 1427.76 73.7508 Q1416.9 73.7508 1410.54 67.4314 Q1404.22 61.1119 1404.22 50.3365 Q1404.22 39.1965 1410.22 32.6746 Q1416.25 26.1121 1426.46 26.1121 Q1435.62 26.1121 1440.92 32.0264 Q1446.27 37.9003 1446.27 48.0275 M1438.82 45.84 Q1438.74 39.7232 1435.37 36.0774 Q1432.05 32.4315 1426.54 32.4315 Q1420.3 32.4315 1416.54 35.9558 Q1412.81 39.4801 1412.24 45.8805 L1438.82 45.84 Z\" fill=\"#000000\" fill-rule=\"nonzero\" fill-opacity=\"1\" /><path clip-path=\"url(#clip020)\" d=\"M1505.49 49.7694 Q1496.46 49.7694 1492.98 51.8354 Q1489.49 53.9013 1489.49 58.8839 Q1489.49 62.8538 1492.09 65.2034 Q1494.72 67.5124 1499.22 67.5124 Q1505.41 67.5124 1509.14 63.1374 Q1512.91 58.7219 1512.91 51.4303 L1512.91 49.7694 L1505.49 49.7694 M1520.36 46.6907 L1520.36 72.576 L1512.91 72.576 L1512.91 65.6895 Q1510.36 69.8214 1506.55 71.8063 Q1502.74 73.7508 1497.23 73.7508 Q1490.26 73.7508 1486.13 69.8619 Q1482.04 65.9325 1482.04 59.3701 Q1482.04 51.7138 1487.14 47.825 Q1492.29 43.9361 1502.46 43.9361 L1512.91 43.9361 L1512.91 43.2069 Q1512.91 38.0623 1509.5 35.2672 Q1506.14 32.4315 1500.03 32.4315 Q1496.14 32.4315 1492.45 33.3632 Q1488.76 34.295 1485.36 36.1584 L1485.36 29.2718 Q1489.45 27.692 1493.3 26.9223 Q1497.15 26.1121 1500.79 26.1121 Q1510.64 26.1121 1515.5 31.2163 Q1520.36 36.3204 1520.36 46.6907 Z\" fill=\"#000000\" fill-rule=\"nonzero\" fill-opacity=\"1\" /><path clip-path=\"url(#clip020)\" d=\"M1568.36 28.9478 L1568.36 35.9153 Q1565.2 34.1734 1562 33.3227 Q1558.84 32.4315 1555.6 32.4315 Q1548.35 32.4315 1544.34 37.0496 Q1540.33 41.6271 1540.33 49.9314 Q1540.33 58.2358 1544.34 62.8538 Q1548.35 67.4314 1555.6 67.4314 Q1558.84 67.4314 1562 66.5807 Q1565.2 65.6895 1568.36 63.9476 L1568.36 70.8341 Q1565.24 72.2924 1561.88 73.0216 Q1558.56 73.7508 1554.79 73.7508 Q1544.54 73.7508 1538.51 67.3098 Q1532.47 60.8689 1532.47 49.9314 Q1532.47 38.832 1538.55 32.472 Q1544.67 26.1121 1555.28 26.1121 Q1558.72 26.1121 1562 26.8413 Q1565.29 27.5299 1568.36 28.9478 Z\" fill=\"#000000\" fill-rule=\"nonzero\" fill-opacity=\"1\" /><path clip-path=\"url(#clip020)\" d=\"M1613.98 28.9478 L1613.98 35.9153 Q1610.82 34.1734 1607.62 33.3227 Q1604.46 32.4315 1601.22 32.4315 Q1593.97 32.4315 1589.96 37.0496 Q1585.94 41.6271 1585.94 49.9314 Q1585.94 58.2358 1589.96 62.8538 Q1593.97 67.4314 1601.22 67.4314 Q1604.46 67.4314 1607.62 66.5807 Q1610.82 65.6895 1613.98 63.9476 L1613.98 70.8341 Q1610.86 72.2924 1607.5 73.0216 Q1604.17 73.7508 1600.41 73.7508 Q1590.16 73.7508 1584.12 67.3098 Q1578.09 60.8689 1578.09 49.9314 Q1578.09 38.832 1584.16 32.472 Q1590.28 26.1121 1600.89 26.1121 Q1604.34 26.1121 1607.62 26.8413 Q1610.9 27.5299 1613.98 28.9478 Z\" fill=\"#000000\" fill-rule=\"nonzero\" fill-opacity=\"1\" /><path clip-path=\"url(#clip020)\" d=\"M1626.17 54.671 L1626.17 27.2059 L1633.62 27.2059 L1633.62 54.3874 Q1633.62 60.8284 1636.14 64.0691 Q1638.65 67.2693 1643.67 67.2693 Q1649.71 67.2693 1653.19 63.421 Q1656.71 59.5726 1656.71 52.9291 L1656.71 27.2059 L1664.17 27.2059 L1664.17 72.576 L1656.71 72.576 L1656.71 65.6084 Q1654 69.7404 1650.39 71.7658 Q1646.83 73.7508 1642.09 73.7508 Q1634.27 73.7508 1630.22 68.8897 Q1626.17 64.0286 1626.17 54.671 M1644.93 26.1121 L1644.93 26.1121 Z\" fill=\"#000000\" fill-rule=\"nonzero\" fill-opacity=\"1\" /><path clip-path=\"url(#clip020)\" d=\"M1705.81 34.1734 Q1704.56 33.4443 1703.06 33.1202 Q1701.6 32.7556 1699.82 32.7556 Q1693.5 32.7556 1690.09 36.8875 Q1686.73 40.9789 1686.73 48.6757 L1686.73 72.576 L1679.24 72.576 L1679.24 27.2059 L1686.73 27.2059 L1686.73 34.2544 Q1689.08 30.1225 1692.85 28.1376 Q1696.62 26.1121 1702 26.1121 Q1702.77 26.1121 1703.7 26.2337 Q1704.64 26.3147 1705.77 26.5172 L1705.81 34.1734 Z\" fill=\"#000000\" fill-rule=\"nonzero\" fill-opacity=\"1\" /><path clip-path=\"url(#clip020)\" d=\"M1734.25 49.7694 Q1725.21 49.7694 1721.73 51.8354 Q1718.25 53.9013 1718.25 58.8839 Q1718.25 62.8538 1720.84 65.2034 Q1723.47 67.5124 1727.97 67.5124 Q1734.17 67.5124 1737.89 63.1374 Q1741.66 58.7219 1741.66 51.4303 L1741.66 49.7694 L1734.25 49.7694 M1749.12 46.6907 L1749.12 72.576 L1741.66 72.576 L1741.66 65.6895 Q1739.11 69.8214 1735.3 71.8063 Q1731.49 73.7508 1725.98 73.7508 Q1719.02 73.7508 1714.89 69.8619 Q1710.79 65.9325 1710.79 59.3701 Q1710.79 51.7138 1715.9 47.825 Q1721.04 43.9361 1731.21 43.9361 L1741.66 43.9361 L1741.66 43.2069 Q1741.66 38.0623 1738.26 35.2672 Q1734.9 32.4315 1728.78 32.4315 Q1724.89 32.4315 1721.2 33.3632 Q1717.52 34.295 1714.12 36.1584 L1714.12 29.2718 Q1718.21 27.692 1722.06 26.9223 Q1725.9 26.1121 1729.55 26.1121 Q1739.39 26.1121 1744.25 31.2163 Q1749.12 36.3204 1749.12 46.6907 Z\" fill=\"#000000\" fill-rule=\"nonzero\" fill-opacity=\"1\" /><path clip-path=\"url(#clip020)\" d=\"M1797.12 28.9478 L1797.12 35.9153 Q1793.96 34.1734 1790.76 33.3227 Q1787.6 32.4315 1784.36 32.4315 Q1777.11 32.4315 1773.1 37.0496 Q1769.09 41.6271 1769.09 49.9314 Q1769.09 58.2358 1773.1 62.8538 Q1777.11 67.4314 1784.36 67.4314 Q1787.6 67.4314 1790.76 66.5807 Q1793.96 65.6895 1797.12 63.9476 L1797.12 70.8341 Q1794 72.2924 1790.64 73.0216 Q1787.32 73.7508 1783.55 73.7508 Q1773.3 73.7508 1767.26 67.3098 Q1761.23 60.8689 1761.23 49.9314 Q1761.23 38.832 1767.3 32.472 Q1773.42 26.1121 1784.03 26.1121 Q1787.48 26.1121 1790.76 26.8413 Q1794.04 27.5299 1797.12 28.9478 Z\" fill=\"#000000\" fill-rule=\"nonzero\" fill-opacity=\"1\" /><path clip-path=\"url(#clip020)\" d=\"M1828.96 76.7889 Q1825.8 84.8907 1822.8 87.3618 Q1819.8 89.8329 1814.78 89.8329 L1808.83 89.8329 L1808.83 83.5945 L1813.2 83.5945 Q1816.28 83.5945 1817.98 82.1361 Q1819.68 80.6778 1821.75 75.2496 L1823.08 71.8468 L1804.73 27.2059 L1812.63 27.2059 L1826.81 62.6918 L1840.99 27.2059 L1848.89 27.2059 L1828.96 76.7889 Z\" fill=\"#000000\" fill-rule=\"nonzero\" fill-opacity=\"1\" /><path clip-path=\"url(#clip020)\" d=\"M1915.4 49.3643 Q1915.4 41.2625 1912.04 36.8065 Q1908.72 32.3505 1902.69 32.3505 Q1896.69 32.3505 1893.33 36.8065 Q1890.01 41.2625 1890.01 49.3643 Q1890.01 57.4256 1893.33 61.8816 Q1896.69 66.3376 1902.69 66.3376 Q1908.72 66.3376 1912.04 61.8816 Q1915.4 57.4256 1915.4 49.3643 M1922.86 66.9452 Q1922.86 78.5308 1917.71 84.1616 Q1912.57 89.8329 1901.96 89.8329 Q1898.03 89.8329 1894.54 89.2252 Q1891.06 88.6581 1887.78 87.4428 L1887.78 80.1917 Q1891.06 81.9741 1894.26 82.8248 Q1897.46 83.6755 1900.78 83.6755 Q1908.11 83.6755 1911.76 79.8271 Q1915.4 76.0193 1915.4 68.282 L1915.4 64.5957 Q1913.1 68.6061 1909.49 70.5911 Q1905.89 72.576 1900.86 72.576 Q1892.52 72.576 1887.41 66.2161 Q1882.31 59.8562 1882.31 49.3643 Q1882.31 38.832 1887.41 32.472 Q1892.52 26.1121 1900.86 26.1121 Q1905.89 26.1121 1909.49 28.0971 Q1913.1 30.082 1915.4 34.0924 L1915.4 27.2059 L1922.86 27.2059 L1922.86 66.9452 Z\" fill=\"#000000\" fill-rule=\"nonzero\" fill-opacity=\"1\" /><path clip-path=\"url(#clip020)\" d=\"M1938.21 9.54393 L1945.67 9.54393 L1945.67 72.576 L1938.21 72.576 L1938.21 9.54393 Z\" fill=\"#000000\" fill-rule=\"nonzero\" fill-opacity=\"1\" /><path clip-path=\"url(#clip020)\" d=\"M1978.84 32.4315 Q1972.85 32.4315 1969.36 37.1306 Q1965.88 41.7891 1965.88 49.9314 Q1965.88 58.0738 1969.32 62.7728 Q1972.81 67.4314 1978.84 67.4314 Q1984.8 67.4314 1988.28 62.7323 Q1991.76 58.0333 1991.76 49.9314 Q1991.76 41.8701 1988.28 37.1711 Q1984.8 32.4315 1978.84 32.4315 M1978.84 26.1121 Q1988.56 26.1121 1994.11 32.4315 Q1999.66 38.7509 1999.66 49.9314 Q1999.66 61.0714 1994.11 67.4314 Q1988.56 73.7508 1978.84 73.7508 Q1969.08 73.7508 1963.53 67.4314 Q1958.02 61.0714 1958.02 49.9314 Q1958.02 38.7509 1963.53 32.4315 Q1969.08 26.1121 1978.84 26.1121 Z\" fill=\"#000000\" fill-rule=\"nonzero\" fill-opacity=\"1\" /><path clip-path=\"url(#clip020)\" d=\"M2044.59 49.9314 Q2044.59 41.7081 2041.19 37.0496 Q2037.82 32.3505 2031.91 32.3505 Q2025.99 32.3505 2022.59 37.0496 Q2019.23 41.7081 2019.23 49.9314 Q2019.23 58.1548 2022.59 62.8538 Q2025.99 67.5124 2031.91 67.5124 Q2037.82 67.5124 2041.19 62.8538 Q2044.59 58.1548 2044.59 49.9314 M2019.23 34.0924 Q2021.58 30.0415 2025.14 28.0971 Q2028.75 26.1121 2033.73 26.1121 Q2042 26.1121 2047.14 32.6746 Q2052.33 39.2371 2052.33 49.9314 Q2052.33 60.6258 2047.14 67.1883 Q2042 73.7508 2033.73 73.7508 Q2028.75 73.7508 2025.14 71.8063 Q2021.58 69.8214 2019.23 65.7705 L2019.23 72.576 L2011.74 72.576 L2011.74 9.54393 L2019.23 9.54393 L2019.23 34.0924 Z\" fill=\"#000000\" fill-rule=\"nonzero\" fill-opacity=\"1\" /><path clip-path=\"url(#clip020)\" d=\"M2085.3 49.7694 Q2076.27 49.7694 2072.78 51.8354 Q2069.3 53.9013 2069.3 58.8839 Q2069.3 62.8538 2071.89 65.2034 Q2074.52 67.5124 2079.02 67.5124 Q2085.22 67.5124 2088.95 63.1374 Q2092.71 58.7219 2092.71 51.4303 L2092.71 49.7694 L2085.3 49.7694 M2100.17 46.6907 L2100.17 72.576 L2092.71 72.576 L2092.71 65.6895 Q2090.16 69.8214 2086.35 71.8063 Q2082.55 73.7508 2077.04 73.7508 Q2070.07 73.7508 2065.94 69.8619 Q2061.85 65.9325 2061.85 59.3701 Q2061.85 51.7138 2066.95 47.825 Q2072.09 43.9361 2082.26 43.9361 L2092.71 43.9361 L2092.71 43.2069 Q2092.71 38.0623 2089.31 35.2672 Q2085.95 32.4315 2079.83 32.4315 Q2075.94 32.4315 2072.26 33.3632 Q2068.57 34.295 2065.17 36.1584 L2065.17 29.2718 Q2069.26 27.692 2073.11 26.9223 Q2076.95 26.1121 2080.6 26.1121 Q2090.44 26.1121 2095.31 31.2163 Q2100.17 36.3204 2100.17 46.6907 Z\" fill=\"#000000\" fill-rule=\"nonzero\" fill-opacity=\"1\" /><path clip-path=\"url(#clip020)\" d=\"M2115.52 9.54393 L2122.97 9.54393 L2122.97 72.576 L2115.52 72.576 L2115.52 9.54393 Z\" fill=\"#000000\" fill-rule=\"nonzero\" fill-opacity=\"1\" /><path clip-path=\"url(#clip022)\" d=\"M295.201 773.326 L295.201 1423.18 L444.263 1423.18 L444.263 773.326 L295.201 773.326 L295.201 773.326  Z\" fill=\"#009af9\" fill-rule=\"evenodd\" fill-opacity=\"1\"/>\n<polyline clip-path=\"url(#clip022)\" style=\"stroke:#000000; stroke-linecap:round; stroke-linejoin:round; stroke-width:4; stroke-opacity:1; fill:none\" points=\"295.201,773.326 295.201,1423.18 444.263,1423.18 444.263,773.326 295.201,773.326 \"/>\n<path clip-path=\"url(#clip022)\" d=\"M444.263 1098.25 L444.263 1423.18 L593.324 1423.18 L593.324 1098.25 L444.263 1098.25 L444.263 1098.25  Z\" fill=\"#009af9\" fill-rule=\"evenodd\" fill-opacity=\"1\"/>\n<polyline clip-path=\"url(#clip022)\" style=\"stroke:#000000; stroke-linecap:round; stroke-linejoin:round; stroke-width:4; stroke-opacity:1; fill:none\" points=\"444.263,1098.25 444.263,1423.18 593.324,1423.18 593.324,1098.25 444.263,1098.25 \"/>\n<path clip-path=\"url(#clip022)\" d=\"M593.324 1423.18 L593.324 1423.18 L742.386 1423.18 L742.386 1423.18 L593.324 1423.18 L593.324 1423.18  Z\" fill=\"#009af9\" fill-rule=\"evenodd\" fill-opacity=\"1\"/>\n<polyline clip-path=\"url(#clip022)\" style=\"stroke:#000000; stroke-linecap:round; stroke-linejoin:round; stroke-width:4; stroke-opacity:1; fill:none\" points=\"593.324,1423.18 593.324,1423.18 742.386,1423.18 593.324,1423.18 \"/>\n<path clip-path=\"url(#clip022)\" d=\"M742.386 1098.25 L742.386 1423.18 L891.447 1423.18 L891.447 1098.25 L742.386 1098.25 L742.386 1098.25  Z\" fill=\"#009af9\" fill-rule=\"evenodd\" fill-opacity=\"1\"/>\n<polyline clip-path=\"url(#clip022)\" style=\"stroke:#000000; stroke-linecap:round; stroke-linejoin:round; stroke-width:4; stroke-opacity:1; fill:none\" points=\"742.386,1098.25 742.386,1423.18 891.447,1423.18 891.447,1098.25 742.386,1098.25 \"/>\n<path clip-path=\"url(#clip022)\" d=\"M891.447 1098.25 L891.447 1423.18 L1040.51 1423.18 L1040.51 1098.25 L891.447 1098.25 L891.447 1098.25  Z\" fill=\"#009af9\" fill-rule=\"evenodd\" fill-opacity=\"1\"/>\n<polyline clip-path=\"url(#clip022)\" style=\"stroke:#000000; stroke-linecap:round; stroke-linejoin:round; stroke-width:4; stroke-opacity:1; fill:none\" points=\"891.447,1098.25 891.447,1423.18 1040.51,1423.18 1040.51,1098.25 891.447,1098.25 \"/>\n<path clip-path=\"url(#clip022)\" d=\"M1040.51 1098.25 L1040.51 1423.18 L1189.57 1423.18 L1189.57 1098.25 L1040.51 1098.25 L1040.51 1098.25  Z\" fill=\"#009af9\" fill-rule=\"evenodd\" fill-opacity=\"1\"/>\n<polyline clip-path=\"url(#clip022)\" style=\"stroke:#000000; stroke-linecap:round; stroke-linejoin:round; stroke-width:4; stroke-opacity:1; fill:none\" points=\"1040.51,1098.25 1040.51,1423.18 1189.57,1423.18 1189.57,1098.25 1040.51,1098.25 \"/>\n<path clip-path=\"url(#clip022)\" d=\"M1189.57 773.326 L1189.57 1423.18 L1338.63 1423.18 L1338.63 773.326 L1189.57 773.326 L1189.57 773.326  Z\" fill=\"#009af9\" fill-rule=\"evenodd\" fill-opacity=\"1\"/>\n<polyline clip-path=\"url(#clip022)\" style=\"stroke:#000000; stroke-linecap:round; stroke-linejoin:round; stroke-width:4; stroke-opacity:1; fill:none\" points=\"1189.57,773.326 1189.57,1423.18 1338.63,1423.18 1338.63,773.326 1189.57,773.326 \"/>\n<path clip-path=\"url(#clip022)\" d=\"M1338.63 1098.25 L1338.63 1423.18 L1487.69 1423.18 L1487.69 1098.25 L1338.63 1098.25 L1338.63 1098.25  Z\" fill=\"#009af9\" fill-rule=\"evenodd\" fill-opacity=\"1\"/>\n<polyline clip-path=\"url(#clip022)\" style=\"stroke:#000000; stroke-linecap:round; stroke-linejoin:round; stroke-width:4; stroke-opacity:1; fill:none\" points=\"1338.63,1098.25 1338.63,1423.18 1487.69,1423.18 1487.69,1098.25 1338.63,1098.25 \"/>\n<path clip-path=\"url(#clip022)\" d=\"M1487.69 448.399 L1487.69 1423.18 L1636.75 1423.18 L1636.75 448.399 L1487.69 448.399 L1487.69 448.399  Z\" fill=\"#009af9\" fill-rule=\"evenodd\" fill-opacity=\"1\"/>\n<polyline clip-path=\"url(#clip022)\" style=\"stroke:#000000; stroke-linecap:round; stroke-linejoin:round; stroke-width:4; stroke-opacity:1; fill:none\" points=\"1487.69,448.399 1487.69,1423.18 1636.75,1423.18 1636.75,448.399 1487.69,448.399 \"/>\n<path clip-path=\"url(#clip022)\" d=\"M1636.75 123.472 L1636.75 1423.18 L1785.82 1423.18 L1785.82 123.472 L1636.75 123.472 L1636.75 123.472  Z\" fill=\"#009af9\" fill-rule=\"evenodd\" fill-opacity=\"1\"/>\n<polyline clip-path=\"url(#clip022)\" style=\"stroke:#000000; stroke-linecap:round; stroke-linejoin:round; stroke-width:4; stroke-opacity:1; fill:none\" points=\"1636.75,123.472 1636.75,1423.18 1785.82,1423.18 1785.82,123.472 1636.75,123.472 \"/>\n<path clip-path=\"url(#clip022)\" d=\"M1785.82 773.326 L1785.82 1423.18 L1934.88 1423.18 L1934.88 773.326 L1785.82 773.326 L1785.82 773.326  Z\" fill=\"#009af9\" fill-rule=\"evenodd\" fill-opacity=\"1\"/>\n<polyline clip-path=\"url(#clip022)\" style=\"stroke:#000000; stroke-linecap:round; stroke-linejoin:round; stroke-width:4; stroke-opacity:1; fill:none\" points=\"1785.82,773.326 1785.82,1423.18 1934.88,1423.18 1934.88,773.326 1785.82,773.326 \"/>\n<path clip-path=\"url(#clip022)\" d=\"M1934.88 1423.18 L1934.88 1423.18 L2083.94 1423.18 L2083.94 1423.18 L1934.88 1423.18 L1934.88 1423.18  Z\" fill=\"#009af9\" fill-rule=\"evenodd\" fill-opacity=\"1\"/>\n<polyline clip-path=\"url(#clip022)\" style=\"stroke:#000000; stroke-linecap:round; stroke-linejoin:round; stroke-width:4; stroke-opacity:1; fill:none\" points=\"1934.88,1423.18 1934.88,1423.18 2083.94,1423.18 1934.88,1423.18 \"/>\n<path clip-path=\"url(#clip022)\" d=\"M2083.94 773.326 L2083.94 1423.18 L2233 1423.18 L2233 773.326 L2083.94 773.326 L2083.94 773.326  Z\" fill=\"#009af9\" fill-rule=\"evenodd\" fill-opacity=\"1\"/>\n<polyline clip-path=\"url(#clip022)\" style=\"stroke:#000000; stroke-linecap:round; stroke-linejoin:round; stroke-width:4; stroke-opacity:1; fill:none\" points=\"2083.94,773.326 2083.94,1423.18 2233,1423.18 2233,773.326 2083.94,773.326 \"/>\n<circle clip-path=\"url(#clip022)\" style=\"fill:#009af9; stroke:none; fill-opacity:0\" cx=\"369.732\" cy=\"773.326\" r=\"2\"/>\n<circle clip-path=\"url(#clip022)\" style=\"fill:#009af9; stroke:none; fill-opacity:0\" cx=\"518.793\" cy=\"1098.25\" r=\"2\"/>\n<circle clip-path=\"url(#clip022)\" style=\"fill:#009af9; stroke:none; fill-opacity:0\" cx=\"667.855\" cy=\"1423.18\" r=\"2\"/>\n<circle clip-path=\"url(#clip022)\" style=\"fill:#009af9; stroke:none; fill-opacity:0\" cx=\"816.916\" cy=\"1098.25\" r=\"2\"/>\n<circle clip-path=\"url(#clip022)\" style=\"fill:#009af9; stroke:none; fill-opacity:0\" cx=\"965.978\" cy=\"1098.25\" r=\"2\"/>\n<circle clip-path=\"url(#clip022)\" style=\"fill:#009af9; stroke:none; fill-opacity:0\" cx=\"1115.04\" cy=\"1098.25\" r=\"2\"/>\n<circle clip-path=\"url(#clip022)\" style=\"fill:#009af9; stroke:none; fill-opacity:0\" cx=\"1264.1\" cy=\"773.326\" r=\"2\"/>\n<circle clip-path=\"url(#clip022)\" style=\"fill:#009af9; stroke:none; fill-opacity:0\" cx=\"1413.16\" cy=\"1098.25\" r=\"2\"/>\n<circle clip-path=\"url(#clip022)\" style=\"fill:#009af9; stroke:none; fill-opacity:0\" cx=\"1562.22\" cy=\"448.399\" r=\"2\"/>\n<circle clip-path=\"url(#clip022)\" style=\"fill:#009af9; stroke:none; fill-opacity:0\" cx=\"1711.28\" cy=\"123.472\" r=\"2\"/>\n<circle clip-path=\"url(#clip022)\" style=\"fill:#009af9; stroke:none; fill-opacity:0\" cx=\"1860.35\" cy=\"773.326\" r=\"2\"/>\n<circle clip-path=\"url(#clip022)\" style=\"fill:#009af9; stroke:none; fill-opacity:0\" cx=\"2009.41\" cy=\"1423.18\" r=\"2\"/>\n<circle clip-path=\"url(#clip022)\" style=\"fill:#009af9; stroke:none; fill-opacity:0\" cx=\"2158.47\" cy=\"773.326\" r=\"2\"/>\n<path clip-path=\"url(#clip020)\" d=\"M2010.02 270.476 L2280.18 270.476 L2280.18 166.796 L2010.02 166.796  Z\" fill=\"#ffffff\" fill-rule=\"evenodd\" fill-opacity=\"1\"/>\n<polyline clip-path=\"url(#clip020)\" style=\"stroke:#000000; stroke-linecap:round; stroke-linejoin:round; stroke-width:4; stroke-opacity:1; fill:none\" points=\"2010.02,270.476 2280.18,270.476 2280.18,166.796 2010.02,166.796 2010.02,270.476 \"/>\n<path clip-path=\"url(#clip020)\" d=\"M2034.21 239.372 L2179.36 239.372 L2179.36 197.9 L2034.21 197.9 L2034.21 239.372  Z\" fill=\"#009af9\" fill-rule=\"evenodd\" fill-opacity=\"1\"/>\n<polyline clip-path=\"url(#clip020)\" style=\"stroke:#000000; stroke-linecap:round; stroke-linejoin:round; stroke-width:4; stroke-opacity:1; fill:none\" points=\"2034.21,239.372 2179.36,239.372 2179.36,197.9 2034.21,197.9 2034.21,239.372 \"/>\n<path clip-path=\"url(#clip020)\" d=\"M2217.4 238.323 Q2215.59 242.953 2213.88 244.365 Q2212.17 245.777 2209.3 245.777 L2205.89 245.777 L2205.89 242.212 L2208.39 242.212 Q2210.15 242.212 2211.13 241.379 Q2212.1 240.545 2213.28 237.443 L2214.04 235.499 L2203.56 209.99 L2208.07 209.99 L2216.17 230.268 L2224.27 209.99 L2228.79 209.99 L2217.4 238.323 Z\" fill=\"#000000\" fill-rule=\"nonzero\" fill-opacity=\"1\" /><path clip-path=\"url(#clip020)\" d=\"M2236.08 231.981 L2243.72 231.981 L2243.72 205.615 L2235.41 207.282 L2235.41 203.022 L2243.67 201.356 L2248.35 201.356 L2248.35 231.981 L2255.99 231.981 L2255.99 235.916 L2236.08 235.916 L2236.08 231.981 Z\" fill=\"#000000\" fill-rule=\"nonzero\" fill-opacity=\"1\" /></svg>\n",
            "text/html": [
              "<img src=\"data:image/png;base64,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\" />"
            ]
          },
          "execution_count": 11,
          "metadata": {},
          "output_type": "execute_result"
        }
      ],
      "source": [
        "using StatsBase, Plots\n",
        "\n",
        "# Este gráfico se mostrará directamente en la salida\n",
        "histogram(boot_accs .* 100, bins=20, xlabel=\"Accuracy (%)\", ylabel=\"Frecuencia\", title=\"Distribución bootstrap de accuracy global\")\n",
        "# savefig(\"hist_accuracy_global.png\") # <--- LÍNEA DESACTIVADA\n"
      ]
    },
    {
      "cell_type": "code",
      "execution_count": null,
      "id": "JD8fg8c7wqZ4",
      "metadata": {
        "colab": {
          "background_save": true
        },
        "id": "JD8fg8c7wqZ4",
        "outputId": "2b656bab-e9e9-4845-d9ea-3244cb607349"
      },
      "outputs": [
        {
          "name": "stdout",
          "output_type": "stream",
          "text": [
            "IC95 global (percentiles): [0.40921874999999996, 0.6470312500000001]\n",
            "Clase 1 IC95 (percentiles): [0.061875, 0.9]\n",
            "Clase 2 IC95 (percentiles): [0.036875000000000005, 0.8512499999999998]\n",
            "Clase 3 IC95 (percentiles): [0.335625, 0.8381249999999999]\n",
            "Clase 4 IC95 (percentiles): [0.375, 0.813125]\n"
          ]
        }
      ],
      "source": [
        "\n",
        "println(\"IC95 global (percentiles): \", quantile(boot_accs, [0.025, 0.975]))\n",
        "\n",
        "for k in sort(collect(keys(boot_perclass)))\n",
        "    ci = quantile(boot_perclass[k], [0.025, 0.975])\n",
        "    println(\"Clase $k IC95 (percentiles): \", ci)\n",
        "\n",
        "    histogram(boot_perclass[k] .* 100, bins=20, xlabel=\"Accuracy (%)\", title=\"Bootstrap accuracy - clase $k\")\n",
        "\n",
        "end\n"
      ]
    }
  ],
  "metadata": {
    "colab": {
      "provenance": []
    },
    "kernelspec": {
      "display_name": "Julia",
      "name": "julia"
    },
    "language_info": {
      "name": "julia"
    }
  },
  "nbformat": 4,
  "nbformat_minor": 5
}