{
  "cells": [
    {
      "cell_type": "markdown",
      "metadata": {
        "id": "view-in-github",
        "colab_type": "text"
      },
      "source": [
        "<a href=\"https://colab.research.google.com/github/maribecrurod-art/Bootstrap-Proyect/blob/main/bootstrap_flechitas_hmm_Mariana_modificado.ipynb\" target=\"_parent\"><img src=\"https://colab.research.google.com/assets/colab-badge.svg\" alt=\"Open In Colab\"/></a>"
      ]
    },
    {
      "cell_type": "markdown",
      "id": "zfVZHyAfj_Ms",
      "metadata": {
        "id": "zfVZHyAfj_Ms"
      },
      "source": [
        "#Bootstrap + Hidden Markov Models (HMM) — Flechas 9×9\n",
        "\n"
      ]
    },
    {
      "cell_type": "markdown",
      "id": "E2SWrgVbj_Mv",
      "metadata": {
        "id": "E2SWrgVbj_Mv"
      },
      "source": [
        "El siguiente programa permite clasificar matrices binarias de 9x9 (que representan imagenes en blanco y negro), en cuatro categorías distintas de flechas (arriba, abajo, izquierda, derecha), mediante el uso de HMM."
      ]
    },
    {
      "cell_type": "code",
      "execution_count": 1,
      "id": "zdTKljO-j_Mw",
      "metadata": {
        "colab": {
          "base_uri": "https://localhost:8080/"
        },
        "collapsed": true,
        "id": "zdTKljO-j_Mw",
        "outputId": "7f88ad62-f111-4745-8663-a4ac17a242a2"
      },
      "outputs": [
        {
          "output_type": "stream",
          "name": "stderr",
          "text": [
            "\u001b[32m\u001b[1m    Updating\u001b[22m\u001b[39m registry at `~/.julia/registries/General.toml`\n",
            "\u001b[32m\u001b[1m   Resolving\u001b[22m\u001b[39m package versions...\n",
            "\u001b[32m\u001b[1m   Installed\u001b[22m\u001b[39m ImageSegmentation ──────────────── v1.9.0\n",
            "\u001b[32m\u001b[1m   Installed\u001b[22m\u001b[39m ImageMagick ────────────────────── v1.4.2\n",
            "\u001b[32m\u001b[1m   Installed\u001b[22m\u001b[39m TiledIteration ─────────────────── v0.5.0\n",
            "\u001b[32m\u001b[1m   Installed\u001b[22m\u001b[39m HistogramThresholding ──────────── v0.3.1\n",
            "\u001b[32m\u001b[1m   Installed\u001b[22m\u001b[39m NearestNeighbors ───────────────── v0.4.22\n",
            "\u001b[32m\u001b[1m   Installed\u001b[22m\u001b[39m RegionTrees ────────────────────── v0.3.2\n",
            "\u001b[32m\u001b[1m   Installed\u001b[22m\u001b[39m LuxLib ─────────────────────────── v1.12.1\n",
            "\u001b[32m\u001b[1m   Installed\u001b[22m\u001b[39m RealDot ────────────────────────── v0.1.0\n",
            "\u001b[32m\u001b[1m   Installed\u001b[22m\u001b[39m Images ─────────────────────────── v0.26.2\n",
            "\u001b[32m\u001b[1m   Installed\u001b[22m\u001b[39m Distances ──────────────────────── v0.10.12\n",
            "\u001b[32m\u001b[1m   Installed\u001b[22m\u001b[39m MetaGraphs ─────────────────────── v0.8.1\n",
            "\u001b[32m\u001b[1m   Installed\u001b[22m\u001b[39m SLEEFPirates ───────────────────── v0.6.43\n",
            "\u001b[32m\u001b[1m   Installed\u001b[22m\u001b[39m JLD2 ───────────────────────────── v0.5.15\n",
            "\u001b[32m\u001b[1m   Installed\u001b[22m\u001b[39m Polynomials ────────────────────── v4.1.0\n",
            "\u001b[32m\u001b[1m   Installed\u001b[22m\u001b[39m LuxCore ────────────────────────── v1.4.2\n",
            "\u001b[32m\u001b[1m   Installed\u001b[22m\u001b[39m ThreadingUtilities ─────────────── v0.5.5\n",
            "\u001b[32m\u001b[1m   Installed\u001b[22m\u001b[39m ManualMemory ───────────────────── v0.1.8\n",
            "\u001b[32m\u001b[1m   Installed\u001b[22m\u001b[39m ArnoldiMethod ──────────────────── v0.4.0\n",
            "\u001b[32m\u001b[1m   Installed\u001b[22m\u001b[39m Enzyme ─────────────────────────── v0.13.83\n",
            "\u001b[32m\u001b[1m   Installed\u001b[22m\u001b[39m Graphs ─────────────────────────── v1.13.1\n",
            "\u001b[32m\u001b[1m   Installed\u001b[22m\u001b[39m Clustering ─────────────────────── v0.15.8\n",
            "\u001b[32m\u001b[1m   Installed\u001b[22m\u001b[39m MLDataDevices ──────────────────── v1.13.0\n",
            "\u001b[32m\u001b[1m   Installed\u001b[22m\u001b[39m CustomUnitRanges ───────────────── v1.0.2\n",
            "\u001b[32m\u001b[1m   Installed\u001b[22m\u001b[39m Graphics ───────────────────────── v1.1.3\n",
            "\u001b[32m\u001b[1m   Installed\u001b[22m\u001b[39m DataStructures ─────────────────── v0.18.22\n",
            "\u001b[32m\u001b[1m   Installed\u001b[22m\u001b[39m ComputationalResources ─────────── v0.3.2\n",
            "\u001b[32m\u001b[1m   Installed\u001b[22m\u001b[39m CatIndices ─────────────────────── v0.2.2\n",
            "\u001b[32m\u001b[1m   Installed\u001b[22m\u001b[39m ImageMagick_jll ────────────────── v7.1.2005+0\n",
            "\u001b[32m\u001b[1m   Installed\u001b[22m\u001b[39m BitTwiddlingConvenienceFunctions ─ v0.1.6\n",
            "\u001b[32m\u001b[1m   Installed\u001b[22m\u001b[39m StaticArrayInterface ───────────── v1.8.0\n",
            "\u001b[32m\u001b[1m   Installed\u001b[22m\u001b[39m ImageCorners ───────────────────── v0.1.3\n",
            "\u001b[32m\u001b[1m   Installed\u001b[22m\u001b[39m ImageTransformations ───────────── v0.10.2\n",
            "\u001b[32m\u001b[1m   Installed\u001b[22m\u001b[39m PrettyTables ───────────────────── v3.0.11\n",
            "\u001b[32m\u001b[1m   Installed\u001b[22m\u001b[39m libzip_jll ─────────────────────── v1.11.3+0\n",
            "\u001b[32m\u001b[1m   Installed\u001b[22m\u001b[39m Xorg_xcb_util_cursor_jll ───────── v0.1.6+0\n",
            "\u001b[32m\u001b[1m   Installed\u001b[22m\u001b[39m LayoutPointers ─────────────────── v0.1.17\n",
            "\u001b[32m\u001b[1m   Installed\u001b[22m\u001b[39m ImageShow ──────────────────────── v0.3.8\n",
            "\u001b[32m\u001b[1m   Installed\u001b[22m\u001b[39m ImageQualityIndexes ────────────── v0.3.7\n",
            "\u001b[32m\u001b[1m   Installed\u001b[22m\u001b[39m ImageContrastAdjustment ────────── v0.3.12\n",
            "\u001b[32m\u001b[1m   Installed\u001b[22m\u001b[39m EnzymeCore ─────────────────────── v0.8.14\n",
            "\u001b[32m\u001b[1m   Installed\u001b[22m\u001b[39m IntegralArrays ─────────────────── v0.1.6\n",
            "\u001b[32m\u001b[1m   Installed\u001b[22m\u001b[39m ImageFiltering ─────────────────── v0.7.12\n",
            "\u001b[32m\u001b[1m   Installed\u001b[22m\u001b[39m PolyesterWeave ─────────────────── v0.2.2\n",
            "\u001b[32m\u001b[1m   Installed\u001b[22m\u001b[39m CoordinateTransformations ──────── v0.6.4\n",
            "\u001b[32m\u001b[1m   Installed\u001b[22m\u001b[39m LittleCMS_jll ──────────────────── v2.17.0+0\n",
            "\u001b[32m\u001b[1m   Installed\u001b[22m\u001b[39m Quaternions ────────────────────── v0.7.6\n",
            "\u001b[32m\u001b[1m   Installed\u001b[22m\u001b[39m LoopVectorization ──────────────── v0.12.172\n",
            "\u001b[32m\u001b[1m   Installed\u001b[22m\u001b[39m CloseOpenIntervals ─────────────── v0.1.13\n",
            "\u001b[32m\u001b[1m   Installed\u001b[22m\u001b[39m UnPack ─────────────────────────── v1.0.2\n",
            "\u001b[32m\u001b[1m   Installed\u001b[22m\u001b[39m OpenJpeg_jll ───────────────────── v2.5.4+0\n",
            "\u001b[32m\u001b[1m   Installed\u001b[22m\u001b[39m Rotations ──────────────────────── v1.7.1\n",
            "\u001b[32m\u001b[1m   Installed\u001b[22m\u001b[39m ImageDistances ─────────────────── v0.2.17\n",
            "\u001b[32m\u001b[1m   Installed\u001b[22m\u001b[39m VectorizationBase ──────────────── v0.21.72\n",
            "\u001b[32m\u001b[1m   Installed\u001b[22m\u001b[39m SimpleWeightedGraphs ───────────── v1.5.0\n",
            "\u001b[32m\u001b[1m   Installed\u001b[22m\u001b[39m ImageBinarization ──────────────── v0.3.1\n",
            "\u001b[32m\u001b[1m   Installed\u001b[22m\u001b[39m Xorg_libXfixes_jll ─────────────── v6.0.2+0\n",
            "\u001b[32m\u001b[1m   Installed\u001b[22m\u001b[39m HostCPUFeatures ────────────────── v0.1.17\n",
            "\u001b[32m\u001b[1m   Installed\u001b[22m\u001b[39m FFTViews ───────────────────────── v0.3.2\n",
            "\u001b[32m\u001b[1m   Installed\u001b[22m\u001b[39m Parameters ─────────────────────── v0.12.3\n",
            "\u001b[32m\u001b[1m   Installed\u001b[22m\u001b[39m ImageMorphology ────────────────── v0.4.6\n",
            "\u001b[32m\u001b[1m    Updating\u001b[22m\u001b[39m `~/.julia/environments/v1.11/Project.toml`\n",
            "  \u001b[90m[4e3cecfd] \u001b[39m\u001b[92m+ ImageShow v0.3.8\u001b[39m\n",
            "  \u001b[90m[916415d5] \u001b[39m\u001b[92m+ Images v0.26.2\u001b[39m\n",
            "  \u001b[90m[10745b16] \u001b[39m\u001b[92m+ Statistics v1.11.1\u001b[39m\n",
            "\u001b[32m\u001b[1m    Updating\u001b[22m\u001b[39m `~/.julia/environments/v1.11/Manifest.toml`\n",
            "  \u001b[90m[ec485272] \u001b[39m\u001b[92m+ ArnoldiMethod v0.4.0\u001b[39m\n",
            "  \u001b[90m[62783981] \u001b[39m\u001b[92m+ BitTwiddlingConvenienceFunctions v0.1.6\u001b[39m\n",
            "  \u001b[90m[aafaddc9] \u001b[39m\u001b[92m+ CatIndices v0.2.2\u001b[39m\n",
            "  \u001b[90m[fb6a15b2] \u001b[39m\u001b[92m+ CloseOpenIntervals v0.1.13\u001b[39m\n",
            "  \u001b[90m[aaaa29a8] \u001b[39m\u001b[92m+ Clustering v0.15.8\u001b[39m\n",
            "  \u001b[90m[ed09eef8] \u001b[39m\u001b[92m+ ComputationalResources v0.3.2\u001b[39m\n",
            "  \u001b[90m[150eb455] \u001b[39m\u001b[92m+ CoordinateTransformations v0.6.4\u001b[39m\n",
            "  \u001b[90m[dc8bdbbb] \u001b[39m\u001b[92m+ CustomUnitRanges v1.0.2\u001b[39m\n",
            "\u001b[33m⌅\u001b[39m \u001b[90m[864edb3b] \u001b[39m\u001b[95m↓ DataStructures v0.19.1 ⇒ v0.18.22\u001b[39m\n",
            "  \u001b[90m[b4f34e82] \u001b[39m\u001b[92m+ Distances v0.10.12\u001b[39m\n",
            "  \u001b[90m[7da242da] \u001b[39m\u001b[93m↑ Enzyme v0.13.80 ⇒ v0.13.83\u001b[39m\n",
            "  \u001b[90m[f151be2c] \u001b[39m\u001b[93m↑ EnzymeCore v0.8.13 ⇒ v0.8.14\u001b[39m\n",
            "  \u001b[90m[4f61f5a4] \u001b[39m\u001b[92m+ FFTViews v0.3.2\u001b[39m\n",
            "  \u001b[90m[a2bd30eb] \u001b[39m\u001b[92m+ Graphics v1.1.3\u001b[39m\n",
            "  \u001b[90m[86223c79] \u001b[39m\u001b[92m+ Graphs v1.13.1\u001b[39m\n",
            "  \u001b[90m[2c695a8d] \u001b[39m\u001b[92m+ HistogramThresholding v0.3.1\u001b[39m\n",
            "  \u001b[90m[3e5b6fbb] \u001b[39m\u001b[92m+ HostCPUFeatures v0.1.17\u001b[39m\n",
            "  \u001b[90m[cbc4b850] \u001b[39m\u001b[92m+ ImageBinarization v0.3.1\u001b[39m\n",
            "  \u001b[90m[f332f351] \u001b[39m\u001b[92m+ ImageContrastAdjustment v0.3.12\u001b[39m\n",
            "  \u001b[90m[89d5987c] \u001b[39m\u001b[92m+ ImageCorners v0.1.3\u001b[39m\n",
            "  \u001b[90m[51556ac3] \u001b[39m\u001b[92m+ ImageDistances v0.2.17\u001b[39m\n",
            "  \u001b[90m[6a3955dd] \u001b[39m\u001b[92m+ ImageFiltering v0.7.12\u001b[39m\n",
            "  \u001b[90m[6218d12a] \u001b[39m\u001b[92m+ ImageMagick v1.4.2\u001b[39m\n",
            "\u001b[32m⌃\u001b[39m \u001b[90m[787d08f9] \u001b[39m\u001b[92m+ ImageMorphology v0.4.6\u001b[39m\n",
            "  \u001b[90m[2996bd0c] \u001b[39m\u001b[92m+ ImageQualityIndexes v0.3.7\u001b[39m\n",
            "  \u001b[90m[80713f31] \u001b[39m\u001b[92m+ ImageSegmentation v1.9.0\u001b[39m\n",
            "  \u001b[90m[4e3cecfd] \u001b[39m\u001b[92m+ ImageShow v0.3.8\u001b[39m\n",
            "  \u001b[90m[02fcd773] \u001b[39m\u001b[92m+ ImageTransformations v0.10.2\u001b[39m\n",
            "  \u001b[90m[916415d5] \u001b[39m\u001b[92m+ Images v0.26.2\u001b[39m\n",
            "  \u001b[90m[1d092043] \u001b[39m\u001b[92m+ IntegralArrays v0.1.6\u001b[39m\n",
            "\u001b[32m⌃\u001b[39m \u001b[90m[033835bb] \u001b[39m\u001b[92m+ JLD2 v0.5.15\u001b[39m\n",
            "  \u001b[90m[10f19ff3] \u001b[39m\u001b[92m+ LayoutPointers v0.1.17\u001b[39m\n",
            "  \u001b[90m[bdcacae8] \u001b[39m\u001b[92m+ LoopVectorization v0.12.172\u001b[39m\n",
            "  \u001b[90m[bb33d45b] \u001b[39m\u001b[93m↑ LuxCore v1.4.1 ⇒ v1.4.2\u001b[39m\n",
            "  \u001b[90m[82251201] \u001b[39m\u001b[93m↑ LuxLib v1.12.0 ⇒ v1.12.1\u001b[39m\n",
            "  \u001b[90m[7e8f7934] \u001b[39m\u001b[93m↑ MLDataDevices v1.12.0 ⇒ v1.13.0\u001b[39m\n",
            "  \u001b[90m[d125e4d3] \u001b[39m\u001b[92m+ ManualMemory v0.1.8\u001b[39m\n",
            "  \u001b[90m[626554b9] \u001b[39m\u001b[92m+ MetaGraphs v0.8.1\u001b[39m\n",
            "  \u001b[90m[b8a86587] \u001b[39m\u001b[92m+ NearestNeighbors v0.4.22\u001b[39m\n",
            "  \u001b[90m[d96e819e] \u001b[39m\u001b[92m+ Parameters v0.12.3\u001b[39m\n",
            "  \u001b[90m[1d0040c9] \u001b[39m\u001b[92m+ PolyesterWeave v0.2.2\u001b[39m\n",
            "  \u001b[90m[f27b6e38] \u001b[39m\u001b[92m+ Polynomials v4.1.0\u001b[39m\n",
            "  \u001b[90m[08abe8d2] \u001b[39m\u001b[93m↑ PrettyTables v3.0.10 ⇒ v3.0.11\u001b[39m\n",
            "  \u001b[90m[94ee1d12] \u001b[39m\u001b[92m+ Quaternions v0.7.6\u001b[39m\n",
            "  \u001b[90m[c1ae055f] \u001b[39m\u001b[92m+ RealDot v0.1.0\u001b[39m\n",
            "  \u001b[90m[dee08c22] \u001b[39m\u001b[92m+ RegionTrees v0.3.2\u001b[39m\n",
            "  \u001b[90m[6038ab10] \u001b[39m\u001b[92m+ Rotations v1.7.1\u001b[39m\n",
            "  \u001b[90m[476501e8] \u001b[39m\u001b[92m+ SLEEFPirates v0.6.43\u001b[39m\n",
            "  \u001b[90m[47aef6b3] \u001b[39m\u001b[92m+ SimpleWeightedGraphs v1.5.0\u001b[39m\n",
            "  \u001b[90m[0d7ed370] \u001b[39m\u001b[92m+ StaticArrayInterface v1.8.0\u001b[39m\n",
            "  \u001b[90m[8290d209] \u001b[39m\u001b[92m+ ThreadingUtilities v0.5.5\u001b[39m\n",
            "  \u001b[90m[06e1c1a7] \u001b[39m\u001b[92m+ TiledIteration v0.5.0\u001b[39m\n",
            "  \u001b[90m[3a884ed6] \u001b[39m\u001b[92m+ UnPack v1.0.2\u001b[39m\n",
            "  \u001b[90m[3d5dd08c] \u001b[39m\u001b[92m+ VectorizationBase v0.21.72\u001b[39m\n",
            "  \u001b[90m[c73af94c] \u001b[39m\u001b[92m+ ImageMagick_jll v7.1.2005+0\u001b[39m\n",
            "  \u001b[90m[d3a379c0] \u001b[39m\u001b[92m+ LittleCMS_jll v2.17.0+0\u001b[39m\n",
            "  \u001b[90m[643b3616] \u001b[39m\u001b[92m+ OpenJpeg_jll v2.5.4+0\u001b[39m\n",
            "  \u001b[90m[d091e8ba] \u001b[39m\u001b[93m↑ Xorg_libXfixes_jll v6.0.1+0 ⇒ v6.0.2+0\u001b[39m\n",
            "  \u001b[90m[e920d4aa] \u001b[39m\u001b[93m↑ Xorg_xcb_util_cursor_jll v0.1.5+0 ⇒ v0.1.6+0\u001b[39m\n",
            "  \u001b[90m[337d8026] \u001b[39m\u001b[92m+ libzip_jll v1.11.3+0\u001b[39m\n",
            "\u001b[36m\u001b[1m        Info\u001b[22m\u001b[39m Packages marked with \u001b[32m⌃\u001b[39m and \u001b[33m⌅\u001b[39m have new versions available. Those with \u001b[32m⌃\u001b[39m may be upgradable, but those with \u001b[33m⌅\u001b[39m are restricted by compatibility constraints from upgrading. To see why use `status --outdated -m`\n",
            "\u001b[92m\u001b[1mPrecompiling\u001b[22m\u001b[39m project...\n",
            "   3816.2 ms\u001b[32m  ✓ \u001b[39m\u001b[90mRealDot\u001b[39m\n",
            "   2704.7 ms\u001b[32m  ✓ \u001b[39m\u001b[90mCustomUnitRanges\u001b[39m\n",
            "   2702.2 ms\u001b[32m  ✓ \u001b[39m\u001b[90mUnPack\u001b[39m\n",
            "   1560.6 ms\u001b[32m  ✓ \u001b[39m\u001b[90mManualMemory\u001b[39m\n",
            "   2552.8 ms\u001b[32m  ✓ \u001b[39m\u001b[90mComputationalResources\u001b[39m\n",
            "   2772.9 ms\u001b[32m  ✓ \u001b[39m\u001b[90mEnzymeCore\u001b[39m\n",
            "   1765.4 ms\u001b[32m  ✓ \u001b[39m\u001b[90mIntegralArrays\u001b[39m\n",
            "   2805.6 ms\u001b[32m  ✓ \u001b[39m\u001b[90mDistances\u001b[39m\n",
            "   1691.8 ms\u001b[32m  ✓ \u001b[39m\u001b[90mGraphics\u001b[39m\n",
            "   2392.9 ms\u001b[32m  ✓ \u001b[39m\u001b[90mMLDataDevices\u001b[39m\n",
            "   3651.9 ms\u001b[32m  ✓ \u001b[39m\u001b[90mLuxCore\u001b[39m\n",
            "   4971.5 ms\u001b[32m  ✓ \u001b[39m\u001b[90mDataStructures\u001b[39m\n",
            "   2327.8 ms\u001b[32m  ✓ \u001b[39m\u001b[90mLittleCMS_jll\u001b[39m\n",
            "   3701.4 ms\u001b[32m  ✓ \u001b[39m\u001b[90mStaticArrayInterface\u001b[39m\n",
            "   2463.9 ms\u001b[32m  ✓ \u001b[39m\u001b[90mlibzip_jll\u001b[39m\n",
            "   5052.5 ms\u001b[32m  ✓ \u001b[39m\u001b[90mArnoldiMethod\u001b[39m\n",
            "   3591.7 ms\u001b[32m  ✓ \u001b[39m\u001b[90mCoordinateTransformations\u001b[39m\n",
            "   2506.2 ms\u001b[32m  ✓ \u001b[39m\u001b[90mRegionTrees\u001b[39m\n",
            "   1163.2 ms\u001b[32m  ✓ \u001b[39m\u001b[90mBitTwiddlingConvenienceFunctions\u001b[39m\n",
            "   6770.3 ms\u001b[32m  ✓ \u001b[39mImageShow\n",
            " 109279.0 ms\u001b[32m  ✓ \u001b[39m\u001b[90mPolynomials\u001b[39m\n",
            "   3359.8 ms\u001b[32m  ✓ \u001b[39m\u001b[90mHistogramThresholding\u001b[39m\n",
            "   2704.3 ms\u001b[32m  ✓ \u001b[39m\u001b[90mXorg_libXfixes_jll\u001b[39m\n",
            "   2340.3 ms\u001b[32m  ✓ \u001b[39m\u001b[90mXorg_xcb_util_cursor_jll\u001b[39m\n",
            "   1461.8 ms\u001b[32m  ✓ \u001b[39m\u001b[90mQuaternions\u001b[39m\n",
            "   1340.5 ms\u001b[32m  ✓ \u001b[39m\u001b[90mCatIndices\u001b[39m\n",
            "   1825.6 ms\u001b[32m  ✓ \u001b[39m\u001b[90mFFTViews\u001b[39m\n",
            "   1059.0 ms\u001b[32m  ✓ \u001b[39m\u001b[90mParameters\u001b[39m\n",
            "   2649.7 ms\u001b[32m  ✓ \u001b[39m\u001b[90mThreadingUtilities\u001b[39m\n",
            "   2431.4 ms\u001b[32m  ✓ \u001b[39m\u001b[90mEnzymeCore → AdaptExt\u001b[39m\n",
            "   1362.1 ms\u001b[32m  ✓ \u001b[39m\u001b[90mADTypes → ADTypesEnzymeCoreExt\u001b[39m\n",
            " 178887.4 ms\u001b[32m  ✓ \u001b[39m\u001b[90mPrettyTables\u001b[39m\n",
            "   1538.9 ms\u001b[32m  ✓ \u001b[39m\u001b[90mDispatchDoctor → DispatchDoctorEnzymeCoreExt\u001b[39m\n",
            "   1133.7 ms\u001b[32m  ✓ \u001b[39m\u001b[90mOptimisers → OptimisersEnzymeCoreExt\u001b[39m\n",
            "   2445.7 ms\u001b[32m  ✓ \u001b[39m\u001b[90mKernelAbstractions → EnzymeExt\u001b[39m\n",
            "   2477.1 ms\u001b[32m  ✓ \u001b[39m\u001b[90mNNlib → NNlibEnzymeCoreExt\u001b[39m\n",
            "   1862.0 ms\u001b[32m  ✓ \u001b[39m\u001b[90mDistances → DistancesSparseArraysExt\u001b[39m\n",
            "  10367.0 ms\u001b[32m  ✓ \u001b[39m\u001b[90mNearestNeighbors\u001b[39m\n",
            "   1180.3 ms\u001b[32m  ✓ \u001b[39m\u001b[90mDistances → DistancesChainRulesCoreExt\u001b[39m\n",
            "   1286.3 ms\u001b[32m  ✓ \u001b[39m\u001b[90mMLDataDevices → MLDataDevicesFillArraysExt\u001b[39m\n",
            "   1850.7 ms\u001b[32m  ✓ \u001b[39m\u001b[90mMLDataDevices → MLDataDevicesSparseArraysExt\u001b[39m\n",
            "   6024.8 ms\u001b[32m  ✓ \u001b[39m\u001b[90mMLDataDevices → MLDataDevicesGPUArraysExt\u001b[39m\n",
            "   1625.5 ms\u001b[32m  ✓ \u001b[39m\u001b[90mMLDataDevices → MLDataDevicesChainRulesCoreExt\u001b[39m\n",
            "   1708.8 ms\u001b[32m  ✓ \u001b[39m\u001b[90mLuxCore → LuxCoreChainRulesCoreExt\u001b[39m\n",
            "   1202.5 ms\u001b[32m  ✓ \u001b[39m\u001b[90mLuxCore → LuxCoreEnzymeCoreExt\u001b[39m\n",
            "   1363.1 ms\u001b[32m  ✓ \u001b[39m\u001b[90mLuxCore → LuxCoreMLDataDevicesExt\u001b[39m\n",
            "   1816.4 ms\u001b[32m  ✓ \u001b[39m\u001b[90mLuxCore → LuxCoreFunctorsExt\u001b[39m\n",
            " 196427.0 ms\u001b[32m  ✓ \u001b[39m\u001b[90mJLD2\u001b[39m\n",
            "   2400.8 ms\u001b[32m  ✓ \u001b[39m\u001b[90mLuxCore → LuxCoreSetfieldExt\u001b[39m\n",
            "   2457.7 ms\u001b[32m  ✓ \u001b[39m\u001b[90mSortingAlgorithms\u001b[39m\n",
            "   3244.2 ms\u001b[32m  ✓ \u001b[39m\u001b[90mQuadGK\u001b[39m\n",
            "  27063.5 ms\u001b[32m  ✓ \u001b[39m\u001b[90mMathTeXEngine\u001b[39m\n",
            "   1917.8 ms\u001b[32m  ✓ \u001b[39m\u001b[90mOpenJpeg_jll\u001b[39m\n",
            "   1382.2 ms\u001b[32m  ✓ \u001b[39m\u001b[90mStaticArrayInterface → StaticArrayInterfaceOffsetArraysExt\u001b[39m\n",
            "   2241.5 ms\u001b[32m  ✓ \u001b[39m\u001b[90mStaticArrayInterface → StaticArrayInterfaceStaticArraysExt\u001b[39m\n",
            "   2480.4 ms\u001b[32m  ✓ \u001b[39m\u001b[90mCloseOpenIntervals\u001b[39m\n",
            "   1915.6 ms\u001b[32m  ✓ \u001b[39m\u001b[90mLayoutPointers\u001b[39m\n",
            "  13671.8 ms\u001b[32m  ✓ \u001b[39m\u001b[90mGraphs\u001b[39m\n",
            "   2409.9 ms\u001b[32m  ✓ \u001b[39m\u001b[90mHostCPUFeatures\u001b[39m\n",
            "   2765.8 ms\u001b[32m  ✓ \u001b[39m\u001b[90mPolynomials → PolynomialsChainRulesCoreExt\u001b[39m\n",
            "   4236.6 ms\u001b[32m  ✓ \u001b[39m\u001b[90mPolynomials → PolynomialsFFTWExt\u001b[39m\n",
            "   7131.8 ms\u001b[32m  ✓ \u001b[39m\u001b[90mImageBinarization\u001b[39m\n",
            "   1876.0 ms\u001b[32m  ✓ \u001b[39m\u001b[90mXorg_libXcursor_jll\u001b[39m\n",
            "   1969.4 ms\u001b[32m  ✓ \u001b[39m\u001b[90mXorg_libXi_jll\u001b[39m\n",
            "   4832.6 ms\u001b[32m  ✓ \u001b[39m\u001b[90mQt6Base_jll\u001b[39m\n",
            "   5135.2 ms\u001b[32m  ✓ \u001b[39m\u001b[90mRotations\u001b[39m\n",
            "   1568.5 ms\u001b[32m  ✓ \u001b[39m\u001b[90mPolyesterWeave\u001b[39m\n",
            "  14658.9 ms\u001b[32m  ✓ \u001b[39m\u001b[90mLuxLib\u001b[39m\n",
            "   5037.3 ms\u001b[32m  ✓ \u001b[39m\u001b[90mJLD2 → UnPackExt\u001b[39m\n",
            "   5631.2 ms\u001b[32m  ✓ \u001b[39m\u001b[90mGPUArrays → JLD2Ext\u001b[39m\n",
            "   7791.1 ms\u001b[32m  ✓ \u001b[39m\u001b[90mStatsBase\u001b[39m\n",
            " 162206.3 ms\u001b[32m  ✓ \u001b[39m\u001b[90mTiffImages\u001b[39m\n",
            "   2510.5 ms\u001b[32m  ✓ \u001b[39m\u001b[90mImageMagick_jll\u001b[39m\n",
            "   2387.3 ms\u001b[32m  ✓ \u001b[39m\u001b[90mTiledIteration\u001b[39m\n",
            "   7187.6 ms\u001b[32m  ✓ \u001b[39m\u001b[90mMetaGraphs\u001b[39m\n",
            "   3453.8 ms\u001b[32m  ✓ \u001b[39m\u001b[90mSimpleWeightedGraphs\u001b[39m\n",
            "  33883.3 ms\u001b[32m  ✓ \u001b[39m\u001b[90mVectorizationBase\u001b[39m\n",
            "   2341.5 ms\u001b[32m  ✓ \u001b[39m\u001b[90mGLFW_jll\u001b[39m\n",
            "   2383.4 ms\u001b[32m  ✓ \u001b[39m\u001b[90mQt6ShaderTools_jll\u001b[39m\n",
            "   3278.6 ms\u001b[32m  ✓ \u001b[39m\u001b[90mRotations → RotationsRecipesBaseExt\u001b[39m\n",
            "   6058.7 ms\u001b[32m  ✓ \u001b[39m\u001b[90mImageTransformations\u001b[39m\n",
            "  88130.4 ms\u001b[32m  ✓ \u001b[39mLux\n",
            "   6362.7 ms\u001b[32m  ✓ \u001b[39m\u001b[90mClustering\u001b[39m\n",
            "  16524.9 ms\u001b[32m  ✓ \u001b[39m\u001b[90mDistributions\u001b[39m\n",
            "  20730.9 ms\u001b[32m  ✓ \u001b[39m\u001b[90mImageMagick\u001b[39m\n",
            " 252786.0 ms\u001b[32m  ✓ \u001b[39mDataFrames\n",
            "   3476.4 ms\u001b[32m  ✓ \u001b[39m\u001b[90mSLEEFPirates\u001b[39m\n",
            "   3379.7 ms\u001b[32m  ✓ \u001b[39m\u001b[90mGR_jll\u001b[39m\n",
            "   7610.7 ms\u001b[32m  ✓ \u001b[39m\u001b[90mQt6Declarative_jll\u001b[39m\n",
            "   9296.3 ms\u001b[32m  ✓ \u001b[39m\u001b[90mImageContrastAdjustment\u001b[39m\n",
            "   3454.5 ms\u001b[32m  ✓ \u001b[39m\u001b[90mDistributions → DistributionsTestExt\u001b[39m\n",
            "   3002.5 ms\u001b[32m  ✓ \u001b[39m\u001b[90mDistributions → DistributionsChainRulesCoreExt\u001b[39m\n",
            "   7443.4 ms\u001b[32m  ✓ \u001b[39m\u001b[90mLatexify → DataFramesExt\u001b[39m\n",
            " 662224.4 ms\u001b[32m  ✓ \u001b[39m\u001b[90mEnzyme\u001b[39m\n",
            " 304715.8 ms\u001b[32m  ✓ \u001b[39m\u001b[90mImageFiltering\u001b[39m\n",
            "   9584.5 ms\u001b[32m  ✓ \u001b[39m\u001b[90mLuxLib → LuxLibSLEEFPiratesExt\u001b[39m\n",
            "   2651.8 ms\u001b[32m  ✓ \u001b[39m\u001b[90mQt6Wayland_jll\u001b[39m\n",
            "   6840.9 ms\u001b[32m  ✓ \u001b[39m\u001b[90mKernelDensity\u001b[39m\n",
            "   8899.0 ms\u001b[32m  ✓ \u001b[39m\u001b[90mEnzyme → EnzymeSpecialFunctionsExt\u001b[39m\n",
            "  10995.7 ms\u001b[32m  ✓ \u001b[39m\u001b[90mEnzyme → EnzymeStaticArraysExt\u001b[39m\n",
            "   8322.2 ms\u001b[32m  ✓ \u001b[39m\u001b[90mEnzyme → EnzymeChainRulesCoreExt\u001b[39m\n",
            "   7260.2 ms\u001b[32m  ✓ \u001b[39m\u001b[90mEnzyme → EnzymeLogExpFunctionsExt\u001b[39m\n",
            " 309151.7 ms\u001b[32m  ✓ \u001b[39mCUDA\n",
            "   8517.3 ms\u001b[32m  ✓ \u001b[39m\u001b[90mEnzyme → EnzymeBFloat16sExt\u001b[39m\n",
            "   7922.5 ms\u001b[32m  ✓ \u001b[39m\u001b[90mEnzyme → EnzymeGPUArraysCoreExt\u001b[39m\n",
            "   3796.7 ms\u001b[32m  ✓ \u001b[39m\u001b[90mLuxLib → LuxLibEnzymeExt\u001b[39m\n",
            "   8654.4 ms\u001b[32m  ✓ \u001b[39m\u001b[90mQuadGK → QuadGKEnzymeExt\u001b[39m\n",
            " 156553.5 ms\u001b[32m  ✓ \u001b[39m\u001b[90mLoopVectorization\u001b[39m\n",
            "  11735.8 ms\u001b[32m  ✓ \u001b[39mLux → LuxEnzymeExt\n",
            "  16965.5 ms\u001b[32m  ✓ \u001b[39m\u001b[90mGR\u001b[39m\n",
            "  23305.4 ms\u001b[32m  ✓ \u001b[39mCUDA → ChainRulesCoreExt\n",
            "  54144.8 ms\u001b[32m  ✓ \u001b[39m\u001b[90mImageCorners\u001b[39m\n",
            "  24459.4 ms\u001b[32m  ✓ \u001b[39mCUDA → SpecialFunctionsExt\n",
            "  23031.9 ms\u001b[32m  ✓ \u001b[39mCUDA → EnzymeCoreExt\n",
            "  23208.8 ms\u001b[32m  ✓ \u001b[39m\u001b[90mAtomix → AtomixCUDAExt\u001b[39m\n",
            "  21757.1 ms\u001b[32m  ✓ \u001b[39m\u001b[90mArrayInterface → ArrayInterfaceCUDAExt\u001b[39m\n",
            "  23624.0 ms\u001b[32m  ✓ \u001b[39m\u001b[90mWeightInitializers → WeightInitializersCUDAExt\u001b[39m\n",
            "  25514.3 ms\u001b[32m  ✓ \u001b[39m\u001b[90mNNlib → NNlibCUDAExt\u001b[39m\n",
            "  22407.5 ms\u001b[32m  ✓ \u001b[39m\u001b[90mMLDataDevices → MLDataDevicesCUDAExt\u001b[39m\n",
            "  26245.4 ms\u001b[32m  ✓ \u001b[39m\u001b[90mLuxLib → LuxLibCUDAExt\u001b[39m\n",
            "   5658.8 ms\u001b[32m  ✓ \u001b[39m\u001b[90mLoopVectorization → SpecialFunctionsExt\u001b[39m\n",
            "   3377.3 ms\u001b[32m  ✓ \u001b[39m\u001b[90mLoopVectorization → ForwardDiffExt\u001b[39m\n",
            "  13982.6 ms\u001b[32m  ✓ \u001b[39m\u001b[90mImageMorphology\u001b[39m\n",
            " 401146.4 ms\u001b[32m  ✓ \u001b[39mPlots\n",
            "   6674.3 ms\u001b[32m  ✓ \u001b[39m\u001b[90mImageDistances\u001b[39m\n",
            "  15227.5 ms\u001b[32m  ✓ \u001b[39m\u001b[90mImageSegmentation\u001b[39m\n",
            "  12927.9 ms\u001b[32m  ✓ \u001b[39mPlots → FileIOExt\n",
            "  12447.8 ms\u001b[32m  ✓ \u001b[39mPlots → IJuliaExt\n",
            " 484840.2 ms\u001b[32m  ✓ \u001b[39mReactant\n",
            "  11300.1 ms\u001b[32m  ✓ \u001b[39mPlots → UnitfulExt\n",
            "  15882.7 ms\u001b[32m  ✓ \u001b[39mPlots → GeometryBasicsExt\n",
            "  13003.5 ms\u001b[32m  ✓ \u001b[39mReactant → ReactantStatisticsExt\n",
            "  13615.0 ms\u001b[32m  ✓ \u001b[39mReactant → ReactantOffsetArraysExt\n",
            "  12368.5 ms\u001b[32m  ✓ \u001b[39mReactant → ReactantRandom123Ext\n",
            "  13061.2 ms\u001b[32m  ✓ \u001b[39mReactant → ReactantSpecialFunctionsExt\n",
            "  12911.1 ms\u001b[32m  ✓ \u001b[39mReactant → ReactantAbstractFFTsExt\n",
            "  69747.9 ms\u001b[32m  ✓ \u001b[39m\u001b[90mImageQualityIndexes\u001b[39m\n",
            "  13265.9 ms\u001b[32m  ✓ \u001b[39mReactant → ReactantSparseArraysExt\n",
            "  13263.4 ms\u001b[32m  ✓ \u001b[39mReactant → ReactantFillArraysExt\n",
            "  13320.3 ms\u001b[32m  ✓ \u001b[39mReactant → ReactantArrayInterfaceExt\n",
            "  16479.3 ms\u001b[32m  ✓ \u001b[39mReactant → ReactantKernelAbstractionsExt\n",
            "  13565.0 ms\u001b[32m  ✓ \u001b[39m\u001b[90mWeightInitializers → WeightInitializersReactantExt\u001b[39m\n",
            "  27006.3 ms\u001b[32m  ✓ \u001b[39m\u001b[90mOptimisers → OptimisersReactantExt\u001b[39m\n",
            "  19418.2 ms\u001b[32m  ✓ \u001b[39m\u001b[90mMLDataDevices → MLDataDevicesReactantExt\u001b[39m\n",
            "  16144.1 ms\u001b[32m  ✓ \u001b[39m\u001b[90mLuxCore → LuxCoreReactantExt\u001b[39m\n",
            "  15602.5 ms\u001b[32m  ✓ \u001b[39m\u001b[90mLuxLib → LuxLibReactantExt\u001b[39m\n",
            "  15091.4 ms\u001b[32m  ✓ \u001b[39mReactant → ReactantNNlibExt\n",
            "  28560.5 ms\u001b[32m  ✓ \u001b[39mLux → LuxReactantExt\n",
            "  20094.0 ms\u001b[32m  ✓ \u001b[39mImages\n",
            " 977507.8 ms\u001b[32m  ✓ \u001b[39mMakie\n",
            "  20636.2 ms\u001b[32m  ✓ \u001b[39m\u001b[90mPolynomials → PolynomialsMakieExt\u001b[39m\n",
            " 485415.6 ms\u001b[32m  ✓ \u001b[39mReactant → ReactantCUDAExt\n",
            "  152 dependencies successfully precompiled in 2259 seconds. 400 already precompiled.\n",
            "  \u001b[33m1\u001b[39m dependency had output during precompilation:\u001b[33m\n",
            "┌ \u001b[39mVectorizationBase\u001b[33m\n",
            "│  \u001b[39mWARNING: using Static.static_first in module VectorizationBase conflicts with an existing identifier.\u001b[33m\n",
            "│  \u001b[39mWARNING: using Static.static_last in module VectorizationBase conflicts with an existing identifier.\u001b[33m\n",
            "└  \u001b[39m\n"
          ]
        }
      ],
      "source": [
        "using Pkg\n",
        "Pkg.add([\"Plots\",\"Images\",\"ImageShow\",\"Statistics\"])\n"
      ]
    },
    {
      "cell_type": "code",
      "execution_count": 2,
      "id": "Q3iHPAtit5ST",
      "metadata": {
        "colab": {
          "base_uri": "https://localhost:8080/"
        },
        "id": "Q3iHPAtit5ST",
        "outputId": "a57b3801-965d-4201-cfdd-d6de4eda692c"
      },
      "outputs": [
        {
          "output_type": "stream",
          "name": "stderr",
          "text": [
            "\u001b[32m\u001b[1m   Resolving\u001b[22m\u001b[39m package versions...\n",
            "\u001b[32m\u001b[1m    Updating\u001b[22m\u001b[39m `~/.julia/environments/v1.11/Project.toml`\n",
            "  \u001b[90m[a09fc81d] \u001b[39m\u001b[92m+ ImageCore v0.10.5\u001b[39m\n",
            "\u001b[32m\u001b[1m  No Changes\u001b[22m\u001b[39m to `~/.julia/environments/v1.11/Manifest.toml`\n"
          ]
        }
      ],
      "source": [
        "Pkg.add(\"ImageCore\")"
      ]
    },
    {
      "cell_type": "code",
      "execution_count": 3,
      "id": "t-HkW-Etj_My",
      "metadata": {
        "id": "t-HkW-Etj_My"
      },
      "outputs": [],
      "source": [
        "using Random\n",
        "using LinearAlgebra\n",
        "using Statistics\n",
        "using Plots\n",
        "using Images, ImageCore\n"
      ]
    },
    {
      "cell_type": "markdown",
      "id": "561B9jMUj_My",
      "metadata": {
        "id": "561B9jMUj_My"
      },
      "source": [
        "\n",
        "## 1) Definición de patrones:\n",
        " Se crean cuatro \"imágenes\" perfectas de 9x9 píxeles (matrices de 0s y 1s) que representan las cuatro direcciones de las flechas."
      ]
    },
    {
      "cell_type": "code",
      "execution_count": 4,
      "id": "M-IgiNb3j_My",
      "metadata": {
        "colab": {
          "base_uri": "https://localhost:8080/"
        },
        "id": "M-IgiNb3j_My",
        "outputId": "34665934-b963-46d0-8973-2dba0db37d86"
      },
      "outputs": [
        {
          "output_type": "stream",
          "name": "stdout",
          "text": [
            "\n",
            "Plantilla: up\n",
            "000010000\n",
            "000111000\n",
            "001010100\n",
            "000010000\n",
            "000010000\n",
            "000010000\n",
            "000010000\n",
            "000010000\n",
            "000010000\n",
            "\n",
            "Plantilla: down\n",
            "000010000\n",
            "000010000\n",
            "000010000\n",
            "000010000\n",
            "000010000\n",
            "000010000\n",
            "001010100\n",
            "000111000\n",
            "000010000\n",
            "\n",
            "Plantilla: left\n",
            "000000000\n",
            "000000000\n",
            "001000000\n",
            "010000000\n",
            "111111111\n",
            "010000000\n",
            "001000000\n",
            "000000000\n",
            "000000000\n",
            "\n",
            "Plantilla: right\n",
            "000000000\n",
            "000000000\n",
            "000000100\n",
            "000000010\n",
            "111111111\n",
            "000000010\n",
            "000000100\n",
            "000000000\n",
            "000000000\n"
          ]
        }
      ],
      "source": [
        "function pattern_from_strings(lines::Vector{String})\n",
        "    n = length(lines)\n",
        "    M = zeros(Int, n, n)\n",
        "    for i in 1:n\n",
        "        for j in 1:n\n",
        "            M[i,j] = lines[i][j] == '1' ? 1 : 0\n",
        "        end\n",
        "    end\n",
        "    return M\n",
        "end\n",
        "\n",
        "N = 9\n",
        "up_pat = [\n",
        "  \"000010000\",\n",
        "  \"000111000\",\n",
        "  \"001010100\",\n",
        "  \"000010000\",\n",
        "  \"000010000\",\n",
        "  \"000010000\",\n",
        "  \"000010000\",\n",
        "  \"000010000\",\n",
        "  \"000010000\"\n",
        "]\n",
        "\n",
        "up = pattern_from_strings(up_pat)\n",
        "down = reverse(up, dims=1)\n",
        "function rot90cw(M)\n",
        "    return reverse(permutedims(M, (2,1)), dims=2)\n",
        "end\n",
        "function rot90ccw(M)\n",
        "    return reverse(permutedims(M, (2,1)), dims=1)\n",
        "end\n",
        "right = rot90cw(up)\n",
        "left = rot90ccw(up)\n",
        "\n",
        "# Mostrar plantillas (texto)\n",
        "for (name, M) in zip([\"up\",\"down\",\"left\",\"right\"], [up,down,left,right])\n",
        "    println(\"\\nPlantilla: \", name)\n",
        "    for i in 1:N\n",
        "        println(join(string.(M[i,:]), \"\"))\n",
        "    end\n",
        "end\n"
      ]
    },
    {
      "cell_type": "markdown",
      "id": "GLq5IFzlj_Mz",
      "metadata": {
        "id": "GLq5IFzlj_Mz"
      },
      "source": [
        "#2) Generación de Datos de Entrenamiento:\n",
        "Se crea un conjunto de datos sintético. Toma los patrones perfectos y les añade \"ruido\" (invierte aleatoriamente algunos píxeles) para simular imágenes imperfectas que puedan seguir siendo clasificables."
      ]
    },
    {
      "cell_type": "code",
      "execution_count": 5,
      "id": "BhGkyMeOj_M0",
      "metadata": {
        "colab": {
          "base_uri": "https://localhost:8080/"
        },
        "id": "BhGkyMeOj_M0",
        "outputId": "cca78bb1-8d65-4b6a-aaf8-c2f033351e49"
      },
      "outputs": [
        {
          "output_type": "execute_result",
          "data": {
            "text/plain": [
              "gen_samples (generic function with 1 method)"
            ]
          },
          "metadata": {},
          "execution_count": 5
        }
      ],
      "source": [
        "\n",
        "function add_noise(M::Array{Int,2}; p::Float64=0.05)\n",
        "    R = copy(M)\n",
        "    for idx in eachindex(R)\n",
        "        if rand() < p\n",
        "            R[idx] = 1 - R[idx]\n",
        "        end\n",
        "    end\n",
        "    return R\n",
        "end\n",
        "\n",
        "function mat_to_obs(M::Array{Int,2})\n",
        "    v = vec(transpose(M))  # aplana por filas: fila-major\n",
        "    return [x==0 ? 1 : 2 for x in v] #por lo de indexación\n",
        "end\n",
        "\n",
        "function gen_samples(pattern::Array{Int,2}, n::Int; noise::Float64=0.05)\n",
        "    seqs = Vector{Vector{Int}}()\n",
        "    mats = Vector{Array{Int,2}}()\n",
        "    for i in 1:n\n",
        "        M = add_noise(pattern, p=noise)\n",
        "        push!(mats, M)\n",
        "        push!(seqs, mat_to_obs(M))\n",
        "    end\n",
        "    return seqs, mats\n",
        "end\n"
      ]
    },
    {
      "cell_type": "markdown",
      "id": "DaeZL4Mrj_M0",
      "metadata": {
        "id": "DaeZL4Mrj_M0"
      },
      "source": [
        "## 3) Implementación HMM  — Forward/Backward escalado y Baum–Welch\n",
        "\n",
        "Implementamos funciones para entrenamiento y evaluación.\n",
        "\n",
        "Se definen las funciones forward y backward que implementan los algoritmos hacia adelante y hacia atrás. Estos algoritmos sirven para calcular probabilidades de secuencias observadas dado un modelo HMM.\n",
        "\n",
        "También se define la función Baum–Welch que ajusta los parámetros de un HMM cuando se conocen los estados ocultos.\n"
      ]
    },
    {
      "cell_type": "code",
      "execution_count": 6,
      "id": "5m9sSoMYj_M1",
      "metadata": {
        "colab": {
          "base_uri": "https://localhost:8080/"
        },
        "id": "5m9sSoMYj_M1",
        "outputId": "a00c1cee-7543-445b-83e9-a4b1185f682f"
      },
      "outputs": [
        {
          "output_type": "execute_result",
          "data": {
            "text/plain": [
              "model_loglik (generic function with 1 method)"
            ]
          },
          "metadata": {},
          "execution_count": 6
        }
      ],
      "source": [
        "epsval() = eps(Float64) #evita errores de div por cero\n",
        "function init_hmm(K::Int, M::Int)\n",
        "    A = rand(K,K)\n",
        "    A .= A ./ sum(A, dims=2)\n",
        "    B = rand(K,M)\n",
        "    B .= B ./ sum(B, dims=2)\n",
        "    π = rand(K)\n",
        "    π ./= sum(π)\n",
        "    return A, B, π\n",
        "end\n",
        "\n",
        "#La función forward calcula la probabilidad de observar una secuencia parcial\n",
        "#hasta el tiempo t, terminando en un cierto estado oculto.\n",
        "function forward_scaled(O::Vector{Int}, A::Array{Float64,2}, B::Array{Float64,2}, π::Vector{Float64})\n",
        "    K = size(A,1); T = length(O)\n",
        "    α = zeros(Float64, K, T)\n",
        "    c = zeros(Float64, T)\n",
        "    for k in 1:K\n",
        "        α[k,1] = π[k] * B[k, O[1]]\n",
        "    end\n",
        "    c[1] = sum(α[:,1])\n",
        "    c[1] = c[1] == 0.0 ? epsval() : c[1]\n",
        "    α[:,1] ./= c[1]\n",
        "    for t in 2:T\n",
        "        for k in 1:K\n",
        "            α[k,t] = B[k, O[t]] * sum(α[:,t-1] .* A[:,k])\n",
        "        end\n",
        "        c[t] = sum(α[:,t])\n",
        "        c[t] = c[t] == 0.0 ? epsval() : c[t]\n",
        "        α[:,t] ./= c[t]\n",
        "    end\n",
        "    loglik = sum(log.(c))\n",
        "    return α, c, loglik\n",
        "end\n",
        "\n",
        "#La función backward calcula la probabilidad de observar la secuencia desde t+1\n",
        "#hasta el final, dado que estamos en un cierto estado en el tiempo t.\n",
        "function backward_scaled(O::Vector{Int}, A::Array{Float64,2}, B::Array{Float64,2}, c::Vector{Float64})\n",
        "    K = size(A,1); T = length(O)\n",
        "    β = zeros(Float64, K, T)\n",
        "    β[:,T] .= 1.0\n",
        "    β[:,T] ./= c[T]\n",
        "    for t in (T-1):-1:1\n",
        "        for i in 1:K\n",
        "            s = 0.0\n",
        "            for j in 1:K\n",
        "                s += A[i,j] * B[j, O[t+1]] * β[j, t+1]\n",
        "            end\n",
        "            β[i,t] = s\n",
        "        end\n",
        "        β[:,t] ./= c[t]\n",
        "    end\n",
        "    return β\n",
        "end\n",
        "\n",
        "function compute_gamma_xi(O::Vector{Int}, A::Array{Float64,2}, B::Array{Float64,2}, π::Vector{Float64})\n",
        "    α, c, loglik = forward_scaled(O,A,B,π)\n",
        "    β = backward_scaled(O,A,B,c)\n",
        "    K = size(A,1); T = length(O)\n",
        "    gamma = zeros(Float64, K, T)\n",
        "    xi = zeros(Float64, K, K, max(0,T-1))\n",
        "    for t in 1:T\n",
        "        denom = sum(α[:,t] .* β[:,t])\n",
        "        denom = denom == 0.0 ? epsval() : denom\n",
        "        gamma[:,t] = (α[:,t] .* β[:,t]) ./ denom\n",
        "    end\n",
        "    for t in 1:T-1\n",
        "        denom = 0.0\n",
        "        for i in 1:K, j in 1:K\n",
        "            denom += α[i,t] * A[i,j] * B[j, O[t+1]] * β[j, t+1]\n",
        "        end\n",
        "        denom = denom == 0.0 ? epsval() : denom\n",
        "        for i in 1:K, j in 1:K\n",
        "            xi[i,j,t] = α[i,t] * A[i,j] * B[j, O[t+1]] * β[j, t+1] / denom\n",
        "        end\n",
        "    end\n",
        "    return gamma, xi, loglik\n",
        "end\n",
        "\n",
        "\n",
        "#estima la matriz de emisión, transición y el vector de probabilidades iniciales para maximizar\n",
        "#la probabilidad de las observaciones dadas.\n",
        "function baum_welch(sequences::Vector{Vector{Int}}, K::Int; M::Int=2, max_iter::Int=50, tol::Float64=1e-4)\n",
        "    A, B, π = init_hmm(K, M)\n",
        "    prev_ll = -Inf\n",
        "    for iter in 1:max_iter\n",
        "        A_num = zeros(Float64, K, K)\n",
        "        A_den = zeros(Float64, K)\n",
        "        B_num = zeros(Float64, K, M)\n",
        "        B_den = zeros(Float64, K)\n",
        "        π_acc = zeros(Float64, K)\n",
        "        total_loglik = 0.0\n",
        "        for O in sequences\n",
        "            gamma, xi, loglik = compute_gamma_xi(O, A, B, π)\n",
        "            total_loglik += loglik\n",
        "            T = length(O)\n",
        "            π_acc .+= gamma[:,1]\n",
        "            if T > 1\n",
        "                for t in 1:(T-1)\n",
        "                    A_num .+= xi[:,:,t]\n",
        "                    A_den .+= gamma[:,t]\n",
        "                end\n",
        "            end\n",
        "            for t in 1:T\n",
        "                for k in 1:K\n",
        "                    B_num[k, O[t]] += gamma[k,t]\n",
        "                    B_den[k] += gamma[k,t]\n",
        "                end\n",
        "            end\n",
        "        end\n",
        "        π = π_acc ./ sum(π_acc)\n",
        "        for i in 1:K\n",
        "            for j in 1:K\n",
        "                A[i,j] = A_den[i] == 0.0 ? 1.0/K : A_num[i,j] / (A_den[i] + epsval())\n",
        "            end\n",
        "            s = sum(A[i,:])\n",
        "            A[i,:] ./= (s == 0.0 ? 1.0 : s)\n",
        "        end\n",
        "        for k in 1:K\n",
        "            for v in 1:M\n",
        "                B[k,v] = B_num[k,v] / (B_den[k] + epsval())\n",
        "            end\n",
        "            s = sum(B[k,:])\n",
        "            B[k,:] ./= (s == 0.0 ? 1.0 : s)\n",
        "        end\n",
        "        if iter > 1 && abs(total_loglik - prev_ll) < tol * (abs(prev_ll) + epsval())\n",
        "            println(\"Convergencia en iteración \", iter, \", loglik = \", total_loglik)\n",
        "            break\n",
        "        end\n",
        "        prev_ll = total_loglik\n",
        "    end\n",
        "    return Dict(:A=>A, :B=>B, :π=>π, :loglik=>prev_ll)\n",
        "end\n",
        "\n",
        "function model_loglik(O::Vector{Int}, model::Dict)\n",
        "    _, _, loglik = forward_scaled(O, model[:A], model[:B], model[:π])\n",
        "    return loglik\n",
        "end\n"
      ]
    },
    {
      "cell_type": "markdown",
      "id": "gWfAV26Xj_M1",
      "metadata": {
        "id": "gWfAV26Xj_M1"
      },
      "source": [
        "## 4) Dataset, entrenamiento y evaluación\n",
        "\n",
        "Se genera el dataset de entrenamiento y prueba, y se entrena un HMM por clase, se usarán 160 datos, de modo que 120 sean de entrenamiento y 40 de testeo.\n",
        "\n"
      ]
    },
    {
      "cell_type": "code",
      "execution_count": 88,
      "id": "cJbKrrYTj_M2",
      "metadata": {
        "colab": {
          "base_uri": "https://localhost:8080/"
        },
        "id": "cJbKrrYTj_M2",
        "outputId": "313d1990-3970-4758-9d3b-fbdac99a759e"
      },
      "outputs": [
        {
          "output_type": "stream",
          "name": "stdout",
          "text": [
            "Dataset creado. Ejemplos por clase (train/test):\n",
            "Clase 1: train=600 test=100\n",
            "Clase 2: train=600 test=100\n",
            "Clase 3: train=600 test=100\n",
            "Clase 4: train=600 test=100\n",
            "Entrenando clase 1...\n",
            "  loglik entreno (aprox): -22801.389488639343\n",
            "Entrenando clase 2...\n",
            "  loglik entreno (aprox): -22903.810914916347\n",
            "Entrenando clase 3...\n",
            "Convergencia en iteración 54, loglik = -17107.286640375896\n",
            "  loglik entreno (aprox): -17108.87644602906\n",
            "Entrenando clase 4...\n",
            "Convergencia en iteración 76, loglik = -17032.581661088778\n",
            "  loglik entreno (aprox): -17034.24531988564\n",
            "Accuracy en test: 72.0%\n",
            "Clase 1: correct=80 / total=100 => 80.0%\n",
            "Clase 2: correct=24 / total=100 => 24.0%\n",
            "Clase 3: correct=87 / total=100 => 87.0%\n",
            "Clase 4: correct=97 / total=100 => 97.0%\n"
          ]
        }
      ],
      "source": [
        "Ntrain = 600\n",
        "Ntest = 100\n",
        "noise = 0.04\n",
        "classes = Dict(1=>up, 2=>down, 3=>left, 4=>right)\n",
        "train_seqs = Dict{Int, Vector{Vector{Int}}}()\n",
        "train_mats = Dict{Int, Vector{Array{Int,2}}}()\n",
        "test_seqs = Dict{Int, Vector{Vector{Int}}}()\n",
        "test_mats = Dict{Int, Vector{Array{Int,2}}}()\n",
        "for (lab, pat) in pairs(classes)\n",
        "    s, ms = gen_samples(pat, Ntrain, noise=noise)\n",
        "    train_seqs[lab] = s\n",
        "    train_mats[lab] = ms\n",
        "    Random.seed!(1235)\n",
        "    ts, tms = gen_samples(pat, Ntest, noise=noise)\n",
        "    test_seqs[lab] = ts\n",
        "    test_mats[lab] = tms\n",
        "end\n",
        "println(\"Dataset creado. Ejemplos por clase (train/test):\")\n",
        "for lab in sort(collect(keys(classes)))\n",
        "    println(\"Clase $lab: train=$(length(train_seqs[lab])) test=$(length(test_seqs[lab]))\")\n",
        "end\n",
        "\n",
        "K = 8  # estados ocultos\n",
        "models = Dict{Int, Dict}()\n",
        "for lab in sort(collect(keys(classes)))\n",
        "    println(\"Entrenando clase $lab...\")\n",
        "    models[lab] = baum_welch(train_seqs[lab], K; M=2, max_iter=80)\n",
        "    println(\"  loglik entreno (aprox): \", models[lab][:loglik])\n",
        "end\n",
        "\n",
        "function evaluate_models(models, test_seqs)\n",
        "    total = 0; correct = 0\n",
        "    perclass = Dict{Int, Tuple{Int,Int}}()\n",
        "    for lab in keys(test_seqs)\n",
        "        perclass[lab] = (0,0)\n",
        "    end\n",
        "    lablist = sort(collect(keys(models)))\n",
        "    for lab in lablist\n",
        "        for O in test_seqs[lab]\n",
        "            scores = [model_loglik(O, models[k]) for k in lablist]\n",
        "            idx = findmax(scores)[2]\n",
        "            pred = lablist[idx]\n",
        "            total += 1\n",
        "            if pred == lab\n",
        "                correct += 1\n",
        "                perclass[lab] = (perclass[lab][1]+1, perclass[lab][2]+1)\n",
        "            else\n",
        "                perclass[lab] = (perclass[lab][1], perclass[lab][2]+1)\n",
        "            end\n",
        "        end\n",
        "    end\n",
        "    return correct/total, perclass\n",
        "end\n",
        "\n",
        "acc, perclass = evaluate_models(models, test_seqs)\n",
        "println(\"Accuracy en test: \", round(acc*100, digits=2), \"%\")\n",
        "for (k,v) in sort(collect(perclass))\n",
        "    println(\"Clase $k: correct=$(v[1]) / total=$(v[2]) => \", round(100*v[1]/v[2], digits=2), \"%\")\n",
        "end\n"
      ]
    },
    {
      "cell_type": "code",
      "source": [
        "#La siguiente parte es solo para ver como está trabajando:\n",
        "\n",
        "function evaluate_models_confusion(models, test_seqs)\n",
        "    lablist = sort(collect(keys(models)))\n",
        "    nclasses = length(lablist)\n",
        "\n",
        "    # matriz de confusión: filas = verdadera clase, columnas = predicha\n",
        "    confmat = zeros(Int, nclasses, nclasses)\n",
        "\n",
        "    total = 0\n",
        "    correct = 0\n",
        "    perclass = Dict{Int, Tuple{Int,Int}}()\n",
        "    for lab in lablist\n",
        "        perclass[lab] = (0,0)\n",
        "    end\n",
        "\n",
        "    for (i, lab) in enumerate(lablist)\n",
        "        for O in test_seqs[lab]\n",
        "            scores = [model_loglik(O, models[k]) for k in lablist]\n",
        "            idx = findmax(scores)[2]\n",
        "            pred = lablist[idx]\n",
        "            j = findfirst(==(pred), lablist)  # índice de columna\n",
        "            confmat[i,j] += 1\n",
        "            total += 1\n",
        "            if pred == lab\n",
        "                correct += 1\n",
        "                perclass[lab] = (perclass[lab][1]+1, perclass[lab][2]+1)\n",
        "            else\n",
        "                perclass[lab] = (perclass[lab][1], perclass[lab][2]+1)\n",
        "            end\n",
        "        end\n",
        "    end\n",
        "\n",
        "    acc = correct/total\n",
        "    return acc, perclass, confmat, lablist\n",
        "end\n",
        "acc, perclass, confmat, lablist = evaluate_models_confusion(models, test_seqs)\n",
        "\n",
        "println(\"Accuracy en test: \", round(acc*100, digits=2), \"%\")\n",
        "for (k,v) in sort(collect(perclass))\n",
        "    println(\"Clase $k: correct=$(v[1]) / total=$(v[2]) => \",\n",
        "            round(100*v[1]/v[2], digits=2), \"%\")\n",
        "end\n",
        "\n",
        "println(\"\\nMatriz de confusión (filas = verdadero, columnas = predicho):\")\n",
        "println(\"     \", join(lablist, \"\\t\"))\n",
        "for (i, lab) in enumerate(lablist)\n",
        "    println(\"$(lab)  \", join(confmat[i,:], \"\\t\"))\n",
        "end\n"
      ],
      "metadata": {
        "colab": {
          "base_uri": "https://localhost:8080/"
        },
        "id": "S7eGzGzervig",
        "outputId": "e1e4c896-9e5a-418f-94ff-3bf1a2cc8bcc"
      },
      "id": "S7eGzGzervig",
      "execution_count": 89,
      "outputs": [
        {
          "output_type": "stream",
          "name": "stdout",
          "text": [
            "Accuracy en test: 72.0%\n",
            "Clase 1: correct=80 / total=100 => 80.0%\n",
            "Clase 2: correct=24 / total=100 => 24.0%\n",
            "Clase 3: correct=87 / total=100 => 87.0%\n",
            "Clase 4: correct=97 / total=100 => 97.0%\n",
            "\n",
            "Matriz de confusión (filas = verdadero, columnas = predicho):\n",
            "     1\t2\t3\t4\n",
            "1  80\t20\t0\t0\n",
            "2  76\t24\t0\t0\n",
            "3  0\t2\t87\t11\n",
            "4  0\t1\t2\t97\n"
          ]
        }
      ]
    },
    {
      "cell_type": "markdown",
      "source": [
        "Podemos ver que el modelo 2 que se encarga de clasificar las flechas hacia abajo tiene problemas, esto puede deberse a la similitud que se tiene con flechas hacia abajo, como se ve en la matriz de confusión."
      ],
      "metadata": {
        "id": "8Oy7Y5qI_5-c"
      },
      "id": "8Oy7Y5qI_5-c"
    },
    {
      "cell_type": "markdown",
      "id": "T2cY0CoVj_M2",
      "metadata": {
        "id": "T2cY0CoVj_M2"
      },
      "source": [
        "## 5) Bootstrap (reentrenar sobre remuestreos del training set)\n",
        " Cada remuestreo reentrena modelos por clase\n",
        "y evalúa en el conjunto de prueba fijo.\n"
      ]
    },
    {
      "cell_type": "code",
      "execution_count": null,
      "id": "Z2bfwYY2j_M2",
      "metadata": {
        "colab": {
          "base_uri": "https://localhost:8080/"
        },
        "id": "Z2bfwYY2j_M2",
        "outputId": "8c01da7c-64f9-4db4-fd00-f3fb01ea6206"
      },
      "outputs": [
        {
          "output_type": "stream",
          "name": "stdout",
          "text": [
            "Convergencia en iteración 8, loglik = -23474.357447709066\n",
            "Convergencia en iteración 14, loglik = -23354.907278049865\n",
            "Convergencia en iteración 3, loglik = -23402.369392833716\n",
            "Convergencia en iteración 8, loglik = -23366.89739084602\n",
            "Convergencia en iteración 19, loglik = -18075.32582988422\n",
            "Convergencia en iteración 11, loglik = -17898.25335653977\n",
            "Convergencia en iteración 13, loglik = -23319.233163382687\n",
            "Convergencia en iteración 6, loglik = -23429.718291614205\n",
            "Convergencia en iteración 14, loglik = -18218.256695011787\n",
            "Convergencia en iteración 12, loglik = -23453.38428666089\n",
            "Convergencia en iteración 8, loglik = -23404.591896821632\n",
            "Convergencia en iteración 38, loglik = -17662.8736861332\n",
            "Convergencia en iteración 7, loglik = -23329.250271556462\n",
            "Convergencia en iteración 6, loglik = -23382.694053765026\n",
            "Convergencia en iteración 18, loglik = -18006.057983005303\n",
            "Convergencia en iteración 12, loglik = -23316.039504884564\n",
            "Convergencia en iteración 38, loglik = -17117.967074133274\n",
            "Convergencia en iteración 3, loglik = -23390.303602987937\n",
            "Convergencia en iteración 11, loglik = -23440.42582925393\n",
            "Convergencia en iteración 3, loglik = -23393.80503690221\n",
            "Convergencia en iteración 19, loglik = -23354.791438711953\n",
            "Convergencia en iteración 12, loglik = -23446.39643717833\n",
            "Convergencia en iteración 22, loglik = -17988.57453877427\n",
            "Convergencia en iteración 18, loglik = -23315.605567506525\n",
            "Convergencia en iteración 17, loglik = -18168.163848371703\n",
            "Convergencia en iteración 8, loglik = -23512.98557739594\n",
            "Convergencia en iteración 18, loglik = -23370.345563929022\n",
            "Convergencia en iteración 15, loglik = -18101.34601099976\n",
            "Convergencia en iteración 6, loglik = -23307.17033335576\n",
            "Convergencia en iteración 8, loglik = -23403.51126420925\n",
            "Convergencia en iteración 13, loglik = -23434.228708179984\n",
            "Convergencia en iteración 3, loglik = -23494.96273276149\n",
            "Bootstrap 20/200  acc=68.5%\n",
            "Convergencia en iteración 12, loglik = -23364.236197778766\n",
            "Convergencia en iteración 11, loglik = -23399.389891265168\n",
            "Convergencia en iteración 13, loglik = -23491.40092530933\n",
            "Convergencia en iteración 7, loglik = -23273.79842498515\n",
            "Convergencia en iteración 12, loglik = -23434.976056462605\n",
            "Convergencia en iteración 12, loglik = -23422.62980745225\n",
            "Convergencia en iteración 10, loglik = -23276.76533930016\n",
            "Convergencia en iteración 10, loglik = -17939.8894699367\n",
            "Convergencia en iteración 8, loglik = -23388.609347197067\n",
            "Convergencia en iteración 10, loglik = -23313.853803196133\n",
            "Convergencia en iteración 8, loglik = -23400.858207737474\n",
            "Convergencia en iteración 32, loglik = -17110.550352119586\n",
            "Convergencia en iteración 11, loglik = -23531.716290078515\n",
            "Convergencia en iteración 8, loglik = -23357.47992723646\n",
            "Convergencia en iteración 10, loglik = -23377.48913511772\n",
            "Convergencia en iteración 9, loglik = -23424.74851477998\n",
            "Convergencia en iteración 11, loglik = -23406.64360084955\n",
            "Convergencia en iteración 12, loglik = -23366.944254781858\n",
            "Convergencia en iteración 7, loglik = -23412.675752983127\n",
            "Convergencia en iteración 5, loglik = -23407.504419838024\n",
            "Convergencia en iteración 12, loglik = -23425.591568899017\n",
            "Convergencia en iteración 13, loglik = -23398.67323360944\n",
            "Convergencia en iteración 12, loglik = -18162.39621701354\n",
            "Convergencia en iteración 16, loglik = -23357.61488289216\n",
            "Convergencia en iteración 9, loglik = -23341.182007208787\n",
            "Convergencia en iteración 19, loglik = -18140.59481016274\n",
            "Convergencia en iteración 11, loglik = -23315.211541461817\n",
            "Convergencia en iteración 13, loglik = -23533.467047726997\n",
            "Convergencia en iteración 14, loglik = -18150.01172699395\n",
            "Convergencia en iteración 10, loglik = -23425.246261418506\n",
            "Convergencia en iteración 11, loglik = -23382.252444795184\n",
            "Bootstrap 40/200  acc=70.25%\n",
            "Convergencia en iteración 10, loglik = -23442.037097322027\n",
            "Convergencia en iteración 25, loglik = -18159.008220375956\n",
            "Convergencia en iteración 13, loglik = -23415.301213198338\n",
            "Convergencia en iteración 10, loglik = -23481.192921107875\n",
            "Convergencia en iteración 12, loglik = -23297.465189701143\n",
            "Convergencia en iteración 9, loglik = -23476.23960214746\n",
            "Convergencia en iteración 11, loglik = -23427.659292092412\n",
            "Convergencia en iteración 12, loglik = -23415.149780166852\n",
            "Convergencia en iteración 3, loglik = -23367.246886311354\n",
            "Convergencia en iteración 11, loglik = -23390.416661959716\n",
            "Convergencia en iteración 9, loglik = -23388.823256823107\n",
            "Convergencia en iteración 12, loglik = -23328.203060013955\n",
            "Convergencia en iteración 40, loglik = -17200.066191686965\n",
            "Convergencia en iteración 6, loglik = -23368.291246442106\n",
            "Convergencia en iteración 15, loglik = -23337.19272326688\n",
            "Convergencia en iteración 3, loglik = -23494.799532831807\n",
            "Convergencia en iteración 9, loglik = -23486.89485865205\n",
            "Convergencia en iteración 22, loglik = -18074.32784460149\n",
            "Convergencia en iteración 8, loglik = -23443.80126197486\n",
            "Convergencia en iteración 9, loglik = -23509.83413597849\n",
            "Convergencia en iteración 11, loglik = -23276.77470733459\n",
            "Convergencia en iteración 16, loglik = -23356.41517075922\n",
            "Convergencia en iteración 9, loglik = -23390.4025258304\n",
            "Convergencia en iteración 16, loglik = -17963.55430247589\n",
            "Convergencia en iteración 27, loglik = -23398.443494915817\n",
            "Convergencia en iteración 6, loglik = -23421.544157529028\n",
            "Convergencia en iteración 10, loglik = -23411.71935425923\n",
            "Convergencia en iteración 12, loglik = -23320.427207076253\n",
            "Convergencia en iteración 11, loglik = -23462.221951486117\n",
            "Convergencia en iteración 9, loglik = -23481.219312414767\n",
            "Convergencia en iteración "
          ]
        }
      ],
      "source": [
        "B = 200\n",
        "boot_accs = Float64[]\n",
        "boot_perclass = Dict{Int, Vector{Float64}}()\n",
        "for k in keys(classes)\n",
        "    boot_perclass[k] = Float64[]\n",
        "end\n",
        "\n",
        "for b in 1:B\n",
        "    # remuestreo por clase del conjunto de entrenamiento\n",
        "    boot_train = Dict{Int, Vector{Vector{Int}}}()\n",
        "    for (lab, seqs) in pairs(train_seqs)\n",
        "        n = length(seqs)\n",
        "        idxs = [rand(1:n) for _ in 1:n]\n",
        "        boot_train[lab] = [seqs[i] for i in idxs]\n",
        "    end\n",
        "    # entrenar modelos para este bootstrap\n",
        "    boot_models = Dict{Int, Dict}()\n",
        "    for lab in keys(classes)\n",
        "        boot_models[lab] = baum_welch(boot_train[lab], K; M=2, max_iter=40)\n",
        "    end\n",
        "    # evaluar\n",
        "    acc_b, perclass_b = evaluate_models(boot_models, test_seqs)\n",
        "    push!(boot_accs, acc_b)\n",
        "    for (k,v) in perclass_b\n",
        "        c, t = v\n",
        "        push!(boot_perclass[k], t == 0 ? 0.0 : c / t)\n",
        "    end\n",
        "    if b % 20 == 0\n",
        "        println(\"Bootstrap $b/$B  acc=$(round(acc_b*100,digits=2))%\")\n",
        "    end\n",
        "end\n",
        "println(\"Bootstrap completado. mean acc = \", round(mean(boot_accs)*100, digits=2), \"%\")\n"
      ]
    },
    {
      "cell_type": "markdown",
      "id": "REmX8aeCj_M2",
      "metadata": {
        "id": "REmX8aeCj_M2"
      },
      "source": [
        "## 6) Visualización y análisis\n",
        "\n",
        "- Histograma (bootstrap)\n",
        "- Intervalos de confianza percentiles\n"
      ]
    },
    {
      "cell_type": "code",
      "execution_count": 16,
      "id": "SlZK3Ho3yBLU",
      "metadata": {
        "colab": {
          "base_uri": "https://localhost:8080/",
          "height": 416
        },
        "id": "SlZK3Ho3yBLU",
        "outputId": "c4b6be6f-3ef7-48b2-a068-20d158852df2"
      },
      "outputs": [
        {
          "output_type": "stream",
          "name": "stdout",
          "text": [
            "Muestra (izquierda) a visualizar:\n",
            "Clase 1 -> loglik = -39.56526631294604\n",
            "Clase 2 -> loglik = -38.89323062963241\n",
            "Clase 3 -> loglik = -33.429764032801344\n",
            "Clase 4 -> loglik = -33.468755390666715\n"
          ]
        },
        {
          "output_type": "display_data",
          "data": {
            "text/plain": [
              "9×9 Matrix{Gray{Float64}}:\n",
              " 0.0  1.0  0.0  0.0  0.0  0.0  0.0  0.0  0.0\n",
              " 0.0  0.0  0.0  0.0  0.0  0.0  0.0  0.0  1.0\n",
              " 0.0  0.0  1.0  0.0  0.0  0.0  0.0  0.0  0.0\n",
              " 0.0  1.0  0.0  0.0  0.0  0.0  0.0  0.0  0.0\n",
              " 1.0  1.0  1.0  0.0  1.0  1.0  1.0  1.0  1.0\n",
              " 0.0  1.0  0.0  0.0  0.0  0.0  0.0  0.0  0.0\n",
              " 0.0  0.0  1.0  0.0  0.0  0.0  0.0  0.0  0.0\n",
              " 0.0  1.0  0.0  0.0  0.0  0.0  0.0  0.0  0.0\n",
              " 0.0  0.0  0.0  0.0  0.0  0.0  0.0  0.0  0.0"
            ],
            "image/png": "[encoded data removed]",
            "text/html": [
              "<img src=\"data:image/png;base64,iVBORw0KGgoAAAANSUhEUgAAAGwAAABsCAAAAACqDQgRAAAAAXNSR0IArs4c6QAAAARnQU1BAACxjwv8YQUAAAAgY0hSTQAAeiYAAICEAAD6AAAAgOgAAHUwAADqYAAAOpgAABdwnLpRPAAAANdJREFUaAW9wTEOAzEMwDAZ0P+/nI7O0C6Hq0i5HNbwPglJSEISkpCEJCQhCUlIQnIZ3ndYEpKQhCQkIQlJSEISkpCE5IfDGp4bloQkJCEJSUhCEpKQhCQkIbkc1vA+CUlIQhKSkIQkJCEJSUhCHr47rGEdnpOQhCQkIQlJSEISkpCEJOSwDmv4bnhOQhKSkIQkJCEJSUhCEpKQXIZ1WMM7JCQhCUlIQhKSkIQkJCEJyeWwhvdJSEISkpCEJCQhCUlIQhKSy/BfEpKQhCQkIQlJSEISkpCEPmx7C7R+L5YzAAAAAElFTkSuQmCC\">"
            ]
          },
          "metadata": {}
        },
        {
          "output_type": "stream",
          "name": "stdout",
          "text": [
            "Clase 1 -> loglik = -69.78791096495215\n",
            "Clase 2 -> loglik = -70.23310968419347\n",
            "Clase 3 -> loglik = -70.5261787274655\n",
            "Clase 4 -> loglik = -73.47590251837579\n"
          ]
        },
        {
          "output_type": "display_data",
          "data": {
            "text/plain": [
              "9×9 Matrix{Gray{Float64}}:\n",
              " 0.0  0.0  1.0  1.0  1.0  1.0  1.0  1.0  1.0\n",
              " 0.0  0.0  0.0  1.0  1.0  1.0  1.0  1.0  0.0\n",
              " 0.0  0.0  1.0  0.0  1.0  0.0  0.0  0.0  1.0\n",
              " 1.0  1.0  0.0  0.0  0.0  1.0  1.0  0.0  0.0\n",
              " 1.0  0.0  0.0  1.0  1.0  1.0  0.0  0.0  0.0\n",
              " 1.0  0.0  0.0  0.0  1.0  1.0  0.0  0.0  1.0\n",
              " 1.0  0.0  1.0  1.0  0.0  0.0  0.0  0.0  0.0\n",
              " 0.0  0.0  0.0  0.0  1.0  0.0  0.0  1.0  1.0\n",
              " 0.0  0.0  1.0  1.0  1.0  0.0  0.0  0.0  1.0"
            ],
            "image/png": "[encoded data removed]",
            "text/html": [
              "<img src=\"data:image/png;base64,iVBORw0KGgoAAAANSUhEUgAAAGwAAABsCAAAAACqDQgRAAAAAXNSR0IArs4c6QAAAARnQU1BAACxjwv8YQUAAAAgY0hSTQAAeiYAAICEAAD6AAAAgOgAAHUwAADqYAAAOpgAABdwnLpRPAAAAOlJREFUaAW9wUFqBEEMwEAZ9P8vO8fOoYfJLkFV8mD5fxKSkIQkJCEJSUhCEpKQhOTBcCzfGw4JSUhCEpKQhCQkIQlJSELyYDmGYzmGd8shIQlJSEISkpCEJCQhCUnI5W64G47lbjiGQ0ISkpCEJCQhCUlIQhKSkPwy3C3vhncSkpCEJCQhCUlIQhKSkITkD4Zj+cxySEhCEpKQhCQkIQlJSEISkgfL3fCZ4ZCQhCQkIQlJSEISkpCEJORwN9wtx3C33ElIQhKSkIQkJCEJSUhCEpIHy/eGYzkkJCEJSUhCEpKQhCQkIQn9AISeELOWQngOAAAAAElFTkSuQmCC\">"
            ]
          },
          "metadata": {}
        },
        {
          "output_type": "stream",
          "name": "stdout",
          "text": [
            "[0 1 0 0 0 0 0 0 0; 0 0 0 0 0 0 0 0 1; 0 0 1 0 0 0 0 0 0; 0 1 0 0 0 0 0 0 0; 1 1 1 0 1 1 1 1 1; 0 1 0 0 0 0 0 0 0; 0 0 1 0 0 0 0 0 0; 0 1 0 0 0 0 0 0 0; 0 0 0 0 0 0 0 0 0]\n"
          ]
        }
      ],
      "source": [
        "#para ver como clasifica un ejemplp\n",
        "\n",
        "function show_sample_and_scores(M::Array{Int,2}, models::Dict)\n",
        "    O = mat_to_obs(M)\n",
        "    scores = Dict(k => model_loglik(O, models[k]) for k in keys(models))\n",
        "    # ordenar por label\n",
        "    for k in sort(collect(keys(scores)))\n",
        "        println(\"Clase $k -> loglik = \", scores[k])\n",
        "    end\n",
        "    # visualizar\n",
        "    img = Gray.(Float64.(M))\n",
        "    display(img)\n",
        "end\n",
        "\n",
        "# tomar una muestra ruidosa de 'left' y mostrar resultados\n",
        "Msample = add_noise(left, p=0.06)\n",
        "println(\"Muestra (izquierda) a visualizar:\")\n",
        "show_sample_and_scores(Msample, models)\n",
        "\n",
        "show_sample_and_scores(add_noise(up, p=0.3), models)\n",
        "println(Msample)\n",
        "\n",
        "#Se elige el que tenga el valor más grande"
      ]
    },
    {
      "cell_type": "code",
      "execution_count": 17,
      "id": "XCyXLqgfvK5J",
      "metadata": {
        "colab": {
          "base_uri": "https://localhost:8080/"
        },
        "id": "XCyXLqgfvK5J",
        "outputId": "437ca9f7-c29a-4d30-d094-7add7edbf944"
      },
      "outputs": [
        {
          "output_type": "stream",
          "name": "stderr",
          "text": [
            "\u001b[32m\u001b[1m   Resolving\u001b[22m\u001b[39m package versions...\n",
            "\u001b[32m\u001b[1m    Updating\u001b[22m\u001b[39m `~/.julia/environments/v1.11/Project.toml`\n",
            "  \u001b[90m[2913bbd2] \u001b[39m\u001b[92m+ StatsBase v0.34.6\u001b[39m\n",
            "\u001b[32m\u001b[1m  No Changes\u001b[22m\u001b[39m to `~/.julia/environments/v1.11/Manifest.toml`\n"
          ]
        }
      ],
      "source": [
        "Pkg.add(\"StatsBase\")"
      ]
    },
    {
      "cell_type": "code",
      "execution_count": 86,
      "id": "CRuBi2S_wKSX",
      "metadata": {
        "colab": {
          "base_uri": "https://localhost:8080/"
        },
        "id": "CRuBi2S_wKSX",
        "outputId": "21380afb-e950-4382-9af0-150ab22f1ab7"
      },
      "outputs": [
        {
          "output_type": "execute_result",
          "data": {
            "text/plain": [
              "\"/content/hist_accuracy_global.png\""
            ]
          },
          "metadata": {},
          "execution_count": 86
        }
      ],
      "source": [
        "using StatsBase, Plots\n",
        "\n",
        "# Este gráfico se mostrará directamente en la salida\n",
        "histogram(boot_accs .* 100, bins=20, xlabel=\"Accuracy (%)\", ylabel=\"Frecuencia\", title=\"Distribución bootstrap de accuracy global\")\n",
        "savefig(\"hist_accuracy_global.png\") # <--- LÍNEA DESACTIVADA\n"
      ]
    },
    {
      "cell_type": "code",
      "execution_count": 30,
      "id": "JD8fg8c7wqZ4",
      "metadata": {
        "colab": {
          "base_uri": "https://localhost:8080/"
        },
        "id": "JD8fg8c7wqZ4",
        "outputId": "47211e6e-4a4c-4bef-edce-2c408782fd0d"
      },
      "outputs": [
        {
          "output_type": "stream",
          "name": "stdout",
          "text": [
            "IC95 global (percentiles): [0.54359375, 0.72515625]\n",
            "Clase 1 IC95 (percentiles): [0.025, 0.975]\n",
            "Clase 2 IC95 (percentiles): [0.025, 0.9256250000000001]\n",
            "Clase 3 IC95 (percentiles): [0.5737499999999999, 1.0]\n",
            "Clase 4 IC95 (percentiles): [0.47437499999999994, 0.925]\n"
          ]
        }
      ],
      "source": [
        "\n",
        "println(\"IC95 global (percentiles): \", quantile(boot_accs, [0.025, 0.975]))\n",
        "\n",
        "for k in sort(collect(keys(boot_perclass)))\n",
        "    ci = quantile(boot_perclass[k], [0.025, 0.975])\n",
        "    println(\"Clase $k IC95 (percentiles): \", ci)\n",
        "\n",
        "    histogram(boot_perclass[k] .* 100, bins=20, xlabel=\"Accuracy (%)\", title=\"Bootstrap accuracy - clase $k\")\n",
        "\n",
        "end\n"
      ]
    },
    {
      "cell_type": "code",
      "source": [
        "Pkg.add(\"Seaborn\")"
      ],
      "metadata": {
        "colab": {
          "base_uri": "https://localhost:8080/"
        },
        "id": "lqpjWlz2x12R",
        "outputId": "eb78eae4-ac39-44e4-e331-b702cac2b2ca"
      },
      "id": "lqpjWlz2x12R",
      "execution_count": 33,
      "outputs": [
        {
          "output_type": "stream",
          "name": "stderr",
          "text": [
            "\u001b[32m\u001b[1m   Resolving\u001b[22m\u001b[39m package versions...\n",
            "\u001b[32m\u001b[1m   Installed\u001b[22m\u001b[39m Seaborn ────────── v1.1.1\n",
            "\u001b[32m\u001b[1m   Installed\u001b[22m\u001b[39m Lazy ───────────── v0.15.1\n",
            "\u001b[32m\u001b[1m   Installed\u001b[22m\u001b[39m PyPlot ─────────── v2.11.6\n",
            "\u001b[32m\u001b[1m   Installed\u001b[22m\u001b[39m PyCall ─────────── v1.96.4\n",
            "\u001b[32m\u001b[1m   Installed\u001b[22m\u001b[39m Pandas ─────────── v1.6.1\n",
            "\u001b[32m\u001b[1m   Installed\u001b[22m\u001b[39m DataValues ─────── v0.4.13\n",
            "\u001b[32m\u001b[1m   Installed\u001b[22m\u001b[39m TableTraitsUtils ─ v1.0.2\n",
            "\u001b[32m\u001b[1m    Updating\u001b[22m\u001b[39m `~/.julia/environments/v1.11/Project.toml`\n",
            "  \u001b[90m[d2ef9438] \u001b[39m\u001b[92m+ Seaborn v1.1.1\u001b[39m\n",
            "\u001b[32m\u001b[1m    Updating\u001b[22m\u001b[39m `~/.julia/environments/v1.11/Manifest.toml`\n",
            "  \u001b[90m[e7dc6d0d] \u001b[39m\u001b[92m+ DataValues v0.4.13\u001b[39m\n",
            "  \u001b[90m[50d2b5c4] \u001b[39m\u001b[92m+ Lazy v0.15.1\u001b[39m\n",
            "  \u001b[90m[eadc2687] \u001b[39m\u001b[92m+ Pandas v1.6.1\u001b[39m\n",
            "  \u001b[90m[438e738f] \u001b[39m\u001b[92m+ PyCall v1.96.4\u001b[39m\n",
            "  \u001b[90m[d330b81b] \u001b[39m\u001b[92m+ PyPlot v2.11.6\u001b[39m\n",
            "  \u001b[90m[d2ef9438] \u001b[39m\u001b[92m+ Seaborn v1.1.1\u001b[39m\n",
            "  \u001b[90m[382cd787] \u001b[39m\u001b[92m+ TableTraitsUtils v1.0.2\u001b[39m\n",
            "\u001b[32m\u001b[1m    Building\u001b[22m\u001b[39m PyCall → `~/.julia/scratchspaces/44cfe95a-1eb2-52ea-b672-e2afdf69b78f/9816a3826b0ebf49ab4926e2b18842ad8b5c8f04/build.log`\n",
            "\u001b[92m\u001b[1mPrecompiling\u001b[22m\u001b[39m project...\n",
            "   4808.0 ms\u001b[32m  ✓ \u001b[39m\u001b[90mDataValues\u001b[39m\n",
            "   1557.3 ms\u001b[32m  ✓ \u001b[39m\u001b[90mTableTraitsUtils\u001b[39m\n",
            "   9193.3 ms\u001b[32m  ✓ \u001b[39m\u001b[90mLazy\u001b[39m\n",
            "  29899.6 ms\u001b[32m  ✓ \u001b[39m\u001b[90mPyCall\u001b[39m\n",
            "   6300.6 ms\u001b[32m  ✓ \u001b[39m\u001b[90mPandas\u001b[39m\n",
            "   7027.9 ms\u001b[32m  ✓ \u001b[39m\u001b[90mPyPlot\u001b[39m\n",
            "   4843.9 ms\u001b[32m  ✓ \u001b[39mSeaborn\n",
            "  7 dependencies successfully precompiled in 45 seconds. 552 already precompiled.\n"
          ]
        }
      ]
    },
    {
      "cell_type": "code",
      "execution_count": 40,
      "id": "77d017fc",
      "metadata": {
        "colab": {
          "base_uri": "https://localhost:8080/"
        },
        "id": "77d017fc",
        "outputId": "6a4c2e9f-bdef-4832-fc4d-2f3b61350b75"
      },
      "outputs": [
        {
          "output_type": "execute_result",
          "data": {
            "text/plain": [
              "plot_bootstrap_results (generic function with 1 method)"
            ]
          },
          "metadata": {},
          "execution_count": 40
        }
      ],
      "source": [
        "using StatsBase, Statistics, Plots\n",
        "\n",
        "function plot_bootstrap_results(samples::Vector{Float64}; ci=(2.5, 97.5),\n",
        "                                title=\"Resultados bootstrap\", xlabel=\"Estadístico\")\n",
        "    # Percentiles\n",
        "    lower, upper = quantile(samples, ci[1]/100), quantile(samples, ci[2]/100)\n",
        "    mean_val = mean(samples)\n",
        "    median_val = median(samples)\n",
        "\n",
        "    # Histograma + KDE\n",
        "    histogram(samples, bins=30, density=true, color=:skyblue, label=\"Histograma\", alpha=0.6)\n",
        "    # Líneas\n",
        "    vline!([lower, upper], color=:red, linestyle=:dash, label=\"IC: $(ci[1])% - $(ci[2])%\")\n",
        "    vline!([mean_val], color=:blue, linestyle=:solid, label=\"Media = $(round(mean_val,digits=3))\")\n",
        "    vline!([median_val], color=:green, linestyle=:dot, label=\"Mediana = $(round(median_val,digits=3))\")\n",
        "\n",
        "    xlabel!(xlabel)\n",
        "    ylabel!(\"Densidad\")\n",
        "    title!(title)\n",
        "    gui()  # abre la ventana de visualización\n",
        "\n",
        "    println(\"Interpretación:\")\n",
        "    println(\"Intervalo de confianza al $(100-(100-ci[2]+ci[1]))%: [$lower, $upper]\")\n",
        "    println(\"Media: $mean_val, Mediana: $median_val\")\n",
        "end\n"
      ]
    },
    {
      "cell_type": "code",
      "execution_count": 41,
      "id": "2c5f5c36",
      "metadata": {
        "colab": {
          "base_uri": "https://localhost:8080/"
        },
        "id": "2c5f5c36",
        "outputId": "3cd9740c-a81c-43a2-e873-01969d2b2700"
      },
      "outputs": [
        {
          "output_type": "execute_result",
          "data": {
            "text/plain": [
              "plot_bootstrap_convergence (generic function with 1 method)"
            ]
          },
          "metadata": {},
          "execution_count": 41
        }
      ],
      "source": [
        "using Statistics, StatsBase, Plots, Markdown\n",
        "\n",
        "function plot_bootstrap_convergence(samples::Vector{Float64}; ci=(2.5,97.5),\n",
        "                                    title=\"Convergencia del bootstrap\", xlabel=\"Réplicas\")\n",
        "    means, lowers, uppers = Float64[], Float64[], Float64[]\n",
        "    n = length(samples)\n",
        "\n",
        "    # Tomamos submuestras crecientes\n",
        "    for i in 10: max(1, n ÷ 100): n\n",
        "        subset = samples[1:i]\n",
        "        push!(means, mean(subset))\n",
        "        push!(lowers, quantile(subset, ci[1]/100))\n",
        "        push!(uppers, quantile(subset, ci[2]/100))\n",
        "    end\n",
        "\n",
        "    x = 10: max(1, n ÷ 100): n\n",
        "    plot(x, means, label=\"Media\", lw=2)\n",
        "    plot!(x, lowers, ribbon=(uppers.-lowers), color=:skyblue, alpha=0.4, label=\"IC $(ci[1])%-$(ci[2])%\")\n",
        "    title!(title)\n",
        "    xlabel!(xlabel)\n",
        "    ylabel!(\"Valor del estadístico\")\n",
        "    gui()  # muestra la gráfica\n",
        "\n",
        "    display(Markdown(\"**Interpretación:** La gráfica muestra cómo se estabiliza la media y los intervalos de confianza al aumentar el número de réplicas bootstrap.\"))\n",
        "end\n"
      ]
    },
    {
      "cell_type": "code",
      "execution_count": 56,
      "id": "bce2bf6d",
      "metadata": {
        "colab": {
          "base_uri": "https://localhost:8080/"
        },
        "id": "bce2bf6d",
        "outputId": "f1fba40c-954f-43a5-c59f-9414fa43debe"
      },
      "outputs": [
        {
          "output_type": "execute_result",
          "data": {
            "text/plain": [
              "plot_bootstrap_convergence (generic function with 1 method)"
            ]
          },
          "metadata": {},
          "execution_count": 56
        }
      ],
      "source": [
        "using Random, Statistics, StatsBase, Plots, Distributions, Markdown\n",
        "\n",
        "function plot_bootstrap_results(samples::Vector{Float64}; ci=(2.5,97.5),\n",
        "                                title=\"Resultados bootstrap\", xlabel=\"Estadístico\")\n",
        "    # Percentiles\n",
        "    lower = quantile(samples, ci[1]/100)\n",
        "    upper = quantile(samples, ci[2]/100)\n",
        "    mean_val = mean(samples)\n",
        "    median_val = median(samples)\n",
        "\n",
        "    # Histograma + líneas de referencia\n",
        "    histogram(samples, bins=30, density=true, color=:skyblue, alpha=0.6, label=\"Histograma\")\n",
        "    vline!([lower, upper], color=:red, linestyle=:dash, label=\"IC $(ci[1])%-$(ci[2])%\")\n",
        "    vline!([mean_val], color=:blue, linestyle=:solid, label=\"Media = $(round(mean_val,digits=3))\")\n",
        "    vline!([median_val], color=:green, linestyle=:dot, label=\"Mediana = $(round(median_val,digits=3))\")\n",
        "\n",
        "    xlabel!(xlabel)\n",
        "    ylabel!(\"Densidad\")\n",
        "    title!(title)\n",
        "\n",
        "    # Interpretación en Markdown\n",
        "    display(Markdown(\"**Interpretación:** IC al $(ci[1])%-$(ci[2])%: [$lower, $upper]. Media = $mean_val, Mediana = $median_val\"))\n",
        "end\n",
        "\n",
        "# =================================\n",
        "function plot_bootstrap_convergence(samples::Vector{Float64}; ci=(2.5,97.5),\n",
        "                                    title=\"Convergencia del bootstrap\", xlabel=\"Réplicas\")\n",
        "    means, lowers, uppers = Float64[], Float64[], Float64[]\n",
        "    n = length(samples)\n",
        "\n",
        "    step = max(1, n ÷ 100)  # tomamos 100 puntos aprox\n",
        "    for i in 10:step:n\n",
        "        subset = samples[1:i]\n",
        "        push!(means, mean(subset))\n",
        "        push!(lowers, quantile(subset, ci[1]/100))\n",
        "        push!(uppers, quantile(subset, ci[2]/100))\n",
        "    end\n",
        "\n",
        "    x = collect(10:step:n)\n",
        "    plot(x, means, label=\"Media\", lw=2)\n",
        "    plot!(x, means, ribbon=(uppers.-means), color=:skyblue, alpha=0.4, label=\"IC $(ci[1])%-$(ci[2])%\")\n",
        "    title!(title)\n",
        "    xlabel!(xlabel)\n",
        "    ylabel!(\"Valor del estadístico\")\n",
        "\n",
        "    display(Markdown(\"**Interpretación:** La gráfica muestra cómo se estabiliza la media y los intervalos de confianza al aumentar el número de réplicas bootstrap.\"))\n",
        "end\n",
        "\n"
      ]
    },
    {
      "cell_type": "code",
      "source": [
        "\n",
        "Pkg.add(\"Distributions\")"
      ],
      "metadata": {
        "colab": {
          "base_uri": "https://localhost:8080/"
        },
        "id": "rmSndotpzP15",
        "outputId": "9dac9840-97d2-4eb3-f7a7-527e8a7dfcc6"
      },
      "id": "rmSndotpzP15",
      "execution_count": 43,
      "outputs": [
        {
          "output_type": "stream",
          "name": "stderr",
          "text": [
            "\u001b[32m\u001b[1m   Resolving\u001b[22m\u001b[39m package versions...\n",
            "\u001b[32m\u001b[1m    Updating\u001b[22m\u001b[39m `~/.julia/environments/v1.11/Project.toml`\n",
            "  \u001b[90m[31c24e10] \u001b[39m\u001b[92m+ Distributions v0.25.120\u001b[39m\n",
            "\u001b[32m\u001b[1m  No Changes\u001b[22m\u001b[39m to `~/.julia/environments/v1.11/Manifest.toml`\n"
          ]
        }
      ]
    },
    {
      "cell_type": "code",
      "source": [],
      "metadata": {
        "id": "mb6rJJ5_zVgs"
      },
      "id": "mb6rJJ5_zVgs",
      "execution_count": null,
      "outputs": []
    }
  ],
  "metadata": {
    "colab": {
      "provenance": [],
      "include_colab_link": true
    },
    "kernelspec": {
      "display_name": "Julia",
      "name": "julia"
    },
    "language_info": {
      "name": "julia"
    }
  },
  "nbformat": 4,
  "nbformat_minor": 5
}